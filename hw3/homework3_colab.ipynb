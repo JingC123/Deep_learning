{
  "nbformat": 4,
  "nbformat_minor": 0,
  "metadata": {
    "colab": {
      "name": "hw3_original.ipynb",
      "provenance": [],
      "collapsed_sections": []
    },
    "kernelspec": {
      "name": "python3",
      "display_name": "Python 3"
    },
    "accelerator": "GPU"
  },
  "cells": [
    {
      "cell_type": "markdown",
      "metadata": {
        "id": "S2IaITBP0f5R",
        "colab_type": "text"
      },
      "source": [
        "# Homework 3\n",
        "In this homework, we will explore language generation using character-level RNNs. Sounds awesome, right?\n",
        "\n",
        "A few notes at the beginning:\n",
        "- It might be useful for you to read the whole assignment before beginning. Especially the last two sections so you know what to record for turning in.\n",
        "- Much of the required knowledge in this (and past) homeworks about Python, PyTorch, etc. are not explained fully here. Instead, we expect you to use the existing documentation, search engines, Stack Overflow, etc. for implementation details.\n",
        "- That being said, we have listed several functions in parts of the homework where knowing those functions exist would be especially useful. However you will still need to read the docs on how to specifically use the functions.\n",
        "\n",
        "# Part 0: Initial setup\n",
        "You should recognize this code from last time.\n"
      ]
    },
    {
      "cell_type": "code",
      "metadata": {
        "id": "4GS0yuGl0mHQ",
        "colab_type": "code",
        "outputId": "7d713844-7052-4aae-9620-96018af8223d",
        "colab": {
          "base_uri": "https://localhost:8080/",
          "height": 53
        }
      },
      "source": [
        "import torch\n",
        "print('Version', torch.__version__)\n",
        "print('CUDA enabled:', torch.cuda.is_available())\n",
        "  \n",
        "# Running this should then print out:\n",
        "# Version 1.3.0+cu100\n",
        "# CUDA enabled: True"
      ],
      "execution_count": 1,
      "outputs": [
        {
          "output_type": "stream",
          "text": [
            "Version 1.3.1+cu100\n",
            "CUDA enabled: True\n"
          ],
          "name": "stdout"
        }
      ]
    },
    {
      "cell_type": "code",
      "metadata": {
        "id": "6t3ZIEll0pr-",
        "colab_type": "code",
        "outputId": "0448e8ed-31c1-478c-84c7-17041913a784",
        "colab": {
          "base_uri": "https://localhost:8080/",
          "height": 145
        }
      },
      "source": [
        "from google.colab import drive\n",
        "drive.mount('/gdrive')\n",
        "!ls "
      ],
      "execution_count": 2,
      "outputs": [
        {
          "output_type": "stream",
          "text": [
            "Go to this URL in a browser: https://accounts.google.com/o/oauth2/auth?client_id=947318989803-6bn6qk8qdgf4n4g3pfee6491hc0brc4i.apps.googleusercontent.com&redirect_uri=urn%3aietf%3awg%3aoauth%3a2.0%3aoob&response_type=code&scope=email%20https%3a%2f%2fwww.googleapis.com%2fauth%2fdocs.test%20https%3a%2f%2fwww.googleapis.com%2fauth%2fdrive%20https%3a%2f%2fwww.googleapis.com%2fauth%2fdrive.photos.readonly%20https%3a%2f%2fwww.googleapis.com%2fauth%2fpeopleapi.readonly\n",
            "\n",
            "Enter your authorization code:\n",
            "··········\n",
            "Mounted at /gdrive\n",
            "sample_data\n"
          ],
          "name": "stdout"
        }
      ]
    },
    {
      "cell_type": "markdown",
      "metadata": {
        "id": "PEzPNAIY0vkm",
        "colab_type": "text"
      },
      "source": [
        "# Part 1: Upload the dataset\n",
        "We will be using the complete text of Harry Potter as our corpus. We will provide it for you in a not-very-well-formatted way.\n",
        "Run this code to set up the homework3 files.\n",
        "\n"
      ]
    },
    {
      "cell_type": "code",
      "metadata": {
        "id": "CLVJPc_90vsB",
        "colab_type": "code",
        "outputId": "260d81de-ab02-4a89-b234-ff04a4d75111",
        "colab": {
          "base_uri": "https://localhost:8080/",
          "height": 269
        }
      },
      "source": [
        "import os\n",
        "BASE_PATH = '/gdrive/My Drive/colab_files/homework3/'\n",
        "if not os.path.exists(BASE_PATH):\n",
        "    os.makedirs(BASE_PATH)\n",
        "DATA_PATH = '/content/'\n",
        "\n",
        "if not os.path.exists(os.path.join(DATA_PATH, 'harry_potter.txt')):\n",
        "    os.chdir(BASE_PATH)\n",
        "    !wget https://courses.cs.washington.edu/courses/cse599g1/19au/files/homework3.tar.gz\n",
        "    !tar -zxvf homework3.tar.gz\n",
        "    !rm homework3.tar.gz\n",
        "    !cp pt_util.py /content\n",
        "    !cp harry_potter.txt /content\n",
        "os.chdir('/content')\n",
        "!ls"
      ],
      "execution_count": 3,
      "outputs": [
        {
          "output_type": "stream",
          "text": [
            "--2019-11-17 09:46:52--  https://courses.cs.washington.edu/courses/cse599g1/19au/files/homework3.tar.gz\n",
            "Resolving courses.cs.washington.edu (courses.cs.washington.edu)... 128.208.1.193, 2607:4000:200:10::c1\n",
            "Connecting to courses.cs.washington.edu (courses.cs.washington.edu)|128.208.1.193|:443... connected.\n",
            "HTTP request sent, awaiting response... 200 OK\n",
            "Length: 2324076 (2.2M) [application/x-gzip]\n",
            "Saving to: ‘homework3.tar.gz’\n",
            "\n",
            "homework3.tar.gz    100%[===================>]   2.22M  2.24MB/s    in 1.0s    \n",
            "\n",
            "2019-11-17 09:46:54 (2.24 MB/s) - ‘homework3.tar.gz’ saved [2324076/2324076]\n",
            "\n",
            "harry_potter.txt\n",
            "pt_util.py\n",
            "harry_potter.txt  pt_util.py  sample_data\n"
          ],
          "name": "stdout"
        }
      ]
    },
    {
      "cell_type": "code",
      "metadata": {
        "id": "EtJDCZP-NvbI",
        "colab_type": "code",
        "outputId": "838553b5-82a8-4ff6-b95c-d3813b5382f6",
        "colab": {
          "base_uri": "https://localhost:8080/",
          "height": 84
        }
      },
      "source": [
        "!rm doupo.txt\n",
        "!ls"
      ],
      "execution_count": 0,
      "outputs": [
        {
          "output_type": "stream",
          "text": [
            "rm: cannot remove 'doupo.txt': No such file or directory\n",
            "checkpoints\t\t      harry_potter.txt\t__pycache__\n",
            "harry_potter_chars_test.pkl   logs\t\tsample_data\n",
            "harry_potter_chars_train.pkl  pt_util.py\n"
          ],
          "name": "stdout"
        }
      ]
    },
    {
      "cell_type": "code",
      "metadata": {
        "id": "4sZypYG_FroE",
        "colab_type": "code",
        "outputId": "a06c2836-6641-4ed6-88a3-9db4aec0941d",
        "colab": {
          "base_uri": "https://localhost:8080/",
          "height": 67
        }
      },
      "source": [
        "if not os.path.exists(os.path.join(DATA_PATH, 'doupo.txt')):\n",
        "    os.chdir(BASE_PATH)\n",
        "    !cp doupo.txt /content\n",
        "os.chdir('/content')\n",
        "!ls"
      ],
      "execution_count": 0,
      "outputs": [
        {
          "output_type": "stream",
          "text": [
            "checkpoints\t\t     harry_potter_chars_train.pkl  pt_util.py\n",
            "doupo.txt\t\t     harry_potter.txt\t\t   __pycache__\n",
            "harry_potter_chars_test.pkl  logs\t\t\t   sample_data\n"
          ],
          "name": "stdout"
        }
      ]
    },
    {
      "cell_type": "code",
      "metadata": {
        "id": "hd1Qx66s19Pl",
        "colab_type": "code",
        "colab": {}
      },
      "source": [
        "import torch\n",
        "import torch.nn as nn\n",
        "from torchvision import datasets\n",
        "from torchvision import transforms\n",
        "import numpy as np\n",
        "import torch.nn.functional as F\n",
        "import torch.optim as optim\n",
        "import sys\n",
        "import pickle\n",
        "import re\n",
        "import pt_util\n",
        "import math"
      ],
      "execution_count": 0,
      "outputs": []
    },
    {
      "cell_type": "markdown",
      "metadata": {
        "id": "AxIvm7h62tfx",
        "colab_type": "text"
      },
      "source": [
        "#Part 2: Preprocessing the data\n",
        "In previous homeworks, we have provided a cleaned version of the data. But this time you'll have to do some of that cleaning yourselves.\n",
        "\n",
        "Hints:\n",
        "- train_text and test_text should contain the class indices for the character tokens from the data file. For example, if the text was **`\"ABA CDBE\"`**, the token version would be a numpy array with contents `[0, 1, 0, 2, 3, 4, 1, 5]`\n",
        "- The harry_potter.txt file has weird spacing. You might want to replace all the whitespace characters (space, \\n, \\t, etc.) in the file with the space character.\n",
        "- You should output two files. One for training and one for testing. The training should be the first 80% of the characters.\n",
        "- voc2ind is a map from character to the index of the class for that character. There is no predefined vocabulary, but you will need to be consistent across all tasks that use the vocabulary. For the example above, the voc2ind would be `{'A': 0, 'B': 1, ' ': 2, 'C': 3, 'D': 4, 'E': 5}`\n",
        "- ind2voc is the inverse of voc2ind\n",
        "\n"
      ]
    },
    {
      "cell_type": "code",
      "metadata": {
        "id": "448YL7JFa8qN",
        "colab_type": "code",
        "outputId": "e183aa86-1443-4757-fe1c-d2bde922be05",
        "colab": {
          "base_uri": "https://localhost:8080/",
          "height": 118
        }
      },
      "source": [
        "with open(DATA_PATH + 'doupo.txt','r',encoding='utf-8') as f:\n",
        "    data = f.read()\n",
        "print(len(data))\n",
        "data=data[:10]\n",
        "print(data)\n",
        "print(\"-----------------\")\n",
        "data_split = data.split()\n",
        "print(data_split)\n",
        "print(\"-----------------\")\n",
        "data = ' '.join(data_split)\n",
        "data = data.replace('\\n', ' ').replace('\\t', ' ')\n",
        "print(data)"
      ],
      "execution_count": 0,
      "outputs": [
        {
          "output_type": "stream",
          "text": [
            "5562048\n",
            "   三十年河东，三\n",
            "-----------------\n",
            "['三十年河东，三']\n",
            "-----------------\n",
            "三十年河东，三\n"
          ],
          "name": "stdout"
        }
      ]
    },
    {
      "cell_type": "code",
      "metadata": {
        "id": "-rKF2U7vQhNi",
        "colab_type": "code",
        "outputId": "dd1e9aad-fde5-4978-c59f-711489f922ef",
        "colab": {
          "base_uri": "https://localhost:8080/",
          "height": 101
        }
      },
      "source": [
        "with open(DATA_PATH + 'harry_potter.txt') as f:\n",
        "    data = f.read()\n",
        "\n",
        "data=data[:3]\n",
        "print(data)\n",
        "print(\"-----------------\")\n",
        "data_split = data.split()\n",
        "print(data_split)\n",
        "print(\"-----------------\")\n",
        "data = ' '.join(data_split)\n",
        "data = data.replace('\\n', ' ').replace('\\t', ' ')\n",
        "print(data)"
      ],
      "execution_count": 0,
      "outputs": [
        {
          "output_type": "stream",
          "text": [
            "Har\n",
            "-----------------\n",
            "['Har']\n",
            "-----------------\n",
            "Har\n"
          ],
          "name": "stdout"
        }
      ]
    },
    {
      "cell_type": "code",
      "metadata": {
        "id": "6oZq_S6k3GpB",
        "colab_type": "code",
        "colab": {}
      },
      "source": [
        "def prepare_data(data_path):\n",
        "    with open(data_path) as f:\n",
        "        # This reads all the data from the file, but does not do any processing on it.\n",
        "        data = f.read()\n",
        "    \n",
        "    # TODO Add more preprocessing\n",
        "    '''\n",
        "    data_split = data.split()\n",
        "    data = ' '.join(data_split)\n",
        "    data = data.replace('\\n', ' ').replace('\\t', ' ')\n",
        "    voc2ind = {}\n",
        "    '''\n",
        "    voc2ind = {}\n",
        "    data = re.sub('\\s+', ' ', data)\n",
        "    \n",
        "    # Compute voc2ind and transform the data into an integer representation of the tokens.\n",
        "    count=0\n",
        "    data_arr = [0]*len(data)\n",
        "    for num, char in enumerate(data):\n",
        "         # TODO Fill this in\n",
        "        if char not in voc2ind:\n",
        "            voc2ind[char]=count\n",
        "            count+=1\n",
        "        data_arr[num]=voc2ind[char]\n",
        "\n",
        "\n",
        "    ind2voc = {val: key for key, val in voc2ind.items()}\n",
        "\n",
        "    train_len = round(len(data_arr)*4/5)\n",
        "    train_text = data_arr[:train_len] # TODO Fill this in\n",
        "    test_text = data_arr[train_len:] # TODO Fill this in\n",
        "    # print(voc2ind)\n",
        "\n",
        "    pickle.dump({'tokens': train_text, 'ind2voc': ind2voc, 'voc2ind':voc2ind}, open(DATA_PATH + 'harry_potter_chars_train.pkl', 'wb'))\n",
        "    pickle.dump({'tokens': test_text, 'ind2voc': ind2voc, 'voc2ind':voc2ind}, open(DATA_PATH + 'harry_potter_chars_test.pkl', 'wb'))\n",
        "########change file name################################################    \n",
        "prepare_data(DATA_PATH + 'harry_potter.txt')\n",
        "\n",
        "class Vocabulary(object):\n",
        "    def __init__(self, data_file):\n",
        "        with open(data_file, 'rb') as data_file:\n",
        "            dataset = pickle.load(data_file)\n",
        "        self.ind2voc = dataset['ind2voc']\n",
        "        self.voc2ind = dataset['voc2ind']\n",
        "\n",
        "    # Returns a string representation of the tokens.\n",
        "    def array_to_words(self, arr):\n",
        "        return ''.join([self.ind2voc[int(ind)] for ind in arr])\n",
        "\n",
        "    # Returns a torch tensor representing each token in words.\n",
        "    def words_to_array(self, words):\n",
        "        return torch.LongTensor([self.voc2ind[word] for word in words])\n",
        "\n",
        "    # Returns the size of the vocabulary.\n",
        "    def __len__(self):\n",
        "        return len(self.voc2ind)"
      ],
      "execution_count": 0,
      "outputs": []
    },
    {
      "cell_type": "code",
      "metadata": {
        "id": "aC9kRn-NMVvp",
        "colab_type": "code",
        "outputId": "42e97d30-f036-409c-be0a-fc26fa7a053b",
        "colab": {
          "base_uri": "https://localhost:8080/",
          "height": 69
        }
      },
      "source": [
        "!ls"
      ],
      "execution_count": 0,
      "outputs": [
        {
          "output_type": "stream",
          "text": [
            "checkpoints\t\t     harry_potter_chars_train.pkl  pt_util.py\n",
            "doupo.txt\t\t     harry_potter.txt\t\t   __pycache__\n",
            "harry_potter_chars_test.pkl  logs\t\t\t   sample_data\n"
          ],
          "name": "stdout"
        }
      ]
    },
    {
      "cell_type": "markdown",
      "metadata": {
        "id": "kzX1tUv8ilYV",
        "colab_type": "text"
      },
      "source": [
        "#Part 3: Loading the data\n",
        "This is possibly the trickiest part of this homework. In the past, batches were not correlated with each other, and the data within a single minibatch was also not correlated, so you could basically draw randomly from the dataset. That is not the case here. Instead, you should return sequences from the dataset.\n",
        "\n",
        "Your instructions are to implement the following. First, imagine splitting the dataset into N chunks where N is the batch_size and the chunks are contiguous parts of the data. For each batch, you should return one sequence from each of the chunks. The batches should also be sequential an example is described below.\n",
        "\n",
        "The data is 20 characters long `[1, 2, 3, ...20]`. The batch size is `2` and the sequence length is `4`\n",
        "- The 1st batch should consist of  `(data =  [[1, 2, 3, 4]; [11, 12, 13, 14]], labels = [[2, 3, 4, 5]; [12, 13, 14, 15]])`\n",
        "- The 2nd batch should consist of `(data =  [[5, 6, 7, 8]; [15, 16, 17, 18]], labels = [[6, 7, 8, 9]; [16, 17, 18, 19]])`\n",
        "- The 3rd batch should consist of `(data =  [[9]; [19]], labels = [[10]; [20]])`\n",
        "- There is no 4th batch.\n",
        "\n",
        "Hints:\n",
        "- To work with the rest of the code, your len(dataset) should be a multiple of the batch_size. \n",
        "- Removing the last bit to make the data the proper shape will probably give better results than padding with 0s.\n",
        "- It is OK to have one batch be shorter than the others as long as all entries in that batch are the same length.\n",
        "- Notice that the last label in one batch is the first data in the next batch. Be careful of off-by-one errors.\n",
        "\n"
      ]
    },
    {
      "cell_type": "code",
      "metadata": {
        "id": "44v6o0JwiwXk",
        "colab_type": "code",
        "colab": {}
      },
      "source": [
        "class HarryPotterDataset(torch.utils.data.Dataset):\n",
        "    def __init__(self, data_file, sequence_length, batch_size):\n",
        "        super(HarryPotterDataset, self).__init__()\n",
        "\n",
        "        self.sequence_length = sequence_length\n",
        "        self.batch_size = batch_size\n",
        "        self.vocab = Vocabulary(data_file)\n",
        "\n",
        "        with open(data_file, 'rb') as data_pkl:\n",
        "            dataset = pickle.load(data_pkl)\n",
        "\n",
        "        # TODO: Any preprocessing on the data to get it to the right shape.\n",
        "        data = dataset['tokens']\n",
        "        # for 2 batch, we divide the data to 2 chunk\n",
        "        chunk_num = int(len(data)/self.batch_size)\n",
        "        self.data = data[:chunk_num*self.batch_size]\n",
        "        self.len= (int((chunk_num-2)/sequence_length)+1)*batch_size\n",
        "        self.chunk_num=chunk_num\n",
        "        # the sequence length of the last batch\n",
        "        self.lastSeqLen=int(chunk_num%sequence_length-1)\n",
        "        # print(\"the sequence length of last batch is\", self.lastSeqLen)\n",
        "        # print(\"how many batches the data have\",self.len/batch_size)\n",
        "\n",
        "    def __len__(self):\n",
        "        # TODO return the number of unique sequences you have, not the number of characters.m\n",
        "        return self.len\n",
        "         # raise NotImplementedError \n",
        "        \n",
        "    def __getitem__(self, idx):\n",
        "        # Return the data and label for a character sequence as described above.\n",
        "        # The data and labels should be torch long tensors.\n",
        "        # You should return a single entry for the batch using the idx to decide which chunk you are \n",
        "        # in and how far down in the chunk you are.\n",
        "        if idx>=self.len:\n",
        "          return None\n",
        "        batch_size=self.batch_size\n",
        "        chunk_num=self.chunk_num\n",
        "        batch_idx = int(idx/batch_size)\n",
        "        chunk_idx = idx%batch_size\n",
        "        # print(batch_idx)\n",
        "        # print(chunk_idx)\n",
        "        if batch_idx==self.len/batch_size-1:\n",
        "          data_idx = int(chunk_idx*chunk_num+batch_idx*self.sequence_length)\n",
        "          data = self.data[data_idx:data_idx+self.lastSeqLen]\n",
        "          label = self.data[data_idx+1:data_idx+self.lastSeqLen+1]\n",
        "        else:\n",
        "          data_idx = int(chunk_idx*chunk_num+batch_idx*self.lastSeqLen)\n",
        "          data = self.data[data_idx:data_idx+self.sequence_length]\n",
        "          label = self.data[data_idx+1:data_idx+self.sequence_length+1]\n",
        "        data = torch.Tensor(data).long()\n",
        "        label = torch.Tensor(label).long()\n",
        "        return data, label\n",
        "\n",
        "    def vocab_size(self):\n",
        "        return len(self.vocab)"
      ],
      "execution_count": 0,
      "outputs": []
    },
    {
      "cell_type": "markdown",
      "metadata": {
        "id": "8kYKDZoj2jCV",
        "colab_type": "text"
      },
      "source": [
        "# Part 4: Defining the Network\n",
        "This time we will provide a network that should already get pretty good performance. You will still need to write the forward pass and inference functions. You may also choose to modify the network to try and get better performance.\n",
        "\n",
        "__BE CAREFUL:__ We have specified that the data will be fed in as batch_first. Look at the documentation if you are confused about the implications of this as well as how to call it for the forward pass. https://pytorch.org/docs/stable/nn.html#torch.nn.GRU\n",
        "    \n"
      ]
    },
    {
      "cell_type": "code",
      "metadata": {
        "id": "mO21UXLj2ixn",
        "colab_type": "code",
        "colab": {}
      },
      "source": [
        "TEMPERATURE = 0.5\n",
        "\n",
        "class HarryPotterNet(nn.Module):\n",
        "    def __init__(self, vocab_size, feature_size):\n",
        "        super(HarryPotterNet, self).__init__()\n",
        "        self.vocab_size = vocab_size\n",
        "        self.feature_size = feature_size\n",
        "        self.encoder = nn.Embedding(self.vocab_size, self.feature_size)\n",
        "        self.gru = nn.GRU(self.feature_size, self.feature_size, batch_first=True)\n",
        "        self.decoder = nn.Linear(self.feature_size, self.vocab_size)\n",
        "        \n",
        "        # This shares the encoder and decoder weights as described in lecture.\n",
        "        self.decoder.weight = self.encoder.weight\n",
        "        self.decoder.bias.data.zero_()\n",
        "        \n",
        "        self.best_accuracy = -1\n",
        "    \n",
        "    def forward(self, x, hidden_state=None):\n",
        "        batch_size = x.shape[0]\n",
        "        sequence_length = x.shape[1]\n",
        "        # TODO finish defining the forward pass.\n",
        "        # You should return the output from the decoder as well as the hidden state given by the gru.\n",
        "        # print(\"input data size is\", x.size())\n",
        "        encoded = self.encoder(x)\n",
        "        # print(\"after encode, the size is\", encoded.size())\n",
        "        output,hidden_state=self.gru(encoded,hidden_state)\n",
        "        # print(\"after gru, the size is\", output.size())\n",
        "        output = self.decoder(output)\n",
        "        return output, hidden_state\n",
        "        # raise NotImplementedError \n",
        "\n",
        "\n",
        "    # This defines the function that gives a probability distribution and implements the temperature computation.\n",
        "    def inference(self, x, hidden_state=None, temperature=1):\n",
        "        x = x.view(-1, 1)\n",
        "        x, hidden_state = self.forward(x, hidden_state)\n",
        "        x = x.view(1, -1)\n",
        "        x = x / max(temperature, 1e-20)\n",
        "        x = F.softmax(x, dim=1)\n",
        "        return x, hidden_state\n",
        "\n",
        "    # Predefined loss function\n",
        "    def loss(self, prediction, label, reduction='mean'):\n",
        "        loss_val = F.cross_entropy(prediction.view(-1, self.vocab_size), label.view(-1), reduction=reduction)\n",
        "        return loss_val\n",
        "\n",
        "    # Saves the current model\n",
        "    def save_model(self, file_path, num_to_keep=1):\n",
        "        pt_util.save(self, file_path, num_to_keep)\n",
        "\n",
        "    # Saves the best model so far\n",
        "    def save_best_model(self, accuracy, file_path, num_to_keep=1):\n",
        "        if accuracy > self.best_accuracy:\n",
        "            self.save_model(file_path, num_to_keep)\n",
        "            self.best_accuracy = accuracy\n",
        "\n",
        "    def load_model(self, file_path):\n",
        "        pt_util.restore(self, file_path)\n",
        "\n",
        "    def load_last_model(self, dir_path):\n",
        "        return pt_util.restore_latest(self, dir_path)"
      ],
      "execution_count": 0,
      "outputs": []
    },
    {
      "cell_type": "markdown",
      "metadata": {
        "id": "TWkEP5-Ndn3Z",
        "colab_type": "text"
      },
      "source": [
        "# Implement LSTM "
      ]
    },
    {
      "cell_type": "code",
      "metadata": {
        "colab_type": "code",
        "id": "2b9Yq812dg0s",
        "colab": {}
      },
      "source": [
        "TEMPERATURE = 0.5\n",
        "\n",
        "class HarryPotterNet(nn.Module):\n",
        "    def __init__(self, vocab_size, feature_size):\n",
        "        super(HarryPotterNet, self).__init__()\n",
        "        self.vocab_size = vocab_size\n",
        "        self.feature_size = feature_size\n",
        "        self.encoder = nn.Embedding(self.vocab_size, self.feature_size)\n",
        "        self.lstm = nn.LSTM(self.feature_size, self.feature_size, batch_first=True)\n",
        "        self.decoder = nn.Linear(self.feature_size, self.vocab_size)\n",
        "        \n",
        "        # This shares the encoder and decoder weights as described in lecture.\n",
        "        self.decoder.weight = self.encoder.weight\n",
        "        self.decoder.bias.data.zero_()\n",
        "        \n",
        "        self.best_accuracy = -1\n",
        "    \n",
        "    def forward(self, x, hidden_state=None):\n",
        "        batch_size = x.shape[0]\n",
        "        sequence_length = x.shape[1]\n",
        "        # TODO finish defining the forward pass.\n",
        "        encoded = self.encoder(x)\n",
        "        output,(hn, cn)=self.lstm(encoded,hidden_state)\n",
        "        output = self.decoder(output)\n",
        "        return output, (hn, cn)\n",
        "        # raise NotImplementedError \n",
        "\n",
        "\n",
        "    # This defines the function that gives a probability distribution and implements the temperature computation.\n",
        "    def inference(self, x, hidden_state=None, temperature=1):\n",
        "        x = x.view(-1, 1)\n",
        "        x, hidden_state = self.forward(x, hidden_state)\n",
        "        x = x.view(1, -1)\n",
        "        x = x / max(temperature, 1e-20)\n",
        "        x = F.softmax(x, dim=1)\n",
        "        return x, hidden_state\n",
        "\n",
        "    # Predefined loss function\n",
        "    def loss(self, prediction, label, reduction='mean'):\n",
        "        loss_val = F.cross_entropy(prediction.view(-1, self.vocab_size), label.view(-1), reduction=reduction)\n",
        "        return loss_val\n",
        "\n",
        "    # Saves the current model\n",
        "    def save_model(self, file_path, num_to_keep=1):\n",
        "        pt_util.save(self, file_path, num_to_keep)\n",
        "\n",
        "    # Saves the best model so far\n",
        "    def save_best_model(self, accuracy, file_path, num_to_keep=1):\n",
        "        if accuracy > self.best_accuracy:\n",
        "            self.save_model(file_path, num_to_keep)\n",
        "            self.best_accuracy = accuracy\n",
        "\n",
        "    def load_model(self, file_path):\n",
        "        pt_util.restore(self, file_path)\n",
        "\n",
        "    def load_last_model(self, dir_path):\n",
        "        return pt_util.restore_latest(self, dir_path)"
      ],
      "execution_count": 0,
      "outputs": []
    },
    {
      "cell_type": "markdown",
      "metadata": {
        "id": "tnegPC-JtvPm",
        "colab_type": "text"
      },
      "source": [
        "#Implement transformer"
      ]
    },
    {
      "cell_type": "code",
      "metadata": {
        "colab_type": "code",
        "id": "CkRhEgF4b4OA",
        "colab": {}
      },
      "source": [
        "TEMPERATURE = 0.5\n",
        "\n",
        "class PositionalEncoding(nn.Module):\n",
        "    r\"\"\"Inject some information about the relative or absolute position of the tokens\n",
        "        in the sequence. The positional encodings have the same dimension as\n",
        "        the embeddings, so that the two can be summed. Here, we use sine and cosine\n",
        "        functions of different frequencies.\n",
        "    .. math::\n",
        "        \\text{PosEncoder}(pos, 2i) = sin(pos/10000^(2i/d_model))\n",
        "        \\text{PosEncoder}(pos, 2i+1) = cos(pos/10000^(2i/d_model))\n",
        "        \\text{where pos is the word position and i is the embed idx)\n",
        "    Args:\n",
        "        d_model: the embed dim (required).\n",
        "        dropout: the dropout value (default=0.1).\n",
        "        max_len: the max. length of the incoming sequence (default=5000).\n",
        "    Examples:\n",
        "        >>> pos_encoder = PositionalEncoding(d_model)\n",
        "    \"\"\"\n",
        "\n",
        "    def __init__(self, d_model, dropout=0.1, max_len=5000):\n",
        "        super(PositionalEncoding, self).__init__()\n",
        "        self.dropout = nn.Dropout(p=dropout)\n",
        "\n",
        "        pe = torch.zeros(max_len, d_model)\n",
        "        position = torch.arange(0, max_len, dtype=torch.float).unsqueeze(1)\n",
        "        div_term = torch.exp(torch.arange(0, d_model, 2).float() * (-math.log(10000.0) / d_model))\n",
        "        pe[:, 0::2] = torch.sin(position * div_term)\n",
        "        pe[:, 1::2] = torch.cos(position * div_term)\n",
        "        pe = pe.unsqueeze(0).transpose(0, 1)\n",
        "        self.register_buffer('pe', pe)\n",
        "\n",
        "    def forward(self, x):\n",
        "        r\"\"\"Inputs of forward function\n",
        "        Args:\n",
        "            x: the sequence fed to the positional encoder model (required).\n",
        "        Shape:\n",
        "            x: [sequence length, batch size, embed dim]\n",
        "            output: [sequence length, batch size, embed dim]\n",
        "        Examples:\n",
        "            >>> output = pos_encoder(x)\n",
        "        \"\"\"\n",
        "\n",
        "        x = x + self.pe[:x.size(0), :]\n",
        "        return self.dropout(x)\n",
        "\n",
        "class TransformerModel(nn.Module):\n",
        "    \"\"\"Container module with an encoder, a recurrent or transformer module, and a decoder.\"\"\"\n",
        "\n",
        "    def __init__(self, ntoken, ninp, nhead=2, nhid=26, nlayers=2, dropout=0.1):\n",
        "        super(TransformerModel, self).__init__()\n",
        "        try:\n",
        "            from torch.nn import TransformerEncoder, TransformerEncoderLayer\n",
        "        except:\n",
        "            raise ImportError('TransformerEncoder module does not exist in PyTorch 1.1 or lower.')\n",
        "        self.model_type = 'Transformer'\n",
        "        self.src_mask = None\n",
        "        self.pos_encoder = PositionalEncoding(ninp, dropout)\n",
        "        encoder_layers = TransformerEncoderLayer(ninp, nhead, nhid, dropout)\n",
        "        self.transformer_encoder = TransformerEncoder(encoder_layers, nlayers)\n",
        "        self.encoder = nn.Embedding(ntoken, ninp)\n",
        "        self.ninp = ninp\n",
        "        self.decoder = nn.Linear(ninp, ntoken)\n",
        "        self.vocab_size = ntoken\n",
        "\n",
        "        self.init_weights()\n",
        "\n",
        "        self.best_accuracy = -1\n",
        "\n",
        "    def _generate_square_subsequent_mask(self, sz):\n",
        "        mask = (torch.triu(torch.ones(sz, sz)) == 1).transpose(0, 1)\n",
        "        mask = mask.float().masked_fill(mask == 0, float('-inf')).masked_fill(mask == 1, float(0.0))\n",
        "        return mask\n",
        "\n",
        "    def init_weights(self):\n",
        "        initrange = 0.1\n",
        "        self.encoder.weight.data.uniform_(-initrange, initrange)\n",
        "        self.decoder.bias.data.zero_()\n",
        "        self.decoder.weight.data.uniform_(-initrange, initrange)\n",
        "\n",
        "    def forward(self, src, has_mask=True):\n",
        "        if has_mask:\n",
        "            device = src.device\n",
        "            if self.src_mask is None or self.src_mask.size(0) != len(src):\n",
        "                mask = self._generate_square_subsequent_mask(len(src)).to(device)\n",
        "                self.src_mask = mask\n",
        "        else:\n",
        "            self.src_mask = None\n",
        "        #print(src.size())\n",
        "        src = self.encoder(src) * math.sqrt(self.ninp)\n",
        "        #print(src.size())\n",
        "        src = self.pos_encoder(src)\n",
        "        #print(src.size())\n",
        "        output = self.transformer_encoder(src, self.src_mask)\n",
        "        #print(src.size())\n",
        "        output = self.decoder(output)\n",
        "        #print(src.size())\n",
        "        # raise NotImplementedError\n",
        "        return output\n",
        "    # This defines the function that gives a probability distribution\n",
        "    def inference(self, x, hidden_state=None, temperature=1):\n",
        "        x = x.view(-1, 1)\n",
        "        x = self.forward(x)\n",
        "        x = x.view(1, -1)\n",
        "        x = x / max(temperature, 1e-20)\n",
        "        x = F.softmax(x, dim=1)\n",
        "        return x, hidden_state\n",
        "\n",
        "    # Predefined loss function\n",
        "    def loss(self, prediction, label, reduction='mean'):\n",
        "        loss_val = F.cross_entropy(prediction.view(-1, self.vocab_size), label.reshape(-1), reduction=reduction)\n",
        "        return loss_val\n",
        "\n",
        "    # Saves the current model\n",
        "    def save_model(self, file_path, num_to_keep=1):\n",
        "        pt_util.save(self, file_path, num_to_keep)\n",
        "\n",
        "    # Saves the best model so far\n",
        "    def save_best_model(self, accuracy, file_path, num_to_keep=1):\n",
        "        if accuracy > self.best_accuracy:\n",
        "            self.save_model(file_path, num_to_keep)\n",
        "            self.best_accuracy = accuracy\n",
        "\n",
        "    def load_model(self, file_path):\n",
        "        pt_util.restore(self, file_path)\n",
        "\n",
        "    def load_last_model(self, dir_path):\n",
        "        return pt_util.restore_latest(self, dir_path)"
      ],
      "execution_count": 0,
      "outputs": []
    },
    {
      "cell_type": "markdown",
      "metadata": {
        "id": "iEQZIoB0jY5h",
        "colab_type": "text"
      },
      "source": [
        "#Part 5: Character Generation\n",
        "\n",
        "In class we discussed three algorithms for creating sequences.\n",
        "1. Max: Choose the most likely value\n",
        "2. Sample: Sample from the distribution output by the network.\n",
        "3. Beam Search: Sample from the distribution and use the Beam Search algorithm.\n",
        "\n",
        "The beam search algorithm is as follows:\n",
        "```\n",
        "1. Initialize the beam list with the single existing empty beam\n",
        "2. Repeat for the sequence length:\n",
        "    1. For each beam in the beam list:\n",
        "        1. Compute the next distribution over the output space for that state\n",
        "        2. Sample from the distribution with replacement\n",
        "        3. For each sample:\n",
        "            1. Compute its score\n",
        "            2. Record its hidden state and chosen value\n",
        "        4. Add all the samples to the new beam list      \n",
        "     2. Rank the new beam list\n",
        "     3. Throw out all but the top N beams\n",
        " 3. Return the top beam's chosen values.\n",
        "```\n",
        "\n",
        "\n",
        "Hints:\n",
        "- np.random.choice and torch.multinomial will both help with the sampling as they can take in a weighted probability distribution and sample from that distribution.\n",
        "- For beam search you will need to keep a running score of the likelihood of each sequence. If you multiply the likelihoods, you will encounter float underflow. Instead, you should add the log likelihoods.\n",
        "- For beam search, you will need to keep track of multiple hidden states related to which branch you are currently expanding.\n",
        "- For beam search, you should search over the beam, but only return the top result in the end.\n",
        "- It may be useful to do the training part before the character generation part so you have some model to test.\n",
        "- Feel free to play around with the `BEAM_WIDTH`.\n"
      ]
    },
    {
      "cell_type": "code",
      "metadata": {
        "id": "9XTxy4eq3UYR",
        "colab_type": "code",
        "colab": {}
      },
      "source": [
        "TEMPERATURE = 1\n",
        "BEAM_WIDTH = 10\n",
        "\n",
        "def max_sampling_strategy(sequence_length, model, output, hidden, vocab):\n",
        "    outputs = []\n",
        "    for ii in range(sequence_length):\n",
        "        # TODO\n",
        "        char_idx = torch.argmax(output[0])\n",
        "        # print(char_idx)\n",
        "        outputs.append(char_idx)\n",
        "        output,hidden = model.inference(char_idx, hidden)\n",
        "        # raise NotImplementedError\n",
        "    return outputs\n",
        "    \n",
        "def sample_sampling_strategy(sequence_length, model, output, hidden, vocab):\n",
        "    outputs = []\n",
        "    for ii in range(sequence_length):\n",
        "        # TODO\n",
        "        char_idx = torch.multinomial(output,1)[0]\n",
        "        # score = torch.log(output[0][char_idx].float())\n",
        "        # char_score = np.log(output[char_idx])\n",
        "        # print(output[0][char])\n",
        "        outputs.append(char_idx)\n",
        "        output, hidden = model.inference(char_idx, hidden)\n",
        "        # raise NotImplementedError\n",
        "    return outputs\n",
        "\n",
        "def beam_sampling_strategy(sequence_length, beam_width, model, output, hidden, vocab):\n",
        "    outputs = []\n",
        "    beam_list = [([], output, hidden, 0)]\n",
        "    # TODO\n",
        "    # It is like tree structure, everytime you generate new beam, delete old beam\n",
        "    for ii in range(sequence_length):\n",
        "        new_beamList = []\n",
        "        for beam in beam_list:\n",
        "            char_list = torch.multinomial(beam[1][0], beam_width, replacement=True)\n",
        "            for char_idx in char_list:\n",
        "                char_score = torch.log(beam[1][0][char_idx].float())\n",
        "                new_outputs = beam[0]+[char_idx]\n",
        "                new_output, new_hidden = model.inference(char_idx,beam[2],temperature=1)\n",
        "                new_score = beam[3] + char_score\n",
        "                new_beam = (new_outputs, new_output, new_hidden, new_score)\n",
        "                new_beamList.append(new_beam)\n",
        "        beam_list= sorted(new_beamList, key=lambda x: x[3], reverse=True)[:beam_width]\n",
        "    outputs = beam_list[0][0]\n",
        "    # raise NotImplementedError\n",
        "    return outputs\n",
        "\n",
        "def generate_language(model, device, seed_words, sequence_length, vocab, sampling_strategy='max', beam_width=BEAM_WIDTH):\n",
        "    model.eval()\n",
        "\n",
        "    with torch.no_grad():\n",
        "        seed_words_arr = vocab.words_to_array(seed_words)\n",
        "\n",
        "        # Computes the initial hidden state from the prompt (seed words).\n",
        "        hidden = None\n",
        "        for ind in seed_words_arr:\n",
        "            data = ind.to(device)\n",
        "            output, hidden = model.inference(data, hidden)\n",
        "            # print(hidden.size())\n",
        "        if sampling_strategy == 'max':\n",
        "            outputs = max_sampling_strategy(sequence_length, model, output, hidden, vocab)\n",
        "\n",
        "        elif sampling_strategy == 'sample':\n",
        "            outputs = sample_sampling_strategy(sequence_length, model, output, hidden, vocab)\n",
        "\n",
        "        elif sampling_strategy == 'beam':\n",
        "            outputs = beam_sampling_strategy(sequence_length, beam_width, model, output, hidden, vocab)\n",
        "\n",
        "\n",
        "        return vocab.array_to_words(seed_words_arr.tolist() + outputs)"
      ],
      "execution_count": 0,
      "outputs": []
    },
    {
      "cell_type": "markdown",
      "metadata": {
        "id": "Havsk_RJi_i5",
        "colab_type": "text"
      },
      "source": [
        "# Part 6: Training\n",
        "Again, we are providing training code for you. Have a look at the train function though as it implements the exact forward approximate backward computation, which may be of interest to you. You will still need to add the perplexity computation (read more in part 9 about how to do this)."
      ]
    },
    {
      "cell_type": "code",
      "metadata": {
        "id": "L0Wq8hRy0UEX",
        "colab_type": "code",
        "colab": {}
      },
      "source": [
        "import tqdm\n",
        "def repackage_hidden(h):\n",
        "    \"\"\"Wraps hidden states in new Tensors, to detach them from their history.\"\"\"\n",
        "    if isinstance(h, torch.Tensor):\n",
        "        return h.detach()\n",
        "    else:\n",
        "        return tuple(repackage_hidden(v) for v in h)\n",
        "\n",
        "def train(model, device, optimizer, train_loader, lr, epoch, log_interval):\n",
        "    model.train()\n",
        "    losses = []\n",
        "    hidden = None\n",
        "    running_loss = 0.0\n",
        "    for batch_idx, (data, label) in enumerate(tqdm.tqdm(train_loader)):\n",
        "        data, label = data.to(device), label.to(device)\n",
        "        # Separates the hidden state across batches. \n",
        "        # Otherwise the backward would try to go all the way to the beginning every time.\n",
        "        if hidden is not None:\n",
        "            hidden = repackage_hidden(hidden)\n",
        "        optimizer.zero_grad()\n",
        "        output, hidden = model(data)\n",
        "        pred = output.max(-1)[1]\n",
        "        loss = model.loss(output, label)\n",
        "\n",
        "        losses.append(loss.item())\n",
        "        loss.backward()\n",
        "        optimizer.step()\n",
        "        if batch_idx % log_interval == 0:\n",
        "            print('Train Epoch: {} [{}/{} ({:.0f}%)]\\tLoss: {:.6f}'.format(\n",
        "                epoch, batch_idx * len(data), len(train_loader.dataset),\n",
        "                100. * batch_idx / len(train_loader), loss.item()))\n",
        "    return np.mean(losses)\n",
        "\n",
        "\n",
        "def test(model, device, test_loader):\n",
        "    model.eval()\n",
        "    test_loss = 0\n",
        "    correct = 0\n",
        "\n",
        "    with torch.no_grad():\n",
        "        hidden = None\n",
        "        for batch_idx, (data, label) in enumerate(test_loader):\n",
        "            data, label = data.to(device), label.to(device)\n",
        "            output, hidden = model(data, hidden)\n",
        "            test_loss += model.loss(output, label, reduction='mean').item()\n",
        "            pred = output.max(-1)[1]\n",
        "            correct_mask = pred.eq(label.view_as(pred))\n",
        "            num_correct = correct_mask.sum().item()\n",
        "            correct += num_correct\n",
        "            # Comment this out to avoid printing test results\n",
        "            if batch_idx % 10 == 0:\n",
        "                print('Input\\t%s\\nGT\\t%s\\npred\\t%s\\n\\n' % (\n",
        "                    test_loader.dataset.vocab.array_to_words(data[0]),\n",
        "                    test_loader.dataset.vocab.array_to_words(label[0]),\n",
        "                    test_loader.dataset.vocab.array_to_words(pred[0])))\n",
        "\n",
        "    test_loss /= len(test_loader)\n",
        "    test_accuracy = 100. * correct / (len(test_loader.dataset) * test_loader.dataset.sequence_length)\n",
        "\n",
        "    print('\\nTest set: Average loss: {:.4f}, Accuracy: {}/{} ({:.0f}%)\\n'.format(\n",
        "        test_loss, correct, len(test_loader.dataset) * test_loader.dataset.sequence_length,\n",
        "        100. * correct / (len(test_loader.dataset) * test_loader.dataset.sequence_length)))\n",
        "    return test_loss, test_accuracy"
      ],
      "execution_count": 0,
      "outputs": []
    },
    {
      "cell_type": "markdown",
      "metadata": {
        "id": "2udi4bgIu6B9",
        "colab_type": "text"
      },
      "source": [
        "#Transformer training"
      ]
    },
    {
      "cell_type": "code",
      "metadata": {
        "colab_type": "code",
        "id": "ZauoBZvrcz40",
        "colab": {}
      },
      "source": [
        "import tqdm\n",
        "def repackage_hidden(h):\n",
        "    \"\"\"Wraps hidden states in new Tensors, to detach them from their history.\"\"\"\n",
        "    if isinstance(h, torch.Tensor):\n",
        "        return h.detach()\n",
        "    else:\n",
        "        return tuple(repackage_hidden(v) for v in h)\n",
        "\n",
        "def train(model, device, optimizer, train_loader, lr, epoch, log_interval):\n",
        "    model.train()\n",
        "    losses = []\n",
        "    hidden = None\n",
        "    for batch_idx, (data, label) in enumerate(tqdm.tqdm(train_loader)):\n",
        "        data, label = data.to(device), label.to(device)\n",
        "        # Separates the hidden state across batches. \n",
        "        # Otherwise the backward would try to go all the way to the beginning every time.\n",
        "        data = data.transpose(0, 1)\n",
        "        label = label.transpose(0, 1)\n",
        "        if hidden is not None:\n",
        "            hidden = repackage_hidden(hidden)\n",
        "        optimizer.zero_grad()\n",
        "        output = model(data)\n",
        "        pred = output.max(-1)[1]\n",
        "        loss = model.loss(output, label)\n",
        "        losses.append(loss.item())\n",
        "        loss.backward()\n",
        "        optimizer.step()\n",
        "        '''\n",
        "        if batch_idx % log_interval == 0:\n",
        "            print('Train Epoch: {} [{}/{} ({:.0f}%)]\\tLoss: {:.6f}'.format(\n",
        "                epoch, batch_idx * len(data), len(train_loader.dataset),\n",
        "                100. * batch_idx / len(train_loader), loss.item()))\n",
        "        '''\n",
        "    return np.mean(losses)\n",
        "\n",
        "\n",
        "def test(model, device, test_loader):\n",
        "    model.eval()\n",
        "    test_loss = 0\n",
        "    correct = 0\n",
        "\n",
        "    with torch.no_grad():\n",
        "        hidden = None\n",
        "        for batch_idx, (data, label) in enumerate(test_loader):\n",
        "            data, label = data.to(device), label.to(device)\n",
        "            data = data.transpose(0, 1)\n",
        "            label = label.transpose(0, 1)\n",
        "            output = model(data)\n",
        "            test_loss += model.loss(output, label, reduction='mean').item()\n",
        "            pred = output.max(-1)[1]\n",
        "            correct_mask = pred.eq(label.view_as(pred))\n",
        "            num_correct = correct_mask.sum().item()\n",
        "            correct += num_correct\n",
        "            # Comment this out to avoid printing test results\n",
        "            '''\n",
        "            if batch_idx % 10 == 0:\n",
        "                print('Input\\t%s\\nGT\\t%s\\npred\\t%s\\n\\n' % (\n",
        "                    test_loader.dataset.vocab.array_to_words(data[0]),\n",
        "                    test_loader.dataset.vocab.array_to_words(label[0]),\n",
        "                    test_loader.dataset.vocab.array_to_words(pred[0])))\n",
        "            '''\n",
        "\n",
        "    test_loss /= len(test_loader)\n",
        "    test_accuracy = 100. * correct / (len(test_loader.dataset) * test_loader.dataset.sequence_length)\n",
        "\n",
        "    \n",
        "    print('\\nTest set: Average loss: {:.4f}, Accuracy: {}/{} ({:.0f}%)\\n'.format(\n",
        "        test_loss, correct, len(test_loader.dataset) * test_loader.dataset.sequence_length,\n",
        "        100. * correct / (len(test_loader.dataset) * test_loader.dataset.sequence_length)))\n",
        "    \n",
        "    return test_loss, test_accuracy"
      ],
      "execution_count": 0,
      "outputs": []
    },
    {
      "cell_type": "code",
      "metadata": {
        "id": "CibCrwwcipm8",
        "colab_type": "code",
        "colab": {}
      },
      "source": [
        "!rm -r /content/checkpoints\n",
        "!rm -r /content/logs"
      ],
      "execution_count": 0,
      "outputs": []
    },
    {
      "cell_type": "markdown",
      "metadata": {
        "id": "KI6jOS5hvJVs",
        "colab_type": "text"
      },
      "source": [
        "# Transformer main"
      ]
    },
    {
      "cell_type": "code",
      "metadata": {
        "id": "66T-Ylkg0fn1",
        "colab_type": "code",
        "outputId": "f134dfe1-f801-4bc1-c550-48e641d53f44",
        "colab": {
          "base_uri": "https://localhost:8080/",
          "height": 1000
        }
      },
      "source": [
        "def main():\n",
        "    SEQUENCE_LENGTH = 100\n",
        "    BATCH_SIZE = 256\n",
        "    FEATURE_SIZE = 512\n",
        "    TEST_BATCH_SIZE = 256\n",
        "    EPOCHS = 20\n",
        "    LEARNING_RATE = 0.002\n",
        "    WEIGHT_DECAY = 0.0005\n",
        "    USE_CUDA = True\n",
        "    PRINT_INTERVAL = 50\n",
        "    LOG_PATH = DATA_PATH + 'logs/log.pkl'\n",
        "\n",
        "###############################################################################\n",
        "# Load data\n",
        "###############################################################################\n",
        "    data_train = HarryPotterDataset(DATA_PATH + 'harry_potter_chars_train.pkl', SEQUENCE_LENGTH, BATCH_SIZE)\n",
        "    data_test = HarryPotterDataset(DATA_PATH + 'harry_potter_chars_test.pkl', SEQUENCE_LENGTH, TEST_BATCH_SIZE)\n",
        "    vocab = data_train.vocab\n",
        "\n",
        "    use_cuda = USE_CUDA and torch.cuda.is_available()\n",
        "\n",
        "    device = torch.device(\"cuda\" if use_cuda else \"cpu\")\n",
        "    print('Using device', device)\n",
        "    import multiprocessing\n",
        "    num_workers = multiprocessing.cpu_count()\n",
        "    print('num workers:', num_workers)\n",
        "\n",
        "    kwargs = {'num_workers': num_workers,\n",
        "              'pin_memory': True} if use_cuda else {}\n",
        "\n",
        "    train_loader = torch.utils.data.DataLoader(data_train, batch_size=BATCH_SIZE,\n",
        "                                               shuffle=False, **kwargs)\n",
        "    test_loader = torch.utils.data.DataLoader(data_test, batch_size=TEST_BATCH_SIZE,\n",
        "                                              shuffle=False, **kwargs)\n",
        "\n",
        "    model = TransformerModel(data_train.vocab_size(), FEATURE_SIZE).to(device)\n",
        "\n",
        "    # Adam is an optimizer like SGD but a bit fancier. It tends to work faster and better than SGD.\n",
        "    # We will talk more about different optimization methods in class.\n",
        "    optimizer = optim.Adam(model.parameters(), lr=LEARNING_RATE, weight_decay=WEIGHT_DECAY)\n",
        "    start_epoch = model.load_last_model(DATA_PATH + 'checkpoints')\n",
        "\n",
        "    train_losses, test_losses, test_accuracies,train_ppls, test_ppls= pt_util.read_log(LOG_PATH, ([], [], [],[],[]))\n",
        "    test_loss, test_accuracy = test(model, device, test_loader)\n",
        "\n",
        "    test_losses.append((start_epoch, test_loss))\n",
        "    test_accuracies.append((start_epoch, test_accuracy))\n",
        "\n",
        "    try:\n",
        "        for epoch in range(start_epoch, EPOCHS + 1):\n",
        "            lr = LEARNING_RATE * np.power(0.25, (int(epoch / 6)))\n",
        "            train_loss = train(model, device, optimizer, train_loader, lr, epoch, PRINT_INTERVAL)\n",
        "            train_ppl = math.exp(train_loss)\n",
        "            test_loss, test_accuracy = test(model, device, test_loader)\n",
        "            test_ppl = math.exp(test_loss)\n",
        "            train_ppls.append((epoch,train_ppl))\n",
        "            test_ppls.append((epoch, test_ppl))\n",
        "            train_losses.append((epoch, train_loss))\n",
        "            test_losses.append((epoch, test_loss))\n",
        "            test_accuracies.append((epoch, test_accuracy))\n",
        "            pt_util.write_log(LOG_PATH, (train_losses, test_losses, test_accuracies,train_ppls, test_ppls))\n",
        "            model.save_best_model(test_accuracy, DATA_PATH + 'checkpoints/%03d.pt' % epoch)\n",
        "    \n",
        "            seed_words = 'Harry Potter, Voldemort, and Dumbledore walk into a bar. '\n",
        "            #generated_sentence = generate_language(model, device, seed_words, 200, vocab, 'max')\n",
        "            #print('generated max\\t\\t', generated_sentence)\n",
        "            #for ii in range(10):\n",
        "                #generated_sentence = generate_language(model, device, seed_words, 200, vocab, 'sample')\n",
        "                #print('generated sample\\t', generated_sentence)\n",
        "            #generated_sentence = generate_language(model, device, seed_words, 200, vocab, 'beam')\n",
        "            #print('generated beam\\t\\t', generated_sentence)\n",
        "            #print('')\n",
        "\n",
        "    except KeyboardInterrupt as ke:\n",
        "        print('Interrupted')\n",
        "    except:\n",
        "        import traceback\n",
        "        traceback.print_exc()\n",
        "    finally:\n",
        "        print('Saving final model')\n",
        "        model.save_model(DATA_PATH + 'checkpoints/%03d.pt' % epoch, 0)\n",
        "        ep, val = zip(*train_losses)\n",
        "        pt_util.plot(ep, val, 'Train loss', 'Epoch', 'Error')\n",
        "        ep, val = zip(*test_losses)\n",
        "        pt_util.plot(ep, val, 'Test loss', 'Epoch', 'Error')\n",
        "        ep, val = zip(*test_accuracies)\n",
        "        pt_util.plot(ep, val, 'Test accuracy', 'Epoch', 'Error')\n",
        "        ep, val = zip(*train_ppls)\n",
        "        pt_util.plot(ep, val, 'Train perplexity', 'Epoch', 'Error')\n",
        "        ep, val = zip(*test_ppls)\n",
        "        pt_util.plot(ep, val, 'Test perplexity', 'Epoch', 'Error')\n",
        "        return model, vocab, device\n",
        "\n",
        "final_model, vocab, device = main()"
      ],
      "execution_count": 23,
      "outputs": [
        {
          "output_type": "stream",
          "text": [
            "Using device cuda\n",
            "num workers: 2\n"
          ],
          "name": "stdout"
        },
        {
          "output_type": "stream",
          "text": [
            "\r  0%|          | 0/195 [00:00<?, ?it/s]"
          ],
          "name": "stderr"
        },
        {
          "output_type": "stream",
          "text": [
            "\n",
            "Test set: Average loss: 5.2665, Accuracy: 5955/1254400 (0%)\n",
            "\n"
          ],
          "name": "stdout"
        },
        {
          "output_type": "stream",
          "text": [
            "100%|██████████| 195/195 [01:08<00:00,  3.28it/s]\n",
            "  0%|          | 0/195 [00:00<?, ?it/s]"
          ],
          "name": "stderr"
        },
        {
          "output_type": "stream",
          "text": [
            "\n",
            "Test set: Average loss: 2.3525, Accuracy: 394657/1254400 (31%)\n",
            "\n",
            "Saved /content/checkpoints/000.pt\n",
            "\n"
          ],
          "name": "stdout"
        },
        {
          "output_type": "stream",
          "text": [
            "100%|██████████| 195/195 [01:08<00:00,  3.28it/s]\n",
            "  0%|          | 0/195 [00:00<?, ?it/s]"
          ],
          "name": "stderr"
        },
        {
          "output_type": "stream",
          "text": [
            "\n",
            "Test set: Average loss: 1.9373, Accuracy: 545238/1254400 (43%)\n",
            "\n",
            "Saved /content/checkpoints/001.pt\n",
            "\n"
          ],
          "name": "stdout"
        },
        {
          "output_type": "stream",
          "text": [
            "100%|██████████| 195/195 [01:08<00:00,  3.26it/s]\n",
            "  0%|          | 0/195 [00:00<?, ?it/s]"
          ],
          "name": "stderr"
        },
        {
          "output_type": "stream",
          "text": [
            "\n",
            "Test set: Average loss: 1.8048, Accuracy: 587120/1254400 (47%)\n",
            "\n",
            "Saved /content/checkpoints/002.pt\n",
            "\n"
          ],
          "name": "stdout"
        },
        {
          "output_type": "stream",
          "text": [
            "100%|██████████| 195/195 [01:08<00:00,  3.26it/s]\n",
            "  0%|          | 0/195 [00:00<?, ?it/s]"
          ],
          "name": "stderr"
        },
        {
          "output_type": "stream",
          "text": [
            "\n",
            "Test set: Average loss: 1.7631, Accuracy: 600853/1254400 (48%)\n",
            "\n",
            "Saved /content/checkpoints/003.pt\n",
            "\n"
          ],
          "name": "stdout"
        },
        {
          "output_type": "stream",
          "text": [
            "100%|██████████| 195/195 [01:08<00:00,  3.27it/s]\n",
            "  0%|          | 0/195 [00:00<?, ?it/s]"
          ],
          "name": "stderr"
        },
        {
          "output_type": "stream",
          "text": [
            "\n",
            "Test set: Average loss: 1.7414, Accuracy: 609333/1254400 (49%)\n",
            "\n",
            "Saved /content/checkpoints/004.pt\n",
            "\n"
          ],
          "name": "stdout"
        },
        {
          "output_type": "stream",
          "text": [
            "100%|██████████| 195/195 [01:08<00:00,  3.29it/s]\n",
            "  0%|          | 0/195 [00:00<?, ?it/s]"
          ],
          "name": "stderr"
        },
        {
          "output_type": "stream",
          "text": [
            "\n",
            "Test set: Average loss: 1.7331, Accuracy: 612218/1254400 (49%)\n",
            "\n",
            "Saved /content/checkpoints/005.pt\n",
            "\n"
          ],
          "name": "stdout"
        },
        {
          "output_type": "stream",
          "text": [
            "100%|██████████| 195/195 [01:08<00:00,  3.28it/s]\n",
            "  0%|          | 0/195 [00:00<?, ?it/s]"
          ],
          "name": "stderr"
        },
        {
          "output_type": "stream",
          "text": [
            "\n",
            "Test set: Average loss: 1.7254, Accuracy: 614201/1254400 (49%)\n",
            "\n",
            "Saved /content/checkpoints/006.pt\n",
            "\n"
          ],
          "name": "stdout"
        },
        {
          "output_type": "stream",
          "text": [
            "100%|██████████| 195/195 [01:08<00:00,  3.26it/s]\n",
            "  0%|          | 0/195 [00:00<?, ?it/s]"
          ],
          "name": "stderr"
        },
        {
          "output_type": "stream",
          "text": [
            "\n",
            "Test set: Average loss: 1.7266, Accuracy: 613809/1254400 (49%)\n",
            "\n"
          ],
          "name": "stdout"
        },
        {
          "output_type": "stream",
          "text": [
            "100%|██████████| 195/195 [01:08<00:00,  3.26it/s]\n",
            "  0%|          | 0/195 [00:00<?, ?it/s]"
          ],
          "name": "stderr"
        },
        {
          "output_type": "stream",
          "text": [
            "\n",
            "Test set: Average loss: 1.7180, Accuracy: 615785/1254400 (49%)\n",
            "\n",
            "Saved /content/checkpoints/008.pt\n",
            "\n"
          ],
          "name": "stdout"
        },
        {
          "output_type": "stream",
          "text": [
            "100%|██████████| 195/195 [01:08<00:00,  3.27it/s]\n",
            "  0%|          | 0/195 [00:00<?, ?it/s]"
          ],
          "name": "stderr"
        },
        {
          "output_type": "stream",
          "text": [
            "\n",
            "Test set: Average loss: 1.7185, Accuracy: 616383/1254400 (49%)\n",
            "\n",
            "Saved /content/checkpoints/009.pt\n",
            "\n"
          ],
          "name": "stdout"
        },
        {
          "output_type": "stream",
          "text": [
            "100%|██████████| 195/195 [01:08<00:00,  3.28it/s]\n",
            "  0%|          | 0/195 [00:00<?, ?it/s]"
          ],
          "name": "stderr"
        },
        {
          "output_type": "stream",
          "text": [
            "\n",
            "Test set: Average loss: 1.7151, Accuracy: 617451/1254400 (49%)\n",
            "\n",
            "Saved /content/checkpoints/010.pt\n",
            "\n"
          ],
          "name": "stdout"
        },
        {
          "output_type": "stream",
          "text": [
            "100%|██████████| 195/195 [01:08<00:00,  3.27it/s]\n",
            "  0%|          | 0/195 [00:00<?, ?it/s]"
          ],
          "name": "stderr"
        },
        {
          "output_type": "stream",
          "text": [
            "\n",
            "Test set: Average loss: 1.7133, Accuracy: 618187/1254400 (49%)\n",
            "\n",
            "Saved /content/checkpoints/011.pt\n",
            "\n"
          ],
          "name": "stdout"
        },
        {
          "output_type": "stream",
          "text": [
            "100%|██████████| 195/195 [01:08<00:00,  3.24it/s]\n",
            "  0%|          | 0/195 [00:00<?, ?it/s]"
          ],
          "name": "stderr"
        },
        {
          "output_type": "stream",
          "text": [
            "\n",
            "Test set: Average loss: 1.7115, Accuracy: 618294/1254400 (49%)\n",
            "\n",
            "Saved /content/checkpoints/012.pt\n",
            "\n"
          ],
          "name": "stdout"
        },
        {
          "output_type": "stream",
          "text": [
            "100%|██████████| 195/195 [01:08<00:00,  3.27it/s]\n",
            "  0%|          | 0/195 [00:00<?, ?it/s]"
          ],
          "name": "stderr"
        },
        {
          "output_type": "stream",
          "text": [
            "\n",
            "Test set: Average loss: 1.7089, Accuracy: 619546/1254400 (49%)\n",
            "\n",
            "Saved /content/checkpoints/013.pt\n",
            "\n"
          ],
          "name": "stdout"
        },
        {
          "output_type": "stream",
          "text": [
            "100%|██████████| 195/195 [01:08<00:00,  3.27it/s]\n",
            "  0%|          | 0/195 [00:00<?, ?it/s]"
          ],
          "name": "stderr"
        },
        {
          "output_type": "stream",
          "text": [
            "\n",
            "Test set: Average loss: 1.7046, Accuracy: 620655/1254400 (49%)\n",
            "\n",
            "Saved /content/checkpoints/014.pt\n",
            "\n"
          ],
          "name": "stdout"
        },
        {
          "output_type": "stream",
          "text": [
            "100%|██████████| 195/195 [01:08<00:00,  3.28it/s]\n",
            "  0%|          | 0/195 [00:00<?, ?it/s]"
          ],
          "name": "stderr"
        },
        {
          "output_type": "stream",
          "text": [
            "\n",
            "Test set: Average loss: 1.7016, Accuracy: 621575/1254400 (50%)\n",
            "\n",
            "Saved /content/checkpoints/015.pt\n",
            "\n"
          ],
          "name": "stdout"
        },
        {
          "output_type": "stream",
          "text": [
            "100%|██████████| 195/195 [01:08<00:00,  3.28it/s]\n",
            "  0%|          | 0/195 [00:00<?, ?it/s]"
          ],
          "name": "stderr"
        },
        {
          "output_type": "stream",
          "text": [
            "\n",
            "Test set: Average loss: 1.7008, Accuracy: 622794/1254400 (50%)\n",
            "\n",
            "Saved /content/checkpoints/016.pt\n",
            "\n"
          ],
          "name": "stdout"
        },
        {
          "output_type": "stream",
          "text": [
            "100%|██████████| 195/195 [01:08<00:00,  3.25it/s]\n",
            "  0%|          | 0/195 [00:00<?, ?it/s]"
          ],
          "name": "stderr"
        },
        {
          "output_type": "stream",
          "text": [
            "\n",
            "Test set: Average loss: 1.6998, Accuracy: 622908/1254400 (50%)\n",
            "\n",
            "Saved /content/checkpoints/017.pt\n",
            "\n"
          ],
          "name": "stdout"
        },
        {
          "output_type": "stream",
          "text": [
            "100%|██████████| 195/195 [01:08<00:00,  3.29it/s]\n",
            "  0%|          | 0/195 [00:00<?, ?it/s]"
          ],
          "name": "stderr"
        },
        {
          "output_type": "stream",
          "text": [
            "\n",
            "Test set: Average loss: 1.6948, Accuracy: 623908/1254400 (50%)\n",
            "\n",
            "Saved /content/checkpoints/018.pt\n",
            "\n"
          ],
          "name": "stdout"
        },
        {
          "output_type": "stream",
          "text": [
            "100%|██████████| 195/195 [01:08<00:00,  3.29it/s]\n",
            "  0%|          | 0/195 [00:00<?, ?it/s]"
          ],
          "name": "stderr"
        },
        {
          "output_type": "stream",
          "text": [
            "\n",
            "Test set: Average loss: 1.6939, Accuracy: 623048/1254400 (50%)\n",
            "\n"
          ],
          "name": "stdout"
        },
        {
          "output_type": "stream",
          "text": [
            "100%|██████████| 195/195 [01:08<00:00,  3.27it/s]\n"
          ],
          "name": "stderr"
        },
        {
          "output_type": "stream",
          "text": [
            "\n",
            "Test set: Average loss: 1.6899, Accuracy: 624879/1254400 (50%)\n",
            "\n",
            "Saved /content/checkpoints/020.pt\n",
            "\n",
            "Saving final model\n",
            "Saved /content/checkpoints/020.pt\n",
            "\n"
          ],
          "name": "stdout"
        },
        {
          "output_type": "display_data",
          "data": {
            "image/png": "[encoded data removed]",
            "text/plain": [
              "<Figure size 1440x720 with 1 Axes>"
            ]
          },
          "metadata": {
            "tags": []
          }
        },
        {
          "output_type": "display_data",
          "data": {
            "image/png": "[encoded data removed]",
            "text/plain": [
              "<Figure size 1440x720 with 1 Axes>"
            ]
          },
          "metadata": {
            "tags": []
          }
        },
        {
          "output_type": "display_data",
          "data": {
            "image/png": "[encoded data removed]",
            "text/plain": [
              "<Figure size 1440x720 with 1 Axes>"
            ]
          },
          "metadata": {
            "tags": []
          }
        },
        {
          "output_type": "display_data",
          "data": {
            "image/png": "[encoded data removed]",
            "text/plain": [
              "<Figure size 1440x720 with 1 Axes>"
            ]
          },
          "metadata": {
            "tags": []
          }
        },
        {
          "output_type": "display_data",
          "data": {
            "image/png": "[encoded data removed]",
            "text/plain": [
              "<Figure size 1440x720 with 1 Axes>"
            ]
          },
          "metadata": {
            "tags": []
          }
        }
      ]
    },
    {
      "cell_type": "code",
      "metadata": {
        "colab_type": "code",
        "id": "45rEEsjYhweD",
        "outputId": "c7d0259c-ce40-4158-830d-f3cc26b40ca4",
        "colab": {
          "base_uri": "https://localhost:8080/",
          "height": 1000
        }
      },
      "source": [
        "def main():\n",
        "    SEQUENCE_LENGTH = 100\n",
        "    BATCH_SIZE = 256\n",
        "    FEATURE_SIZE = 512\n",
        "    TEST_BATCH_SIZE = 256\n",
        "    EPOCHS = 20\n",
        "    LEARNING_RATE = 0.002\n",
        "    WEIGHT_DECAY = 0.0005\n",
        "    USE_CUDA = True\n",
        "    PRINT_INTERVAL = 10\n",
        "    LOG_PATH = DATA_PATH + 'logs/log.pkl'\n",
        "\n",
        "\n",
        "    data_train = HarryPotterDataset(DATA_PATH + 'harry_potter_chars_train.pkl', SEQUENCE_LENGTH, BATCH_SIZE)\n",
        "    data_test = HarryPotterDataset(DATA_PATH + 'harry_potter_chars_test.pkl', SEQUENCE_LENGTH, TEST_BATCH_SIZE)\n",
        "    vocab = data_train.vocab\n",
        "\n",
        "    use_cuda = USE_CUDA and torch.cuda.is_available()\n",
        "\n",
        "    device = torch.device(\"cuda\" if use_cuda else \"cpu\")\n",
        "    print('Using device', device)\n",
        "    import multiprocessing\n",
        "    num_workers = multiprocessing.cpu_count()\n",
        "    print('num workers:', num_workers)\n",
        "\n",
        "    kwargs = {'num_workers': num_workers,\n",
        "              'pin_memory': True} if use_cuda else {}\n",
        "\n",
        "    train_loader = torch.utils.data.DataLoader(data_train, batch_size=BATCH_SIZE,\n",
        "                                               shuffle=False, **kwargs)\n",
        "    test_loader = torch.utils.data.DataLoader(data_test, batch_size=TEST_BATCH_SIZE,\n",
        "                                              shuffle=False, **kwargs)\n",
        "\n",
        "    model = HarryPotterNet(data_train.vocab_size(), FEATURE_SIZE).to(device)\n",
        "\n",
        "    # Adam is an optimizer like SGD but a bit fancier. It tends to work faster and better than SGD.\n",
        "    # We will talk more about different optimization methods in class.\n",
        "    optimizer = optim.Adam(model.parameters(), lr=LEARNING_RATE, weight_decay=WEIGHT_DECAY)\n",
        "    start_epoch = model.load_last_model(DATA_PATH + 'checkpoints')\n",
        "\n",
        "    train_losses, test_losses, test_accuracies,train_ppls,test_ppls = pt_util.read_log(LOG_PATH, ([], [], [],[],[]))\n",
        "    test_loss, test_accuracy = test(model, device, test_loader)\n",
        "\n",
        "    test_losses.append((start_epoch, test_loss))\n",
        "    test_accuracies.append((start_epoch, test_accuracy))\n",
        "\n",
        "    try:\n",
        "        for epoch in range(start_epoch, EPOCHS + 1):\n",
        "            lr = LEARNING_RATE * np.power(0.25, (int(epoch / 6)))\n",
        "            train_loss = train(model, device, optimizer, train_loader, lr, epoch, PRINT_INTERVAL)\n",
        "            train_ppl = math.exp(train_loss)\n",
        "            test_loss, test_accuracy = test(model, device, test_loader)\n",
        "            test_ppl = math.exp(test_loss)\n",
        "            train_ppls.append((epoch,train_ppl))\n",
        "            test_ppls.append((epoch, test_ppl))\n",
        "            train_losses.append((epoch, train_loss))\n",
        "            test_losses.append((epoch, test_loss))\n",
        "            test_accuracies.append((epoch, test_accuracy))\n",
        "            pt_util.write_log(LOG_PATH, (train_losses, test_losses, test_accuracies,train_ppls, test_ppls))\n",
        "            model.save_best_model(test_accuracy, DATA_PATH + 'checkpoints/%03d.pt' % epoch)\n",
        "    \n",
        "            seed_words = 'Harry Potter, Voldemort, and Dumbledore walk into a bar. '\n",
        "            #generated_sentence = generate_language(model, device, seed_words, 200, vocab, 'max')\n",
        "            #print('generated max\\t\\t', generated_sentence)\n",
        "            #for ii in range(10):\n",
        "                #generated_sentence = generate_language(model, device, seed_words, 200, vocab, 'sample')\n",
        "                #print('generated sample\\t', generated_sentence)\n",
        "            #generated_sentence = generate_language(model, device, seed_words, 200, vocab, 'beam')\n",
        "            #print('generated beam\\t\\t', generated_sentence)\n",
        "            #print('')\n",
        "\n",
        "    except KeyboardInterrupt as ke:\n",
        "        print('Interrupted')\n",
        "    except:\n",
        "        import traceback\n",
        "        traceback.print_exc()\n",
        "    finally:\n",
        "        print('Saving final model')\n",
        "        model.save_model(DATA_PATH + 'checkpoints/%03d.pt' % epoch, 0)\n",
        "        ep, val = zip(*train_losses)\n",
        "        pt_util.plot(ep, val, 'Train loss', 'Epoch', 'Error')\n",
        "        ep, val = zip(*test_losses)\n",
        "        pt_util.plot(ep, val, 'Test loss', 'Epoch', 'Error')\n",
        "        ep, val = zip(*test_accuracies)\n",
        "        pt_util.plot(ep, val, 'Test accuracy', 'Epoch', 'Error')\n",
        "        ep, val = zip(*train_ppls)\n",
        "        pt_util.plot(ep, val, 'Train perplexity', 'Epoch', 'Error')\n",
        "        ep, val = zip(*test_ppls)\n",
        "        pt_util.plot(ep, val, 'Test perplexity', 'Epoch', 'Error')\n",
        "        return model, vocab, device\n",
        "\n",
        "final_model, vocab, device = main()"
      ],
      "execution_count": 12,
      "outputs": [
        {
          "output_type": "stream",
          "text": [
            "Using device cuda\n",
            "num workers: 2\n",
            "Input\t great sigh and leaned against the cavern wall. \"I am weak...\" he said. \"Don't worry, sir,\" said Har\n",
            "GT\tgreat sigh and leaned against the cavern wall. \"I am weak...\" he said. \"Don't worry, sir,\" said Harr\n",
            "pred\tHh%ZdGZ~Dhy``/AFXa & AZX1/N/U~ZGIaZaz  \\/Zazqq)H??HN)X)a ;QQQ%HIaHI rA1Q?HR.TG!aRvMTfZUU\\N%ZUdrAZMMM\n",
            "\n",
            "\n",
            "Input\t dragged. \"Save your energy, sir. . . . We'll soon be out of here. . . .\" \"The archway will have sea\n",
            "GT\tdragged. \"Save your energy, sir. . . . We'll soon be out of here. . . .\" \"The archway will have seal\n",
            "pred\tH!Pz11ZA1H?uNV Zf0?]ZNZaZ1sfZ)U\\QNQNQHQH!!!)xxUI0.Zpppp?GG0YGIaPasHQHQHQ:H??yaHX\\zdazTX)DXxxI   ZUZ \n",
            "\n",
            "\n",
            "Input\t... I can Apparate us both back . . . Don't worry. . . .\" \"I am not worried, Harry,\" said Dumbledore\n",
            "GT\t.. I can Apparate us both back . . . Don't worry. . . .\" \"I am not worried, Harry,\" said Dumbledore,\n",
            "pred\tQQQH]HHz/X2Llkdd~NZaUZppGI0prz;QQHQHQHH0.TGGaRvMTQ:QNQNQ:H??HN)X!dGGaRvMUZANZvqoMff^ZU rAZt\"GpXaARoZ\n",
            "\n",
            "\n",
            "Input\this eyes: the smell of salt, the sea breeze had gone. He and Dumbledore were shivering and dripping \n",
            "GT\tis eyes: the smell of salt, the sea breeze had gone. He and Dumbledore were shivering and dripping i\n",
            "pred\tdAUZZfZZ]xGIaZI)G))x0YH)zqGmZGIaZIZ XpPNasaZ0dkX1d. sHM!!N&AFH\"GpXaARoZZaa%aZUIA` \\r//ZN/&Z&PryfNy$Z\n",
            "\n",
            "\n",
            "Input\tparition had thrown Dumbledore off-balance; then he saw his face, paler and damper than ever in the \n",
            "GT\tarition had thrown Dumbledore off-balance; then he saw his face, paler and damper than ever in the d\n",
            "pred\tlk\\rNNNAZydkXGIv0HTZD\"GpXaARoZZ0YYYnrqq&8aB!GIaaZyaZI ')`AUZczzaaZ``qaoZ\\&&F&&X[!4ZGI /X!  \\ZryZGIaZ\n",
            "\n",
            "\n"
          ],
          "name": "stdout"
        },
        {
          "output_type": "stream",
          "text": [
            "\r  0%|          | 0/195 [00:00<?, ?it/s]"
          ],
          "name": "stderr"
        },
        {
          "output_type": "stream",
          "text": [
            "\n",
            "Test set: Average loss: 7.2550, Accuracy: 20197/1254400 (2%)\n",
            "\n"
          ],
          "name": "stdout"
        },
        {
          "output_type": "stream",
          "text": [
            "  1%|          | 2/195 [00:00<00:49,  3.91it/s]"
          ],
          "name": "stderr"
        },
        {
          "output_type": "stream",
          "text": [
            "Train Epoch: 0 [0/49920 (0%)]\tLoss: 7.272282\n"
          ],
          "name": "stdout"
        },
        {
          "output_type": "stream",
          "text": [
            "  6%|▌         | 12/195 [00:02<00:37,  4.92it/s]"
          ],
          "name": "stderr"
        },
        {
          "output_type": "stream",
          "text": [
            "Train Epoch: 0 [2560/49920 (5%)]\tLoss: 4.505214\n"
          ],
          "name": "stdout"
        },
        {
          "output_type": "stream",
          "text": [
            " 11%|█         | 21/195 [00:04<00:35,  4.85it/s]"
          ],
          "name": "stderr"
        },
        {
          "output_type": "stream",
          "text": [
            "Train Epoch: 0 [5120/49920 (10%)]\tLoss: 2.708396\n"
          ],
          "name": "stdout"
        },
        {
          "output_type": "stream",
          "text": [
            " 16%|█▌        | 31/195 [00:06<00:33,  4.93it/s]"
          ],
          "name": "stderr"
        },
        {
          "output_type": "stream",
          "text": [
            "Train Epoch: 0 [7680/49920 (15%)]\tLoss: 2.273351\n"
          ],
          "name": "stdout"
        },
        {
          "output_type": "stream",
          "text": [
            " 21%|██        | 41/195 [00:08<00:31,  4.95it/s]"
          ],
          "name": "stderr"
        },
        {
          "output_type": "stream",
          "text": [
            "Train Epoch: 0 [10240/49920 (21%)]\tLoss: 2.112975\n"
          ],
          "name": "stdout"
        },
        {
          "output_type": "stream",
          "text": [
            " 27%|██▋       | 52/195 [00:10<00:28,  5.02it/s]"
          ],
          "name": "stderr"
        },
        {
          "output_type": "stream",
          "text": [
            "Train Epoch: 0 [12800/49920 (26%)]\tLoss: 2.036758\n"
          ],
          "name": "stdout"
        },
        {
          "output_type": "stream",
          "text": [
            " 31%|███▏      | 61/195 [00:12<00:27,  4.92it/s]"
          ],
          "name": "stderr"
        },
        {
          "output_type": "stream",
          "text": [
            "Train Epoch: 0 [15360/49920 (31%)]\tLoss: 1.988037\n"
          ],
          "name": "stdout"
        },
        {
          "output_type": "stream",
          "text": [
            " 37%|███▋      | 72/195 [00:14<00:24,  4.95it/s]"
          ],
          "name": "stderr"
        },
        {
          "output_type": "stream",
          "text": [
            "Train Epoch: 0 [17920/49920 (36%)]\tLoss: 1.937911\n"
          ],
          "name": "stdout"
        },
        {
          "output_type": "stream",
          "text": [
            " 42%|████▏     | 82/195 [00:16<00:23,  4.91it/s]"
          ],
          "name": "stderr"
        },
        {
          "output_type": "stream",
          "text": [
            "Train Epoch: 0 [20480/49920 (41%)]\tLoss: 1.884041\n"
          ],
          "name": "stdout"
        },
        {
          "output_type": "stream",
          "text": [
            " 47%|████▋     | 92/195 [00:18<00:20,  4.95it/s]"
          ],
          "name": "stderr"
        },
        {
          "output_type": "stream",
          "text": [
            "Train Epoch: 0 [23040/49920 (46%)]\tLoss: 1.859603\n"
          ],
          "name": "stdout"
        },
        {
          "output_type": "stream",
          "text": [
            " 52%|█████▏    | 101/195 [00:20<00:19,  4.90it/s]"
          ],
          "name": "stderr"
        },
        {
          "output_type": "stream",
          "text": [
            "Train Epoch: 0 [25600/49920 (51%)]\tLoss: 1.831851\n"
          ],
          "name": "stdout"
        },
        {
          "output_type": "stream",
          "text": [
            " 57%|█████▋    | 111/195 [00:22<00:17,  4.92it/s]"
          ],
          "name": "stderr"
        },
        {
          "output_type": "stream",
          "text": [
            "Train Epoch: 0 [28160/49920 (56%)]\tLoss: 1.807379\n"
          ],
          "name": "stdout"
        },
        {
          "output_type": "stream",
          "text": [
            " 63%|██████▎   | 122/195 [00:24<00:14,  4.97it/s]"
          ],
          "name": "stderr"
        },
        {
          "output_type": "stream",
          "text": [
            "Train Epoch: 0 [30720/49920 (62%)]\tLoss: 1.797822\n"
          ],
          "name": "stdout"
        },
        {
          "output_type": "stream",
          "text": [
            " 67%|██████▋   | 131/195 [00:26<00:13,  4.80it/s]"
          ],
          "name": "stderr"
        },
        {
          "output_type": "stream",
          "text": [
            "Train Epoch: 0 [33280/49920 (67%)]\tLoss: 1.768248\n"
          ],
          "name": "stdout"
        },
        {
          "output_type": "stream",
          "text": [
            " 73%|███████▎  | 142/195 [00:28<00:10,  4.93it/s]"
          ],
          "name": "stderr"
        },
        {
          "output_type": "stream",
          "text": [
            "Train Epoch: 0 [35840/49920 (72%)]\tLoss: 1.767861\n"
          ],
          "name": "stdout"
        },
        {
          "output_type": "stream",
          "text": [
            " 78%|███████▊  | 152/195 [00:31<00:08,  4.94it/s]"
          ],
          "name": "stderr"
        },
        {
          "output_type": "stream",
          "text": [
            "Train Epoch: 0 [38400/49920 (77%)]\tLoss: 1.757902\n"
          ],
          "name": "stdout"
        },
        {
          "output_type": "stream",
          "text": [
            " 83%|████████▎ | 162/195 [00:33<00:06,  4.89it/s]"
          ],
          "name": "stderr"
        },
        {
          "output_type": "stream",
          "text": [
            "Train Epoch: 0 [40960/49920 (82%)]\tLoss: 1.728414\n"
          ],
          "name": "stdout"
        },
        {
          "output_type": "stream",
          "text": [
            " 88%|████████▊ | 171/195 [00:34<00:04,  4.97it/s]"
          ],
          "name": "stderr"
        },
        {
          "output_type": "stream",
          "text": [
            "Train Epoch: 0 [43520/49920 (87%)]\tLoss: 1.698489\n"
          ],
          "name": "stdout"
        },
        {
          "output_type": "stream",
          "text": [
            " 93%|█████████▎| 181/195 [00:36<00:02,  4.98it/s]"
          ],
          "name": "stderr"
        },
        {
          "output_type": "stream",
          "text": [
            "Train Epoch: 0 [46080/49920 (92%)]\tLoss: 1.701471\n"
          ],
          "name": "stdout"
        },
        {
          "output_type": "stream",
          "text": [
            " 98%|█████████▊| 192/195 [00:39<00:00,  4.99it/s]"
          ],
          "name": "stderr"
        },
        {
          "output_type": "stream",
          "text": [
            "Train Epoch: 0 [48640/49920 (97%)]\tLoss: 1.679806\n"
          ],
          "name": "stdout"
        },
        {
          "output_type": "stream",
          "text": [
            "100%|██████████| 195/195 [00:39<00:00,  5.60it/s]\n"
          ],
          "name": "stderr"
        },
        {
          "output_type": "stream",
          "text": [
            "Input\t great sigh and leaned against the cavern wall. \"I am weak...\" he said. \"Don't worry, sir,\" said Har\n",
            "GT\tgreat sigh and leaned against the cavern wall. \"I am weak...\" he said. \"Don't worry, sir,\" said Harr\n",
            "pred\thooaththdhttnd totstd tnain,  toe sane   thsl  \"W dnptarr  .  \"e said  \"Hon't hardi  sade  said Harr\n",
            "\n",
            "\n",
            "Input\t dragged. \"Save your energy, sir. . . . We'll soon be out of here. . . .\" \"The archway will have sea\n",
            "GT\tdragged. \"Save your energy, sir. . . . We'll soon be out of here. . . .\" \"The archway will have seal\n",
            "pred\thieiee   \"Whie tou  tntd e  aade \" . . .eall temm teeaft tf te    \" . .  \"Whe wnoheas satl tede taet\n",
            "\n",
            "\n",
            "Input\t... I can Apparate us both back . . . Don't worry. . . .\" \"I am not worried, Harry,\" said Dumbledore\n",
            "GT\t.. I can Apparate us both back . . . Don't worry. . . .\" \"I am not worried, Harry,\" said Dumbledore,\n",
            "pred\t . I wan trrertcedtpttetteteck t . . .ub't tardi  \" . .  \"W dnptot tardied  aarry   said Humbledore \n",
            "\n",
            "\n",
            "Input\this eyes: the smell of salt, the sea breeze had gone. He and Dumbledore were shivering and dripping \n",
            "GT\tis eyes: the smell of salt, the sea breeze had gone. He and Dumbledore were shivering and dripping i\n",
            "pred\t,n hyes  ohe stili tf ttil  the sterseoanedaed sote  \"e wnd tumbledore aare wtone  ng tnd toecpeng t\n",
            "\n",
            "\n",
            "Input\tparition had thrown Dumbledore off-balance; then he saw his face, paler and damper than ever in the \n",
            "GT\tarition had thrown Dumbledore off-balance; then he saw his face, paler and damper than ever in the d\n",
            "pred\tictnenn ted soeou  tumbledore af  coclcge  hhe  te sti hem hace  ausl  and toyeenithet tveryhn the s\n",
            "\n",
            "\n"
          ],
          "name": "stdout"
        },
        {
          "output_type": "stream",
          "text": [
            "\r  0%|          | 0/195 [00:00<?, ?it/s]"
          ],
          "name": "stderr"
        },
        {
          "output_type": "stream",
          "text": [
            "\n",
            "Test set: Average loss: 1.7204, Accuracy: 623966/1254400 (50%)\n",
            "\n",
            "Saved /content/checkpoints/000.pt\n",
            "\n"
          ],
          "name": "stdout"
        },
        {
          "output_type": "stream",
          "text": [
            "\r  1%|          | 1/195 [00:00<01:00,  3.18it/s]"
          ],
          "name": "stderr"
        },
        {
          "output_type": "stream",
          "text": [
            "Train Epoch: 1 [0/49920 (0%)]\tLoss: 1.689616\n"
          ],
          "name": "stdout"
        },
        {
          "output_type": "stream",
          "text": [
            "  6%|▌         | 11/195 [00:02<00:38,  4.75it/s]"
          ],
          "name": "stderr"
        },
        {
          "output_type": "stream",
          "text": [
            "Train Epoch: 1 [2560/49920 (5%)]\tLoss: 1.662158\n"
          ],
          "name": "stdout"
        },
        {
          "output_type": "stream",
          "text": [
            " 11%|█         | 21/195 [00:04<00:35,  4.88it/s]"
          ],
          "name": "stderr"
        },
        {
          "output_type": "stream",
          "text": [
            "Train Epoch: 1 [5120/49920 (10%)]\tLoss: 1.641555\n"
          ],
          "name": "stdout"
        },
        {
          "output_type": "stream",
          "text": [
            " 16%|█▌        | 31/195 [00:06<00:33,  4.83it/s]"
          ],
          "name": "stderr"
        },
        {
          "output_type": "stream",
          "text": [
            "Train Epoch: 1 [7680/49920 (15%)]\tLoss: 1.643325\n"
          ],
          "name": "stdout"
        },
        {
          "output_type": "stream",
          "text": [
            " 22%|██▏       | 42/195 [00:08<00:30,  4.94it/s]"
          ],
          "name": "stderr"
        },
        {
          "output_type": "stream",
          "text": [
            "Train Epoch: 1 [10240/49920 (21%)]\tLoss: 1.621514\n"
          ],
          "name": "stdout"
        },
        {
          "output_type": "stream",
          "text": [
            " 27%|██▋       | 52/195 [00:10<00:29,  4.85it/s]"
          ],
          "name": "stderr"
        },
        {
          "output_type": "stream",
          "text": [
            "Train Epoch: 1 [12800/49920 (26%)]\tLoss: 1.648396\n"
          ],
          "name": "stdout"
        },
        {
          "output_type": "stream",
          "text": [
            " 31%|███▏      | 61/195 [00:12<00:28,  4.74it/s]"
          ],
          "name": "stderr"
        },
        {
          "output_type": "stream",
          "text": [
            "Train Epoch: 1 [15360/49920 (31%)]\tLoss: 1.634381\n"
          ],
          "name": "stdout"
        },
        {
          "output_type": "stream",
          "text": [
            " 36%|███▋      | 71/195 [00:14<00:25,  4.81it/s]"
          ],
          "name": "stderr"
        },
        {
          "output_type": "stream",
          "text": [
            "Train Epoch: 1 [17920/49920 (36%)]\tLoss: 1.605931\n"
          ],
          "name": "stdout"
        },
        {
          "output_type": "stream",
          "text": [
            " 42%|████▏     | 81/195 [00:16<00:23,  4.85it/s]"
          ],
          "name": "stderr"
        },
        {
          "output_type": "stream",
          "text": [
            "Train Epoch: 1 [20480/49920 (41%)]\tLoss: 1.585216\n"
          ],
          "name": "stdout"
        },
        {
          "output_type": "stream",
          "text": [
            " 47%|████▋     | 91/195 [00:18<00:21,  4.93it/s]"
          ],
          "name": "stderr"
        },
        {
          "output_type": "stream",
          "text": [
            "Train Epoch: 1 [23040/49920 (46%)]\tLoss: 1.582640\n"
          ],
          "name": "stdout"
        },
        {
          "output_type": "stream",
          "text": [
            " 52%|█████▏    | 101/195 [00:20<00:19,  4.82it/s]"
          ],
          "name": "stderr"
        },
        {
          "output_type": "stream",
          "text": [
            "Train Epoch: 1 [25600/49920 (51%)]\tLoss: 1.577423\n"
          ],
          "name": "stdout"
        },
        {
          "output_type": "stream",
          "text": [
            " 57%|█████▋    | 112/195 [00:23<00:16,  4.93it/s]"
          ],
          "name": "stderr"
        },
        {
          "output_type": "stream",
          "text": [
            "Train Epoch: 1 [28160/49920 (56%)]\tLoss: 1.569269\n"
          ],
          "name": "stdout"
        },
        {
          "output_type": "stream",
          "text": [
            " 63%|██████▎   | 122/195 [00:25<00:15,  4.84it/s]"
          ],
          "name": "stderr"
        },
        {
          "output_type": "stream",
          "text": [
            "Train Epoch: 1 [30720/49920 (62%)]\tLoss: 1.578677\n"
          ],
          "name": "stdout"
        },
        {
          "output_type": "stream",
          "text": [
            " 68%|██████▊   | 132/195 [00:27<00:12,  4.93it/s]"
          ],
          "name": "stderr"
        },
        {
          "output_type": "stream",
          "text": [
            "Train Epoch: 1 [33280/49920 (67%)]\tLoss: 1.569625\n"
          ],
          "name": "stdout"
        },
        {
          "output_type": "stream",
          "text": [
            " 72%|███████▏  | 141/195 [00:29<00:11,  4.79it/s]"
          ],
          "name": "stderr"
        },
        {
          "output_type": "stream",
          "text": [
            "Train Epoch: 1 [35840/49920 (72%)]\tLoss: 1.568470\n"
          ],
          "name": "stdout"
        },
        {
          "output_type": "stream",
          "text": [
            " 77%|███████▋  | 151/195 [00:31<00:08,  4.93it/s]"
          ],
          "name": "stderr"
        },
        {
          "output_type": "stream",
          "text": [
            "Train Epoch: 1 [38400/49920 (77%)]\tLoss: 1.572788\n"
          ],
          "name": "stdout"
        },
        {
          "output_type": "stream",
          "text": [
            " 83%|████████▎ | 161/195 [00:33<00:06,  4.89it/s]"
          ],
          "name": "stderr"
        },
        {
          "output_type": "stream",
          "text": [
            "Train Epoch: 1 [40960/49920 (82%)]\tLoss: 1.551269\n"
          ],
          "name": "stdout"
        },
        {
          "output_type": "stream",
          "text": [
            " 88%|████████▊ | 172/195 [00:35<00:04,  4.94it/s]"
          ],
          "name": "stderr"
        },
        {
          "output_type": "stream",
          "text": [
            "Train Epoch: 1 [43520/49920 (87%)]\tLoss: 1.530143\n"
          ],
          "name": "stdout"
        },
        {
          "output_type": "stream",
          "text": [
            " 93%|█████████▎| 181/195 [00:37<00:02,  4.82it/s]"
          ],
          "name": "stderr"
        },
        {
          "output_type": "stream",
          "text": [
            "Train Epoch: 1 [46080/49920 (92%)]\tLoss: 1.532136\n"
          ],
          "name": "stdout"
        },
        {
          "output_type": "stream",
          "text": [
            " 98%|█████████▊| 192/195 [00:39<00:00,  4.91it/s]"
          ],
          "name": "stderr"
        },
        {
          "output_type": "stream",
          "text": [
            "Train Epoch: 1 [48640/49920 (97%)]\tLoss: 1.530019\n"
          ],
          "name": "stdout"
        },
        {
          "output_type": "stream",
          "text": [
            "100%|██████████| 195/195 [00:40<00:00,  5.46it/s]\n"
          ],
          "name": "stderr"
        },
        {
          "output_type": "stream",
          "text": [
            "Input\t great sigh and leaned against the cavern wall. \"I am weak...\" he said. \"Don't worry, sir,\" said Har\n",
            "GT\tgreat sigh and leaned against the cavern wall. \"I am weak...\" he said. \"Don't worry, sir,\" said Harr\n",
            "pred\ttoeathhhlhttnd toastd tnainst the care  ohasl  \"I ds tirr  .  \"e said  \"Ion'  wauky  worr  said Harr\n",
            "\n",
            "\n",
            "Input\t dragged. \"Save your energy, sir. . . . We'll soon be out of here. . . .\" \"The archway will have sea\n",
            "GT\tdragged. \"Save your energy, sir. . . . We'll soon be out of here. . . .\" \"The archway will have seal\n",
            "pred\t.iewoed  \"Ihie tou  sxdr e  todr \" . . .eall be m te aft of tir   \" . .  \"Iherwneheasstatl have thet\n",
            "\n",
            "\n",
            "Input\t... I can Apparate us both back . . . Don't worry. . . .\" \"I am not worried, Harry,\" said Dumbledore\n",
            "GT\t.. I can Apparate us both back . . . Don't worry. . . .\" \"I am not worried, Harry,\" said Dumbledore,\n",
            "pred\t   I wan tlparacidtp teth teck t . . .ub'  wauky  \" . .  \"I ds tot tardyed  aarry   said Humbledore \n",
            "\n",
            "\n",
            "Input\this eyes: the smell of salt, the sea breeze had gone. He and Dumbledore were shivering and dripping \n",
            "GT\tis eyes: the smell of salt, the sea breeze had gone. He and Dumbledore were shivering and dripping i\n",
            "pred\t n hyes  the stoll of toil  ahe ctertioanidaed bote  \"e wnd sumbledore tare wtoreryng ttd teavpeng t\n",
            "\n",
            "\n",
            "Input\tparition had thrown Dumbledore off-balance; then he saw his face, paler and damper than ever in the \n",
            "GT\tarition had thrown Dumbledore off-balance; then he saw his face, paler and damper than ever in the d\n",
            "pred\tiitnenn tid bheoun tumbledore tf  ioclcce  hhe  he wai tem hace  tuse  and teyeerithet tnerytt the c\n",
            "\n",
            "\n"
          ],
          "name": "stdout"
        },
        {
          "output_type": "stream",
          "text": [
            "\r  0%|          | 0/195 [00:00<?, ?it/s]"
          ],
          "name": "stderr"
        },
        {
          "output_type": "stream",
          "text": [
            "\n",
            "Test set: Average loss: 1.5902, Accuracy: 670610/1254400 (53%)\n",
            "\n",
            "Saved /content/checkpoints/001.pt\n",
            "\n"
          ],
          "name": "stdout"
        },
        {
          "output_type": "stream",
          "text": [
            "  1%|          | 2/195 [00:00<00:49,  3.87it/s]"
          ],
          "name": "stderr"
        },
        {
          "output_type": "stream",
          "text": [
            "Train Epoch: 2 [0/49920 (0%)]\tLoss: 1.544432\n"
          ],
          "name": "stdout"
        },
        {
          "output_type": "stream",
          "text": [
            "  6%|▌         | 12/195 [00:02<00:37,  4.94it/s]"
          ],
          "name": "stderr"
        },
        {
          "output_type": "stream",
          "text": [
            "Train Epoch: 2 [2560/49920 (5%)]\tLoss: 1.527284\n"
          ],
          "name": "stdout"
        },
        {
          "output_type": "stream",
          "text": [
            " 11%|█         | 21/195 [00:04<00:36,  4.74it/s]"
          ],
          "name": "stderr"
        },
        {
          "output_type": "stream",
          "text": [
            "Train Epoch: 2 [5120/49920 (10%)]\tLoss: 1.508185\n"
          ],
          "name": "stdout"
        },
        {
          "output_type": "stream",
          "text": [
            " 16%|█▋        | 32/195 [00:06<00:32,  4.95it/s]"
          ],
          "name": "stderr"
        },
        {
          "output_type": "stream",
          "text": [
            "Train Epoch: 2 [7680/49920 (15%)]\tLoss: 1.526616\n"
          ],
          "name": "stdout"
        },
        {
          "output_type": "stream",
          "text": [
            " 21%|██        | 41/195 [00:08<00:31,  4.82it/s]"
          ],
          "name": "stderr"
        },
        {
          "output_type": "stream",
          "text": [
            "Train Epoch: 2 [10240/49920 (21%)]\tLoss: 1.494842\n"
          ],
          "name": "stdout"
        },
        {
          "output_type": "stream",
          "text": [
            " 26%|██▌       | 51/195 [00:10<00:29,  4.92it/s]"
          ],
          "name": "stderr"
        },
        {
          "output_type": "stream",
          "text": [
            "Train Epoch: 2 [12800/49920 (26%)]\tLoss: 1.527588\n"
          ],
          "name": "stdout"
        },
        {
          "output_type": "stream",
          "text": [
            " 31%|███▏      | 61/195 [00:12<00:27,  4.92it/s]"
          ],
          "name": "stderr"
        },
        {
          "output_type": "stream",
          "text": [
            "Train Epoch: 2 [15360/49920 (31%)]\tLoss: 1.523991\n"
          ],
          "name": "stdout"
        },
        {
          "output_type": "stream",
          "text": [
            " 37%|███▋      | 72/195 [00:14<00:25,  4.89it/s]"
          ],
          "name": "stderr"
        },
        {
          "output_type": "stream",
          "text": [
            "Train Epoch: 2 [17920/49920 (36%)]\tLoss: 1.498920\n"
          ],
          "name": "stdout"
        },
        {
          "output_type": "stream",
          "text": [
            " 42%|████▏     | 81/195 [00:16<00:22,  4.96it/s]"
          ],
          "name": "stderr"
        },
        {
          "output_type": "stream",
          "text": [
            "Train Epoch: 2 [20480/49920 (41%)]\tLoss: 1.482221\n"
          ],
          "name": "stdout"
        },
        {
          "output_type": "stream",
          "text": [
            " 47%|████▋     | 91/195 [00:18<00:21,  4.81it/s]"
          ],
          "name": "stderr"
        },
        {
          "output_type": "stream",
          "text": [
            "Train Epoch: 2 [23040/49920 (46%)]\tLoss: 1.490037\n"
          ],
          "name": "stdout"
        },
        {
          "output_type": "stream",
          "text": [
            " 52%|█████▏    | 102/195 [00:20<00:18,  4.95it/s]"
          ],
          "name": "stderr"
        },
        {
          "output_type": "stream",
          "text": [
            "Train Epoch: 2 [25600/49920 (51%)]\tLoss: 1.488081\n"
          ],
          "name": "stdout"
        },
        {
          "output_type": "stream",
          "text": [
            " 57%|█████▋    | 111/195 [00:22<00:17,  4.77it/s]"
          ],
          "name": "stderr"
        },
        {
          "output_type": "stream",
          "text": [
            "Train Epoch: 2 [28160/49920 (56%)]\tLoss: 1.476503\n"
          ],
          "name": "stdout"
        },
        {
          "output_type": "stream",
          "text": [
            " 63%|██████▎   | 122/195 [00:25<00:14,  4.90it/s]"
          ],
          "name": "stderr"
        },
        {
          "output_type": "stream",
          "text": [
            "Train Epoch: 2 [30720/49920 (62%)]\tLoss: 1.496184\n"
          ],
          "name": "stdout"
        },
        {
          "output_type": "stream",
          "text": [
            " 67%|██████▋   | 131/195 [00:26<00:13,  4.87it/s]"
          ],
          "name": "stderr"
        },
        {
          "output_type": "stream",
          "text": [
            "Train Epoch: 2 [33280/49920 (67%)]\tLoss: 1.494620\n"
          ],
          "name": "stdout"
        },
        {
          "output_type": "stream",
          "text": [
            " 73%|███████▎  | 142/195 [00:29<00:10,  4.96it/s]"
          ],
          "name": "stderr"
        },
        {
          "output_type": "stream",
          "text": [
            "Train Epoch: 2 [35840/49920 (72%)]\tLoss: 1.490169\n"
          ],
          "name": "stdout"
        },
        {
          "output_type": "stream",
          "text": [
            " 78%|███████▊  | 152/195 [00:31<00:08,  4.98it/s]"
          ],
          "name": "stderr"
        },
        {
          "output_type": "stream",
          "text": [
            "Train Epoch: 2 [38400/49920 (77%)]\tLoss: 1.494137\n"
          ],
          "name": "stdout"
        },
        {
          "output_type": "stream",
          "text": [
            " 83%|████████▎ | 161/195 [00:33<00:07,  4.80it/s]"
          ],
          "name": "stderr"
        },
        {
          "output_type": "stream",
          "text": [
            "Train Epoch: 2 [40960/49920 (82%)]\tLoss: 1.470353\n"
          ],
          "name": "stdout"
        },
        {
          "output_type": "stream",
          "text": [
            " 88%|████████▊ | 172/195 [00:35<00:04,  4.94it/s]"
          ],
          "name": "stderr"
        },
        {
          "output_type": "stream",
          "text": [
            "Train Epoch: 2 [43520/49920 (87%)]\tLoss: 1.458389\n"
          ],
          "name": "stdout"
        },
        {
          "output_type": "stream",
          "text": [
            " 93%|█████████▎| 181/195 [00:37<00:02,  4.88it/s]"
          ],
          "name": "stderr"
        },
        {
          "output_type": "stream",
          "text": [
            "Train Epoch: 2 [46080/49920 (92%)]\tLoss: 1.459054\n"
          ],
          "name": "stdout"
        },
        {
          "output_type": "stream",
          "text": [
            " 98%|█████████▊| 191/195 [00:39<00:00,  4.90it/s]"
          ],
          "name": "stderr"
        },
        {
          "output_type": "stream",
          "text": [
            "Train Epoch: 2 [48640/49920 (97%)]\tLoss: 1.457259\n"
          ],
          "name": "stdout"
        },
        {
          "output_type": "stream",
          "text": [
            "100%|██████████| 195/195 [00:39<00:00,  5.53it/s]\n"
          ],
          "name": "stderr"
        },
        {
          "output_type": "stream",
          "text": [
            "Input\t great sigh and leaned against the cavern wall. \"I am weak...\" he said. \"Don't worry, sir,\" said Har\n",
            "GT\tgreat sigh and leaned against the cavern wall. \"I am weak...\" he said. \"Don't worry, sir,\" said Harr\n",
            "pred\ttoeat ahlhtt d toared atainst the slre  ahhsl  \"I ts tarre .  \"e said  \"Io 't wauky  wot,  said Harr\n",
            "\n",
            "\n",
            "Input\t dragged. \"Save your energy, sir. . . . We'll soon be out of here. . . .\" \"The archway will have sea\n",
            "GT\tdragged. \"Save your energy, sir. . . . We'll soon be out of here. . . .\" \"The archway will have seal\n",
            "pred\t.iegoed  \"Ihie you  fvoa e  tol, \" . . .eall be m te ant of tir   \" . .  \"Iherwneheasstatl have toer\n",
            "\n",
            "\n",
            "Input\t... I can Apparate us both back . . . Don't worry. . . .\" \"I am not worried, Harry,\" said Dumbledore\n",
            "GT\t.. I can Apparate us both back . . . Don't worry. . . .\" \"I am not worried, Harry,\" said Dumbledore,\n",
            "pred\t   I tan't perate tp aeth teck t . . .ub't wauky  \" . .  \"I dn tot taukyed  aarry   said Humbledore \n",
            "\n",
            "\n",
            "Input\this eyes: the smell of salt, the sea breeze had gone. He and Dumbledore were shivering and dripping \n",
            "GT\tis eyes: the smell of salt, the sea breeze had gone. He and Dumbledore were shivering and dripping i\n",
            "pred\t n hyes  \"he stoll of toil  ahe stcttieanenaed bote  \"e wsd sumbledore ware atotering atd tianpeng t\n",
            "\n",
            "\n",
            "Input\tparition had thrown Dumbledore off-balance; then he saw his face, paler and damper than ever in the \n",
            "GT\tarition had thrown Dumbledore off-balance; then he saw his face, paler and damper than ever in the d\n",
            "pred\tiienennsaad bheoun tumbledore wn  ioclrte  hhe  he hai tes hace  ause  and tiyeerithet tnerytt the s\n",
            "\n",
            "\n"
          ],
          "name": "stdout"
        },
        {
          "output_type": "stream",
          "text": [
            "\r  0%|          | 0/195 [00:00<?, ?it/s]"
          ],
          "name": "stderr"
        },
        {
          "output_type": "stream",
          "text": [
            "\n",
            "Test set: Average loss: 1.5290, Accuracy: 689901/1254400 (55%)\n",
            "\n",
            "Saved /content/checkpoints/002.pt\n",
            "\n"
          ],
          "name": "stdout"
        },
        {
          "output_type": "stream",
          "text": [
            "  1%|          | 2/195 [00:00<00:49,  3.88it/s]"
          ],
          "name": "stderr"
        },
        {
          "output_type": "stream",
          "text": [
            "Train Epoch: 3 [0/49920 (0%)]\tLoss: 1.476024\n"
          ],
          "name": "stdout"
        },
        {
          "output_type": "stream",
          "text": [
            "  6%|▌         | 11/195 [00:02<00:37,  4.87it/s]"
          ],
          "name": "stderr"
        },
        {
          "output_type": "stream",
          "text": [
            "Train Epoch: 3 [2560/49920 (5%)]\tLoss: 1.459028\n"
          ],
          "name": "stdout"
        },
        {
          "output_type": "stream",
          "text": [
            " 11%|█         | 21/195 [00:04<00:35,  4.92it/s]"
          ],
          "name": "stderr"
        },
        {
          "output_type": "stream",
          "text": [
            "Train Epoch: 3 [5120/49920 (10%)]\tLoss: 1.441390\n"
          ],
          "name": "stdout"
        },
        {
          "output_type": "stream",
          "text": [
            " 16%|█▌        | 31/195 [00:06<00:33,  4.86it/s]"
          ],
          "name": "stderr"
        },
        {
          "output_type": "stream",
          "text": [
            "Train Epoch: 3 [7680/49920 (15%)]\tLoss: 1.458907\n"
          ],
          "name": "stdout"
        },
        {
          "output_type": "stream",
          "text": [
            " 22%|██▏       | 42/195 [00:08<00:30,  4.98it/s]"
          ],
          "name": "stderr"
        },
        {
          "output_type": "stream",
          "text": [
            "Train Epoch: 3 [10240/49920 (21%)]\tLoss: 1.442398\n"
          ],
          "name": "stdout"
        },
        {
          "output_type": "stream",
          "text": [
            " 26%|██▌       | 51/195 [00:10<00:28,  4.98it/s]"
          ],
          "name": "stderr"
        },
        {
          "output_type": "stream",
          "text": [
            "Train Epoch: 3 [12800/49920 (26%)]\tLoss: 1.468899\n"
          ],
          "name": "stdout"
        },
        {
          "output_type": "stream",
          "text": [
            " 31%|███▏      | 61/195 [00:12<00:26,  4.98it/s]"
          ],
          "name": "stderr"
        },
        {
          "output_type": "stream",
          "text": [
            "Train Epoch: 3 [15360/49920 (31%)]\tLoss: 1.463843\n"
          ],
          "name": "stdout"
        },
        {
          "output_type": "stream",
          "text": [
            " 37%|███▋      | 72/195 [00:14<00:24,  4.98it/s]"
          ],
          "name": "stderr"
        },
        {
          "output_type": "stream",
          "text": [
            "Train Epoch: 3 [17920/49920 (36%)]\tLoss: 1.443057\n"
          ],
          "name": "stdout"
        },
        {
          "output_type": "stream",
          "text": [
            " 42%|████▏     | 81/195 [00:16<00:23,  4.86it/s]"
          ],
          "name": "stderr"
        },
        {
          "output_type": "stream",
          "text": [
            "Train Epoch: 3 [20480/49920 (41%)]\tLoss: 1.420628\n"
          ],
          "name": "stdout"
        },
        {
          "output_type": "stream",
          "text": [
            " 47%|████▋     | 91/195 [00:18<00:21,  4.95it/s]"
          ],
          "name": "stderr"
        },
        {
          "output_type": "stream",
          "text": [
            "Train Epoch: 3 [23040/49920 (46%)]\tLoss: 1.428001\n"
          ],
          "name": "stdout"
        },
        {
          "output_type": "stream",
          "text": [
            " 52%|█████▏    | 101/195 [00:20<00:19,  4.94it/s]"
          ],
          "name": "stderr"
        },
        {
          "output_type": "stream",
          "text": [
            "Train Epoch: 3 [25600/49920 (51%)]\tLoss: 1.437603\n"
          ],
          "name": "stdout"
        },
        {
          "output_type": "stream",
          "text": [
            " 57%|█████▋    | 112/195 [00:22<00:16,  4.95it/s]"
          ],
          "name": "stderr"
        },
        {
          "output_type": "stream",
          "text": [
            "Train Epoch: 3 [28160/49920 (56%)]\tLoss: 1.424984\n"
          ],
          "name": "stdout"
        },
        {
          "output_type": "stream",
          "text": [
            " 62%|██████▏   | 121/195 [00:24<00:15,  4.91it/s]"
          ],
          "name": "stderr"
        },
        {
          "output_type": "stream",
          "text": [
            "Train Epoch: 3 [30720/49920 (62%)]\tLoss: 1.459648\n"
          ],
          "name": "stdout"
        },
        {
          "output_type": "stream",
          "text": [
            " 67%|██████▋   | 131/195 [00:26<00:13,  4.91it/s]"
          ],
          "name": "stderr"
        },
        {
          "output_type": "stream",
          "text": [
            "Train Epoch: 3 [33280/49920 (67%)]\tLoss: 1.463359\n"
          ],
          "name": "stdout"
        },
        {
          "output_type": "stream",
          "text": [
            " 73%|███████▎  | 142/195 [00:28<00:10,  4.96it/s]"
          ],
          "name": "stderr"
        },
        {
          "output_type": "stream",
          "text": [
            "Train Epoch: 3 [35840/49920 (72%)]\tLoss: 1.453203\n"
          ],
          "name": "stdout"
        },
        {
          "output_type": "stream",
          "text": [
            " 77%|███████▋  | 151/195 [00:30<00:08,  4.95it/s]"
          ],
          "name": "stderr"
        },
        {
          "output_type": "stream",
          "text": [
            "Train Epoch: 3 [38400/49920 (77%)]\tLoss: 1.443660\n"
          ],
          "name": "stdout"
        },
        {
          "output_type": "stream",
          "text": [
            " 83%|████████▎ | 161/195 [00:32<00:06,  4.91it/s]"
          ],
          "name": "stderr"
        },
        {
          "output_type": "stream",
          "text": [
            "Train Epoch: 3 [40960/49920 (82%)]\tLoss: 1.429803\n"
          ],
          "name": "stdout"
        },
        {
          "output_type": "stream",
          "text": [
            " 88%|████████▊ | 171/195 [00:34<00:04,  4.92it/s]"
          ],
          "name": "stderr"
        },
        {
          "output_type": "stream",
          "text": [
            "Train Epoch: 3 [43520/49920 (87%)]\tLoss: 1.416542\n"
          ],
          "name": "stdout"
        },
        {
          "output_type": "stream",
          "text": [
            " 93%|█████████▎| 182/195 [00:37<00:02,  4.94it/s]"
          ],
          "name": "stderr"
        },
        {
          "output_type": "stream",
          "text": [
            "Train Epoch: 3 [46080/49920 (92%)]\tLoss: 1.423340\n"
          ],
          "name": "stdout"
        },
        {
          "output_type": "stream",
          "text": [
            " 98%|█████████▊| 192/195 [00:39<00:00,  4.99it/s]"
          ],
          "name": "stderr"
        },
        {
          "output_type": "stream",
          "text": [
            "Train Epoch: 3 [48640/49920 (97%)]\tLoss: 1.418209\n"
          ],
          "name": "stdout"
        },
        {
          "output_type": "stream",
          "text": [
            "100%|██████████| 195/195 [00:39<00:00,  5.58it/s]\n"
          ],
          "name": "stderr"
        },
        {
          "output_type": "stream",
          "text": [
            "Input\t great sigh and leaned against the cavern wall. \"I am weak...\" he said. \"Don't worry, sir,\" said Har\n",
            "GT\tgreat sigh and leaned against the cavern wall. \"I am weak...\" he said. \"Don't worry, sir,\" said Harr\n",
            "pred\ttoeat atlhta d aoared atainst the slre yohhsl  \"I ts ta re .  \"e said  \"Iu 't wauky  Iot,  said Harr\n",
            "\n",
            "\n",
            "Input\t dragged. \"Save your energy, sir. . . . We'll soon be out of here. . . .\" \"The archway will have sea\n",
            "GT\tdragged. \"Save your energy, sir. . . . We'll soon be out of here. . . .\" \"The archway will have seal\n",
            "pred\t.iagoe   \"Ihie you  snor e  aol, I . . .hlll be n aetant of tir ..\" . .  \"Iherwneheaystetl bave ttet\n",
            "\n",
            "\n",
            "Input\t... I can Apparate us both back . . . Don't worry. . . .\" \"I am not worried, Harry,\" said Dumbledore\n",
            "GT\t.. I can Apparate us both back . . . Don't worry. . . .\" \"I am not worried, Harry,\" said Dumbledore,\n",
            "pred\t   y ton t parate ts aeth oeck t . . .ub't wauky .I . .  \"I ss tot taukyed  aarry   said Humbledore.\n",
            "\n",
            "\n",
            "Input\this eyes: the smell of salt, the sea breeze had gone. He and Dumbledore were shivering and dripping \n",
            "GT\tis eyes: the smell of salt, the sea breeze had gone. He and Dumbledore were shivering and dripping i\n",
            "pred\t n hyes  \"he stall of ttil  ahe stctoaaaninsed bote  \"e wsd sumbledore sare atotering atd aranpeng a\n",
            "\n",
            "\n",
            "Input\tparition had thrown Dumbledore off-balance; then he saw his face, paler and damper than ever in the \n",
            "GT\tarition had thrown Dumbledore off-balance; then he saw his face, paler and damper than ever in the d\n",
            "pred\tiitnynn aid bheoui tumbledore sn  ioclrte  hhe  he hai tes hace  ause  and hireedihhet hveryhn the s\n",
            "\n",
            "\n"
          ],
          "name": "stdout"
        },
        {
          "output_type": "stream",
          "text": [
            "\r  0%|          | 0/195 [00:00<?, ?it/s]"
          ],
          "name": "stderr"
        },
        {
          "output_type": "stream",
          "text": [
            "\n",
            "Test set: Average loss: 1.4936, Accuracy: 698600/1254400 (56%)\n",
            "\n",
            "Saved /content/checkpoints/003.pt\n",
            "\n"
          ],
          "name": "stdout"
        },
        {
          "output_type": "stream",
          "text": [
            "  1%|          | 2/195 [00:00<00:52,  3.70it/s]"
          ],
          "name": "stderr"
        },
        {
          "output_type": "stream",
          "text": [
            "Train Epoch: 4 [0/49920 (0%)]\tLoss: 1.437920\n"
          ],
          "name": "stdout"
        },
        {
          "output_type": "stream",
          "text": [
            "  6%|▌         | 11/195 [00:02<00:38,  4.78it/s]"
          ],
          "name": "stderr"
        },
        {
          "output_type": "stream",
          "text": [
            "Train Epoch: 4 [2560/49920 (5%)]\tLoss: 1.426125\n"
          ],
          "name": "stdout"
        },
        {
          "output_type": "stream",
          "text": [
            " 11%|█         | 21/195 [00:04<00:35,  4.84it/s]"
          ],
          "name": "stderr"
        },
        {
          "output_type": "stream",
          "text": [
            "Train Epoch: 4 [5120/49920 (10%)]\tLoss: 1.406395\n"
          ],
          "name": "stdout"
        },
        {
          "output_type": "stream",
          "text": [
            " 16%|█▋        | 32/195 [00:06<00:33,  4.89it/s]"
          ],
          "name": "stderr"
        },
        {
          "output_type": "stream",
          "text": [
            "Train Epoch: 4 [7680/49920 (15%)]\tLoss: 1.419759\n"
          ],
          "name": "stdout"
        },
        {
          "output_type": "stream",
          "text": [
            " 21%|██        | 41/195 [00:08<00:32,  4.81it/s]"
          ],
          "name": "stderr"
        },
        {
          "output_type": "stream",
          "text": [
            "Train Epoch: 4 [10240/49920 (21%)]\tLoss: 1.399437\n"
          ],
          "name": "stdout"
        },
        {
          "output_type": "stream",
          "text": [
            " 26%|██▌       | 51/195 [00:10<00:29,  4.85it/s]"
          ],
          "name": "stderr"
        },
        {
          "output_type": "stream",
          "text": [
            "Train Epoch: 4 [12800/49920 (26%)]\tLoss: 1.428781\n"
          ],
          "name": "stdout"
        },
        {
          "output_type": "stream",
          "text": [
            " 31%|███▏      | 61/195 [00:12<00:28,  4.75it/s]"
          ],
          "name": "stderr"
        },
        {
          "output_type": "stream",
          "text": [
            "Train Epoch: 4 [15360/49920 (31%)]\tLoss: 1.431090\n"
          ],
          "name": "stdout"
        },
        {
          "output_type": "stream",
          "text": [
            " 36%|███▋      | 71/195 [00:14<00:25,  4.87it/s]"
          ],
          "name": "stderr"
        },
        {
          "output_type": "stream",
          "text": [
            "Train Epoch: 4 [17920/49920 (36%)]\tLoss: 1.419307\n"
          ],
          "name": "stdout"
        },
        {
          "output_type": "stream",
          "text": [
            " 42%|████▏     | 81/195 [00:16<00:23,  4.85it/s]"
          ],
          "name": "stderr"
        },
        {
          "output_type": "stream",
          "text": [
            "Train Epoch: 4 [20480/49920 (41%)]\tLoss: 1.396481\n"
          ],
          "name": "stdout"
        },
        {
          "output_type": "stream",
          "text": [
            " 47%|████▋     | 91/195 [00:18<00:21,  4.93it/s]"
          ],
          "name": "stderr"
        },
        {
          "output_type": "stream",
          "text": [
            "Train Epoch: 4 [23040/49920 (46%)]\tLoss: 1.398488\n"
          ],
          "name": "stdout"
        },
        {
          "output_type": "stream",
          "text": [
            " 52%|█████▏    | 102/195 [00:21<00:19,  4.88it/s]"
          ],
          "name": "stderr"
        },
        {
          "output_type": "stream",
          "text": [
            "Train Epoch: 4 [25600/49920 (51%)]\tLoss: 1.435260\n"
          ],
          "name": "stdout"
        },
        {
          "output_type": "stream",
          "text": [
            " 57%|█████▋    | 111/195 [00:23<00:17,  4.85it/s]"
          ],
          "name": "stderr"
        },
        {
          "output_type": "stream",
          "text": [
            "Train Epoch: 4 [28160/49920 (56%)]\tLoss: 1.403044\n"
          ],
          "name": "stdout"
        },
        {
          "output_type": "stream",
          "text": [
            " 62%|██████▏   | 121/195 [00:25<00:15,  4.83it/s]"
          ],
          "name": "stderr"
        },
        {
          "output_type": "stream",
          "text": [
            "Train Epoch: 4 [30720/49920 (62%)]\tLoss: 1.429626\n"
          ],
          "name": "stdout"
        },
        {
          "output_type": "stream",
          "text": [
            " 68%|██████▊   | 132/195 [00:27<00:12,  4.85it/s]"
          ],
          "name": "stderr"
        },
        {
          "output_type": "stream",
          "text": [
            "Train Epoch: 4 [33280/49920 (67%)]\tLoss: 1.422154\n"
          ],
          "name": "stdout"
        },
        {
          "output_type": "stream",
          "text": [
            " 72%|███████▏  | 141/195 [00:29<00:11,  4.88it/s]"
          ],
          "name": "stderr"
        },
        {
          "output_type": "stream",
          "text": [
            "Train Epoch: 4 [35840/49920 (72%)]\tLoss: 1.417315\n"
          ],
          "name": "stdout"
        },
        {
          "output_type": "stream",
          "text": [
            " 77%|███████▋  | 151/195 [00:31<00:09,  4.87it/s]"
          ],
          "name": "stderr"
        },
        {
          "output_type": "stream",
          "text": [
            "Train Epoch: 4 [38400/49920 (77%)]\tLoss: 1.425244\n"
          ],
          "name": "stdout"
        },
        {
          "output_type": "stream",
          "text": [
            " 83%|████████▎ | 161/195 [00:33<00:06,  4.89it/s]"
          ],
          "name": "stderr"
        },
        {
          "output_type": "stream",
          "text": [
            "Train Epoch: 4 [40960/49920 (82%)]\tLoss: 1.408889\n"
          ],
          "name": "stdout"
        },
        {
          "output_type": "stream",
          "text": [
            " 88%|████████▊ | 172/195 [00:35<00:04,  4.90it/s]"
          ],
          "name": "stderr"
        },
        {
          "output_type": "stream",
          "text": [
            "Train Epoch: 4 [43520/49920 (87%)]\tLoss: 1.397991\n"
          ],
          "name": "stdout"
        },
        {
          "output_type": "stream",
          "text": [
            " 93%|█████████▎| 181/195 [00:37<00:02,  4.82it/s]"
          ],
          "name": "stderr"
        },
        {
          "output_type": "stream",
          "text": [
            "Train Epoch: 4 [46080/49920 (92%)]\tLoss: 1.407510\n"
          ],
          "name": "stdout"
        },
        {
          "output_type": "stream",
          "text": [
            " 98%|█████████▊| 191/195 [00:39<00:00,  4.74it/s]"
          ],
          "name": "stderr"
        },
        {
          "output_type": "stream",
          "text": [
            "Train Epoch: 4 [48640/49920 (97%)]\tLoss: 1.397806\n"
          ],
          "name": "stdout"
        },
        {
          "output_type": "stream",
          "text": [
            "100%|██████████| 195/195 [00:40<00:00,  5.41it/s]\n"
          ],
          "name": "stderr"
        },
        {
          "output_type": "stream",
          "text": [
            "Input\t great sigh and leaned against the cavern wall. \"I am weak...\" he said. \"Don't worry, sir,\" said Har\n",
            "GT\tgreat sigh and leaned against the cavern wall. \"I am weak...\" he said. \"Don't worry, sir,\" said Harr\n",
            "pred\ttoeat atlhtand aoared atainst the sore yohasl  \"I ts terre\".  \"e said  \"Io 't warky \"Iol,  said Harr\n",
            "\n",
            "\n",
            "Input\t dragged. \"Save your energy, sir. . . . We'll soon be out of here. . . .\" \"The archway will have sea\n",
            "GT\tdragged. \"Save your energy, sir. . . . We'll soon be out of here. . . .\" \"The archway will have seal\n",
            "pred\t.iagoed \"\"Ihie you  sndr e  Iol, I . . .elll be n aetant of tir .\"I . .  \"Ihersneheayswatl bave ttet\n",
            "\n",
            "\n",
            "Input\t... I can Apparate us both back . . . Don't worry. . . .\" \"I am not worried, Harry,\" said Dumbledore\n",
            "GT\t.. I can Apparate us both back . . . Don't worry. . . .\" \"I am not worried, Harry,\" said Dumbledore,\n",
            "pred\t   I ton t parate ts aeth ouck t . . .ub't wauky \"I . .  \"I sm tot sarkyed \"aarry,  said Humbledore.\n",
            "\n",
            "\n",
            "Input\this eyes: the smell of salt, the sea breeze had gone. He and Dumbledore were shivering and dripping \n",
            "GT\tis eyes: the smell of salt, the sea breeze had gone. He and Dumbledore were shivering and dripping i\n",
            "pred\t n hyes, \"he saall af ttil  ahe saatooeaaensad aote  \"e wdd sumbledore sare stotering atd aranpeng a\n",
            "\n",
            "\n",
            "Input\tparition had thrown Dumbledore off-balance; then he saw his face, paler and damper than ever in the \n",
            "GT\tarition had thrown Dumbledore off-balance; then he saw his face, paler and damper than ever in the d\n",
            "pred\tirenynn aad aoeoun tumbledore sn iioclrte  hhe  he hai tes hace  ause sand arreediahet hveryhn the s\n",
            "\n",
            "\n"
          ],
          "name": "stdout"
        },
        {
          "output_type": "stream",
          "text": [
            "\r  0%|          | 0/195 [00:00<?, ?it/s]"
          ],
          "name": "stderr"
        },
        {
          "output_type": "stream",
          "text": [
            "\n",
            "Test set: Average loss: 1.4742, Accuracy: 704988/1254400 (56%)\n",
            "\n",
            "Saved /content/checkpoints/004.pt\n",
            "\n"
          ],
          "name": "stdout"
        },
        {
          "output_type": "stream",
          "text": [
            "  1%|          | 2/195 [00:00<00:49,  3.88it/s]"
          ],
          "name": "stderr"
        },
        {
          "output_type": "stream",
          "text": [
            "Train Epoch: 5 [0/49920 (0%)]\tLoss: 1.418253\n"
          ],
          "name": "stdout"
        },
        {
          "output_type": "stream",
          "text": [
            "  6%|▌         | 11/195 [00:02<00:38,  4.78it/s]"
          ],
          "name": "stderr"
        },
        {
          "output_type": "stream",
          "text": [
            "Train Epoch: 5 [2560/49920 (5%)]\tLoss: 1.410584\n"
          ],
          "name": "stdout"
        },
        {
          "output_type": "stream",
          "text": [
            " 11%|█▏        | 22/195 [00:04<00:34,  4.96it/s]"
          ],
          "name": "stderr"
        },
        {
          "output_type": "stream",
          "text": [
            "Train Epoch: 5 [5120/49920 (10%)]\tLoss: 1.405162\n"
          ],
          "name": "stdout"
        },
        {
          "output_type": "stream",
          "text": [
            " 16%|█▌        | 31/195 [00:06<00:33,  4.88it/s]"
          ],
          "name": "stderr"
        },
        {
          "output_type": "stream",
          "text": [
            "Train Epoch: 5 [7680/49920 (15%)]\tLoss: 1.407016\n"
          ],
          "name": "stdout"
        },
        {
          "output_type": "stream",
          "text": [
            " 22%|██▏       | 42/195 [00:08<00:31,  4.91it/s]"
          ],
          "name": "stderr"
        },
        {
          "output_type": "stream",
          "text": [
            "Train Epoch: 5 [10240/49920 (21%)]\tLoss: 1.386086\n"
          ],
          "name": "stdout"
        },
        {
          "output_type": "stream",
          "text": [
            " 27%|██▋       | 52/195 [00:10<00:28,  4.98it/s]"
          ],
          "name": "stderr"
        },
        {
          "output_type": "stream",
          "text": [
            "Train Epoch: 5 [12800/49920 (26%)]\tLoss: 1.415443\n"
          ],
          "name": "stdout"
        },
        {
          "output_type": "stream",
          "text": [
            " 31%|███▏      | 61/195 [00:12<00:27,  4.79it/s]"
          ],
          "name": "stderr"
        },
        {
          "output_type": "stream",
          "text": [
            "Train Epoch: 5 [15360/49920 (31%)]\tLoss: 1.414457\n"
          ],
          "name": "stdout"
        },
        {
          "output_type": "stream",
          "text": [
            " 36%|███▋      | 71/195 [00:14<00:25,  4.92it/s]"
          ],
          "name": "stderr"
        },
        {
          "output_type": "stream",
          "text": [
            "Train Epoch: 5 [17920/49920 (36%)]\tLoss: 1.404031\n"
          ],
          "name": "stdout"
        },
        {
          "output_type": "stream",
          "text": [
            " 42%|████▏     | 81/195 [00:16<00:23,  4.80it/s]"
          ],
          "name": "stderr"
        },
        {
          "output_type": "stream",
          "text": [
            "Train Epoch: 5 [20480/49920 (41%)]\tLoss: 1.380732\n"
          ],
          "name": "stdout"
        },
        {
          "output_type": "stream",
          "text": [
            " 47%|████▋     | 91/195 [00:18<00:21,  4.91it/s]"
          ],
          "name": "stderr"
        },
        {
          "output_type": "stream",
          "text": [
            "Train Epoch: 5 [23040/49920 (46%)]\tLoss: 1.380545\n"
          ],
          "name": "stdout"
        },
        {
          "output_type": "stream",
          "text": [
            " 52%|█████▏    | 101/195 [00:20<00:19,  4.86it/s]"
          ],
          "name": "stderr"
        },
        {
          "output_type": "stream",
          "text": [
            "Train Epoch: 5 [25600/49920 (51%)]\tLoss: 1.410713\n"
          ],
          "name": "stdout"
        },
        {
          "output_type": "stream",
          "text": [
            " 57%|█████▋    | 112/195 [00:23<00:16,  4.92it/s]"
          ],
          "name": "stderr"
        },
        {
          "output_type": "stream",
          "text": [
            "Train Epoch: 5 [28160/49920 (56%)]\tLoss: 1.383443\n"
          ],
          "name": "stdout"
        },
        {
          "output_type": "stream",
          "text": [
            " 62%|██████▏   | 121/195 [00:24<00:15,  4.87it/s]"
          ],
          "name": "stderr"
        },
        {
          "output_type": "stream",
          "text": [
            "Train Epoch: 5 [30720/49920 (62%)]\tLoss: 1.411305\n"
          ],
          "name": "stdout"
        },
        {
          "output_type": "stream",
          "text": [
            " 67%|██████▋   | 131/195 [00:26<00:13,  4.86it/s]"
          ],
          "name": "stderr"
        },
        {
          "output_type": "stream",
          "text": [
            "Train Epoch: 5 [33280/49920 (67%)]\tLoss: 1.402349\n"
          ],
          "name": "stdout"
        },
        {
          "output_type": "stream",
          "text": [
            " 72%|███████▏  | 141/195 [00:28<00:10,  4.97it/s]"
          ],
          "name": "stderr"
        },
        {
          "output_type": "stream",
          "text": [
            "Train Epoch: 5 [35840/49920 (72%)]\tLoss: 1.406866\n"
          ],
          "name": "stdout"
        },
        {
          "output_type": "stream",
          "text": [
            " 77%|███████▋  | 151/195 [00:31<00:09,  4.78it/s]"
          ],
          "name": "stderr"
        },
        {
          "output_type": "stream",
          "text": [
            "Train Epoch: 5 [38400/49920 (77%)]\tLoss: 1.415566\n"
          ],
          "name": "stdout"
        },
        {
          "output_type": "stream",
          "text": [
            " 83%|████████▎ | 162/195 [00:33<00:06,  4.95it/s]"
          ],
          "name": "stderr"
        },
        {
          "output_type": "stream",
          "text": [
            "Train Epoch: 5 [40960/49920 (82%)]\tLoss: 1.399991\n"
          ],
          "name": "stdout"
        },
        {
          "output_type": "stream",
          "text": [
            " 88%|████████▊ | 171/195 [00:35<00:04,  4.90it/s]"
          ],
          "name": "stderr"
        },
        {
          "output_type": "stream",
          "text": [
            "Train Epoch: 5 [43520/49920 (87%)]\tLoss: 1.386253\n"
          ],
          "name": "stdout"
        },
        {
          "output_type": "stream",
          "text": [
            " 93%|█████████▎| 182/195 [00:37<00:02,  4.91it/s]"
          ],
          "name": "stderr"
        },
        {
          "output_type": "stream",
          "text": [
            "Train Epoch: 5 [46080/49920 (92%)]\tLoss: 1.389990\n"
          ],
          "name": "stdout"
        },
        {
          "output_type": "stream",
          "text": [
            " 98%|█████████▊| 192/195 [00:39<00:00,  4.95it/s]"
          ],
          "name": "stderr"
        },
        {
          "output_type": "stream",
          "text": [
            "Train Epoch: 5 [48640/49920 (97%)]\tLoss: 1.392755\n"
          ],
          "name": "stdout"
        },
        {
          "output_type": "stream",
          "text": [
            "100%|██████████| 195/195 [00:39<00:00,  5.46it/s]\n"
          ],
          "name": "stderr"
        },
        {
          "output_type": "stream",
          "text": [
            "Input\t great sigh and leaned against the cavern wall. \"I am weak...\" he said. \"Don't worry, sir,\" said Har\n",
            "GT\tgreat sigh and leaned against the cavern wall. \"I am weak...\" he said. \"Don't worry, sir,\" said Harr\n",
            "pred\ttoeat atlhtand aoared anainst the soreryoaasl  \"I dm torre .  \"e said  \"Io 't warky  Ior,  said Harr\n",
            "\n",
            "\n",
            "Input\t dragged. \"Save your energy, sir. . . . We'll soon be out of here. . . .\" \"The archway will have sea\n",
            "GT\tdragged. \"Save your energy, sir. . . . We'll soon be out of here. . . .\" \"The archway will have seal\n",
            "pred\t.iagoed \"\"Ioie you  sndr e  Iol, I . . .hlll be n auhant of tir .\"\" . .  \"Ihersneheaysaatl bave toer\n",
            "\n",
            "\n",
            "Input\t... I can Apparate us both back . . . Don't worry. . . .\" \"I am not worried, Harry,\" said Dumbledore\n",
            "GT\t.. I can Apparate us both back . . . Don't worry. . . .\" \"I am not worried, Harry,\" said Dumbledore,\n",
            "pred\t   I ton t parate ts aeth ouck t . . .ub't warky .I . .  \"I dm sot sarkyed \"aarry,  said Humbledore.\n",
            "\n",
            "\n",
            "Input\this eyes: the smell of salt, the sea breeze had gone. He and Dumbledore were shivering and dripping \n",
            "GT\tis eyes: the smell of salt, the sea breeze had gone. He and Dumbledore were shivering and dripping i\n",
            "pred\t n hyes  \"he caoll af tiil  ahe stcrooaaaonsad aote  \"e wnd tumbledore sare stomiring atd aranpeng a\n",
            "\n",
            "\n",
            "Input\tparition had thrown Dumbledore off-balance; then he saw his face, paler and damper than ever in the \n",
            "GT\tarition had thrown Dumbledore off-balance; then he saw his face, paler and damper than ever in the d\n",
            "pred\tirenynn aad boeoun tumbledore sn iioclrted the  he hai tis hace. ause sand arrpldiahat hveryhn the s\n",
            "\n",
            "\n"
          ],
          "name": "stdout"
        },
        {
          "output_type": "stream",
          "text": [
            "\r  0%|          | 0/195 [00:00<?, ?it/s]"
          ],
          "name": "stderr"
        },
        {
          "output_type": "stream",
          "text": [
            "\n",
            "Test set: Average loss: 1.4681, Accuracy: 707825/1254400 (56%)\n",
            "\n",
            "Saved /content/checkpoints/005.pt\n",
            "\n"
          ],
          "name": "stdout"
        },
        {
          "output_type": "stream",
          "text": [
            "  1%|          | 2/195 [00:00<00:51,  3.78it/s]"
          ],
          "name": "stderr"
        },
        {
          "output_type": "stream",
          "text": [
            "Train Epoch: 6 [0/49920 (0%)]\tLoss: 1.411597\n"
          ],
          "name": "stdout"
        },
        {
          "output_type": "stream",
          "text": [
            "  6%|▌         | 12/195 [00:02<00:37,  4.86it/s]"
          ],
          "name": "stderr"
        },
        {
          "output_type": "stream",
          "text": [
            "Train Epoch: 6 [2560/49920 (5%)]\tLoss: 1.400793\n"
          ],
          "name": "stdout"
        },
        {
          "output_type": "stream",
          "text": [
            " 11%|█▏        | 22/195 [00:04<00:34,  4.99it/s]"
          ],
          "name": "stderr"
        },
        {
          "output_type": "stream",
          "text": [
            "Train Epoch: 6 [5120/49920 (10%)]\tLoss: 1.381660\n"
          ],
          "name": "stdout"
        },
        {
          "output_type": "stream",
          "text": [
            " 16%|█▌        | 31/195 [00:06<00:32,  4.98it/s]"
          ],
          "name": "stderr"
        },
        {
          "output_type": "stream",
          "text": [
            "Train Epoch: 6 [7680/49920 (15%)]\tLoss: 1.397536\n"
          ],
          "name": "stdout"
        },
        {
          "output_type": "stream",
          "text": [
            " 21%|██        | 41/195 [00:08<00:30,  4.98it/s]"
          ],
          "name": "stderr"
        },
        {
          "output_type": "stream",
          "text": [
            "Train Epoch: 6 [10240/49920 (21%)]\tLoss: 1.378404\n"
          ],
          "name": "stdout"
        },
        {
          "output_type": "stream",
          "text": [
            " 27%|██▋       | 52/195 [00:10<00:28,  5.02it/s]"
          ],
          "name": "stderr"
        },
        {
          "output_type": "stream",
          "text": [
            "Train Epoch: 6 [12800/49920 (26%)]\tLoss: 1.405163\n"
          ],
          "name": "stdout"
        },
        {
          "output_type": "stream",
          "text": [
            " 32%|███▏      | 62/195 [00:12<00:26,  5.00it/s]"
          ],
          "name": "stderr"
        },
        {
          "output_type": "stream",
          "text": [
            "Train Epoch: 6 [15360/49920 (31%)]\tLoss: 1.410893\n"
          ],
          "name": "stdout"
        },
        {
          "output_type": "stream",
          "text": [
            " 37%|███▋      | 72/195 [00:14<00:24,  4.99it/s]"
          ],
          "name": "stderr"
        },
        {
          "output_type": "stream",
          "text": [
            "Train Epoch: 6 [17920/49920 (36%)]\tLoss: 1.405218\n"
          ],
          "name": "stdout"
        },
        {
          "output_type": "stream",
          "text": [
            " 42%|████▏     | 82/195 [00:16<00:22,  4.96it/s]"
          ],
          "name": "stderr"
        },
        {
          "output_type": "stream",
          "text": [
            "Train Epoch: 6 [20480/49920 (41%)]\tLoss: 1.380941\n"
          ],
          "name": "stdout"
        },
        {
          "output_type": "stream",
          "text": [
            " 47%|████▋     | 92/195 [00:18<00:20,  4.97it/s]"
          ],
          "name": "stderr"
        },
        {
          "output_type": "stream",
          "text": [
            "Train Epoch: 6 [23040/49920 (46%)]\tLoss: 1.374871\n"
          ],
          "name": "stdout"
        },
        {
          "output_type": "stream",
          "text": [
            " 52%|█████▏    | 101/195 [00:20<00:18,  5.01it/s]"
          ],
          "name": "stderr"
        },
        {
          "output_type": "stream",
          "text": [
            "Train Epoch: 6 [25600/49920 (51%)]\tLoss: 1.390331\n"
          ],
          "name": "stdout"
        },
        {
          "output_type": "stream",
          "text": [
            " 57%|█████▋    | 112/195 [00:22<00:16,  4.97it/s]"
          ],
          "name": "stderr"
        },
        {
          "output_type": "stream",
          "text": [
            "Train Epoch: 6 [28160/49920 (56%)]\tLoss: 1.370826\n"
          ],
          "name": "stdout"
        },
        {
          "output_type": "stream",
          "text": [
            " 62%|██████▏   | 121/195 [00:24<00:14,  5.00it/s]"
          ],
          "name": "stderr"
        },
        {
          "output_type": "stream",
          "text": [
            "Train Epoch: 6 [30720/49920 (62%)]\tLoss: 1.410353\n"
          ],
          "name": "stdout"
        },
        {
          "output_type": "stream",
          "text": [
            " 68%|██████▊   | 132/195 [00:26<00:12,  5.01it/s]"
          ],
          "name": "stderr"
        },
        {
          "output_type": "stream",
          "text": [
            "Train Epoch: 6 [33280/49920 (67%)]\tLoss: 1.424289\n"
          ],
          "name": "stdout"
        },
        {
          "output_type": "stream",
          "text": [
            " 73%|███████▎  | 142/195 [00:28<00:10,  5.02it/s]"
          ],
          "name": "stderr"
        },
        {
          "output_type": "stream",
          "text": [
            "Train Epoch: 6 [35840/49920 (72%)]\tLoss: 1.405124\n"
          ],
          "name": "stdout"
        },
        {
          "output_type": "stream",
          "text": [
            " 77%|███████▋  | 151/195 [00:30<00:09,  4.88it/s]"
          ],
          "name": "stderr"
        },
        {
          "output_type": "stream",
          "text": [
            "Train Epoch: 6 [38400/49920 (77%)]\tLoss: 1.401360\n"
          ],
          "name": "stdout"
        },
        {
          "output_type": "stream",
          "text": [
            " 83%|████████▎ | 161/195 [00:32<00:06,  4.88it/s]"
          ],
          "name": "stderr"
        },
        {
          "output_type": "stream",
          "text": [
            "Train Epoch: 6 [40960/49920 (82%)]\tLoss: 1.383899\n"
          ],
          "name": "stdout"
        },
        {
          "output_type": "stream",
          "text": [
            " 88%|████████▊ | 171/195 [00:34<00:04,  4.95it/s]"
          ],
          "name": "stderr"
        },
        {
          "output_type": "stream",
          "text": [
            "Train Epoch: 6 [43520/49920 (87%)]\tLoss: 1.376986\n"
          ],
          "name": "stdout"
        },
        {
          "output_type": "stream",
          "text": [
            " 93%|█████████▎| 181/195 [00:36<00:02,  4.97it/s]"
          ],
          "name": "stderr"
        },
        {
          "output_type": "stream",
          "text": [
            "Train Epoch: 6 [46080/49920 (92%)]\tLoss: 1.382358\n"
          ],
          "name": "stdout"
        },
        {
          "output_type": "stream",
          "text": [
            " 98%|█████████▊| 192/195 [00:38<00:00,  4.98it/s]"
          ],
          "name": "stderr"
        },
        {
          "output_type": "stream",
          "text": [
            "Train Epoch: 6 [48640/49920 (97%)]\tLoss: 1.384430\n"
          ],
          "name": "stdout"
        },
        {
          "output_type": "stream",
          "text": [
            "100%|██████████| 195/195 [00:39<00:00,  5.64it/s]\n"
          ],
          "name": "stderr"
        },
        {
          "output_type": "stream",
          "text": [
            "Input\t great sigh and leaned against the cavern wall. \"I am weak...\" he said. \"Don't worry, sir,\" said Har\n",
            "GT\tgreat sigh and leaned against the cavern wall. \"I am weak...\" he said. \"Don't worry, sir,\" said Harr\n",
            "pred\ttoeat atlhtand aetred ttainst the soreryeaasl  \"I dm thrre\".  \"e said  \"Iu 't warky  Ior,  said Harr\n",
            "\n",
            "\n",
            "Input\t dragged. \"Save your energy, sir. . . . We'll soon be out of here. . . .\" \"The archway will have sea\n",
            "GT\tdragged. \"Save your energy, sir. . . . We'll soon be out of here. . . .\" \"The archway will have seal\n",
            "pred\t.iawoed \"IIhie you  sydr e  aol, I . . .eall be n tutant of tir .\"\" . .  \"Ihe creheayswatl bave ttet\n",
            "\n",
            "\n",
            "Input\t... I can Apparate us both back . . . Don't worry. . . .\" \"I am not worried, Harry,\" said Dumbledore\n",
            "GT\t.. I can Apparate us both back . . . Don't worry. . . .\" \"I am not worried, Harry,\" said Dumbledore,\n",
            "pred\t   I tan't parate tseaeth oeck t . . .ub't warky .I . .  \"I dm tot sarkyed \"aarry,  said Humbledore.\n",
            "\n",
            "\n",
            "Input\this eyes: the smell of salt, the sea breeze had gone. He and Dumbledore were shivering and dripping \n",
            "GT\tis eyes: the smell of salt, the sea breeze had gone. He and Dumbledore were shivering and dripping i\n",
            "pred\t n hyes. the stall sf ttil  ahe staroaaaaensad bote  \"e wsd tumbledore sare stomiring atd aeanpeng a\n",
            "\n",
            "\n",
            "Input\tparition had thrown Dumbledore off-balance; then he saw his face, paler and damper than ever in the \n",
            "GT\tarition had thrown Dumbledore off-balance; then he saw his face, paler and damper than ever in the d\n",
            "pred\tertnenn aad boeeun tumbledore sf icotlrted the  he hai tis hace. aure sand trrpldithet tveryhn the s\n",
            "\n",
            "\n"
          ],
          "name": "stdout"
        },
        {
          "output_type": "stream",
          "text": [
            "\r  0%|          | 0/195 [00:00<?, ?it/s]"
          ],
          "name": "stderr"
        },
        {
          "output_type": "stream",
          "text": [
            "\n",
            "Test set: Average loss: 1.4590, Accuracy: 712354/1254400 (57%)\n",
            "\n",
            "Saved /content/checkpoints/006.pt\n",
            "\n"
          ],
          "name": "stdout"
        },
        {
          "output_type": "stream",
          "text": [
            "\r  1%|          | 1/195 [00:00<00:58,  3.32it/s]"
          ],
          "name": "stderr"
        },
        {
          "output_type": "stream",
          "text": [
            "Train Epoch: 7 [0/49920 (0%)]\tLoss: 1.403625\n"
          ],
          "name": "stdout"
        },
        {
          "output_type": "stream",
          "text": [
            "  6%|▌         | 11/195 [00:02<00:38,  4.82it/s]"
          ],
          "name": "stderr"
        },
        {
          "output_type": "stream",
          "text": [
            "Train Epoch: 7 [2560/49920 (5%)]\tLoss: 1.399675\n"
          ],
          "name": "stdout"
        },
        {
          "output_type": "stream",
          "text": [
            " 11%|█         | 21/195 [00:04<00:36,  4.83it/s]"
          ],
          "name": "stderr"
        },
        {
          "output_type": "stream",
          "text": [
            "Train Epoch: 7 [5120/49920 (10%)]\tLoss: 1.366625\n"
          ],
          "name": "stdout"
        },
        {
          "output_type": "stream",
          "text": [
            " 16%|█▋        | 32/195 [00:06<00:32,  4.95it/s]"
          ],
          "name": "stderr"
        },
        {
          "output_type": "stream",
          "text": [
            "Train Epoch: 7 [7680/49920 (15%)]\tLoss: 1.389873\n"
          ],
          "name": "stdout"
        },
        {
          "output_type": "stream",
          "text": [
            " 21%|██        | 41/195 [00:08<00:31,  4.85it/s]"
          ],
          "name": "stderr"
        },
        {
          "output_type": "stream",
          "text": [
            "Train Epoch: 7 [10240/49920 (21%)]\tLoss: 1.371683\n"
          ],
          "name": "stdout"
        },
        {
          "output_type": "stream",
          "text": [
            " 26%|██▌       | 51/195 [00:10<00:29,  4.81it/s]"
          ],
          "name": "stderr"
        },
        {
          "output_type": "stream",
          "text": [
            "Train Epoch: 7 [12800/49920 (26%)]\tLoss: 1.401600\n"
          ],
          "name": "stdout"
        },
        {
          "output_type": "stream",
          "text": [
            " 32%|███▏      | 62/195 [00:12<00:27,  4.87it/s]"
          ],
          "name": "stderr"
        },
        {
          "output_type": "stream",
          "text": [
            "Train Epoch: 7 [15360/49920 (31%)]\tLoss: 1.403249\n"
          ],
          "name": "stdout"
        },
        {
          "output_type": "stream",
          "text": [
            " 36%|███▋      | 71/195 [00:14<00:25,  4.87it/s]"
          ],
          "name": "stderr"
        },
        {
          "output_type": "stream",
          "text": [
            "Train Epoch: 7 [17920/49920 (36%)]\tLoss: 1.399315\n"
          ],
          "name": "stdout"
        },
        {
          "output_type": "stream",
          "text": [
            " 42%|████▏     | 81/195 [00:16<00:23,  4.85it/s]"
          ],
          "name": "stderr"
        },
        {
          "output_type": "stream",
          "text": [
            "Train Epoch: 7 [20480/49920 (41%)]\tLoss: 1.372183\n"
          ],
          "name": "stdout"
        },
        {
          "output_type": "stream",
          "text": [
            " 47%|████▋     | 91/195 [00:18<00:20,  4.97it/s]"
          ],
          "name": "stderr"
        },
        {
          "output_type": "stream",
          "text": [
            "Train Epoch: 7 [23040/49920 (46%)]\tLoss: 1.370126\n"
          ],
          "name": "stdout"
        },
        {
          "output_type": "stream",
          "text": [
            " 52%|█████▏    | 101/195 [00:20<00:19,  4.87it/s]"
          ],
          "name": "stderr"
        },
        {
          "output_type": "stream",
          "text": [
            "Train Epoch: 7 [25600/49920 (51%)]\tLoss: 1.393906\n"
          ],
          "name": "stdout"
        },
        {
          "output_type": "stream",
          "text": [
            " 57%|█████▋    | 112/195 [00:23<00:16,  4.93it/s]"
          ],
          "name": "stderr"
        },
        {
          "output_type": "stream",
          "text": [
            "Train Epoch: 7 [28160/49920 (56%)]\tLoss: 1.363826\n"
          ],
          "name": "stdout"
        },
        {
          "output_type": "stream",
          "text": [
            " 63%|██████▎   | 122/195 [00:25<00:14,  4.90it/s]"
          ],
          "name": "stderr"
        },
        {
          "output_type": "stream",
          "text": [
            "Train Epoch: 7 [30720/49920 (62%)]\tLoss: 1.403080\n"
          ],
          "name": "stdout"
        },
        {
          "output_type": "stream",
          "text": [
            " 68%|██████▊   | 132/195 [00:27<00:12,  4.92it/s]"
          ],
          "name": "stderr"
        },
        {
          "output_type": "stream",
          "text": [
            "Train Epoch: 7 [33280/49920 (67%)]\tLoss: 1.388447\n"
          ],
          "name": "stdout"
        },
        {
          "output_type": "stream",
          "text": [
            " 72%|███████▏  | 141/195 [00:29<00:11,  4.83it/s]"
          ],
          "name": "stderr"
        },
        {
          "output_type": "stream",
          "text": [
            "Train Epoch: 7 [35840/49920 (72%)]\tLoss: 1.403883\n"
          ],
          "name": "stdout"
        },
        {
          "output_type": "stream",
          "text": [
            " 77%|███████▋  | 151/195 [00:31<00:08,  4.94it/s]"
          ],
          "name": "stderr"
        },
        {
          "output_type": "stream",
          "text": [
            "Train Epoch: 7 [38400/49920 (77%)]\tLoss: 1.392102\n"
          ],
          "name": "stdout"
        },
        {
          "output_type": "stream",
          "text": [
            " 83%|████████▎ | 161/195 [00:33<00:06,  4.89it/s]"
          ],
          "name": "stderr"
        },
        {
          "output_type": "stream",
          "text": [
            "Train Epoch: 7 [40960/49920 (82%)]\tLoss: 1.382676\n"
          ],
          "name": "stdout"
        },
        {
          "output_type": "stream",
          "text": [
            " 88%|████████▊ | 171/195 [00:35<00:04,  4.91it/s]"
          ],
          "name": "stderr"
        },
        {
          "output_type": "stream",
          "text": [
            "Train Epoch: 7 [43520/49920 (87%)]\tLoss: 1.373584\n"
          ],
          "name": "stdout"
        },
        {
          "output_type": "stream",
          "text": [
            " 93%|█████████▎| 181/195 [00:37<00:02,  4.86it/s]"
          ],
          "name": "stderr"
        },
        {
          "output_type": "stream",
          "text": [
            "Train Epoch: 7 [46080/49920 (92%)]\tLoss: 1.373984\n"
          ],
          "name": "stdout"
        },
        {
          "output_type": "stream",
          "text": [
            " 98%|█████████▊| 192/195 [00:39<00:00,  4.89it/s]"
          ],
          "name": "stderr"
        },
        {
          "output_type": "stream",
          "text": [
            "Train Epoch: 7 [48640/49920 (97%)]\tLoss: 1.379298\n"
          ],
          "name": "stdout"
        },
        {
          "output_type": "stream",
          "text": [
            "100%|██████████| 195/195 [00:40<00:00,  5.54it/s]\n"
          ],
          "name": "stderr"
        },
        {
          "output_type": "stream",
          "text": [
            "Input\t great sigh and leaned against the cavern wall. \"I am weak...\" he said. \"Don't worry, sir,\" said Har\n",
            "GT\tgreat sigh and leaned against the cavern wall. \"I am weak...\" he said. \"Don't worry, sir,\" said Harr\n",
            "pred\ttoeat atlhtand aetred atainst the soreryeaatl  \"I tm thlre\".  \"e said  \"Iu 't tarky  Ior,  said Harr\n",
            "\n",
            "\n",
            "Input\t dragged. \"Save your energy, sir. . . . We'll soon be out of here. . . .\" \"The archway will have sea\n",
            "GT\tdragged. \"Save your energy, sir. . . . We'll soon be out of here. . . .\" \"The archway will have seal\n",
            "pred\t.iewoed \"IIhie you  dydr e \"ahr, I . . .elll be n tetant of tir ,\"\" . .  \"Ihe creheayswetl bave tuer\n",
            "\n",
            "\n",
            "Input\t... I can Apparate us both back . . . Don't worry. . . .\" \"I am not worried, Harry,\" said Dumbledore\n",
            "GT\t.. I can Apparate us both back . . . Don't worry. . . .\" \"I am not worried, Harry,\" said Dumbledore,\n",
            "pred\t   I tan't parate tseaeth oeck t . . .ub't wauky \"I . .  \"I dm tot sarkyed \"aarry,\" said Humbledore.\n",
            "\n",
            "\n",
            "Input\this eyes: the smell of salt, the sea breeze had gone. He and Dumbledore were shivering and dripping \n",
            "GT\tis eyes: the smell of salt, the sea breeze had gone. He and Dumbledore were shivering and dripping i\n",
            "pred\t n hyes, the stall sf ttil  aheystaroaaaaedoad bote  \"e wnd tumbledore sare atomiring atd aeanpeng a\n",
            "\n",
            "\n",
            "Input\tparition had thrown Dumbledore off-balance; then he saw his face, paler and damper than ever in the \n",
            "GT\tarition had thrown Dumbledore off-balance; then he saw his face, paler and damper than ever in the d\n",
            "pred\tertnenn aad bheoun tumbledore wf icoclrced the  he wai tim hace. aure aand sirpldeahet tverytn the s\n",
            "\n",
            "\n"
          ],
          "name": "stdout"
        },
        {
          "output_type": "stream",
          "text": [
            "\r  0%|          | 0/195 [00:00<?, ?it/s]"
          ],
          "name": "stderr"
        },
        {
          "output_type": "stream",
          "text": [
            "\n",
            "Test set: Average loss: 1.4587, Accuracy: 711462/1254400 (57%)\n",
            "\n"
          ],
          "name": "stdout"
        },
        {
          "output_type": "stream",
          "text": [
            "  1%|          | 2/195 [00:00<00:52,  3.69it/s]"
          ],
          "name": "stderr"
        },
        {
          "output_type": "stream",
          "text": [
            "Train Epoch: 8 [0/49920 (0%)]\tLoss: 1.401533\n"
          ],
          "name": "stdout"
        },
        {
          "output_type": "stream",
          "text": [
            "  6%|▌         | 11/195 [00:02<00:38,  4.84it/s]"
          ],
          "name": "stderr"
        },
        {
          "output_type": "stream",
          "text": [
            "Train Epoch: 8 [2560/49920 (5%)]\tLoss: 1.388821\n"
          ],
          "name": "stdout"
        },
        {
          "output_type": "stream",
          "text": [
            " 11%|█         | 21/195 [00:04<00:36,  4.81it/s]"
          ],
          "name": "stderr"
        },
        {
          "output_type": "stream",
          "text": [
            "Train Epoch: 8 [5120/49920 (10%)]\tLoss: 1.363051\n"
          ],
          "name": "stdout"
        },
        {
          "output_type": "stream",
          "text": [
            " 16%|█▌        | 31/195 [00:06<00:33,  4.85it/s]"
          ],
          "name": "stderr"
        },
        {
          "output_type": "stream",
          "text": [
            "Train Epoch: 8 [7680/49920 (15%)]\tLoss: 1.378823\n"
          ],
          "name": "stdout"
        },
        {
          "output_type": "stream",
          "text": [
            " 21%|██        | 41/195 [00:08<00:31,  4.84it/s]"
          ],
          "name": "stderr"
        },
        {
          "output_type": "stream",
          "text": [
            "Train Epoch: 8 [10240/49920 (21%)]\tLoss: 1.367868\n"
          ],
          "name": "stdout"
        },
        {
          "output_type": "stream",
          "text": [
            " 26%|██▌       | 51/195 [00:10<00:29,  4.89it/s]"
          ],
          "name": "stderr"
        },
        {
          "output_type": "stream",
          "text": [
            "Train Epoch: 8 [12800/49920 (26%)]\tLoss: 1.391915\n"
          ],
          "name": "stdout"
        },
        {
          "output_type": "stream",
          "text": [
            " 31%|███▏      | 61/195 [00:12<00:26,  4.98it/s]"
          ],
          "name": "stderr"
        },
        {
          "output_type": "stream",
          "text": [
            "Train Epoch: 8 [15360/49920 (31%)]\tLoss: 1.397855\n"
          ],
          "name": "stdout"
        },
        {
          "output_type": "stream",
          "text": [
            " 37%|███▋      | 72/195 [00:14<00:25,  4.87it/s]"
          ],
          "name": "stderr"
        },
        {
          "output_type": "stream",
          "text": [
            "Train Epoch: 8 [17920/49920 (36%)]\tLoss: 1.390054\n"
          ],
          "name": "stdout"
        },
        {
          "output_type": "stream",
          "text": [
            " 42%|████▏     | 81/195 [00:16<00:23,  4.87it/s]"
          ],
          "name": "stderr"
        },
        {
          "output_type": "stream",
          "text": [
            "Train Epoch: 8 [20480/49920 (41%)]\tLoss: 1.364914\n"
          ],
          "name": "stdout"
        },
        {
          "output_type": "stream",
          "text": [
            " 47%|████▋     | 91/195 [00:18<00:21,  4.79it/s]"
          ],
          "name": "stderr"
        },
        {
          "output_type": "stream",
          "text": [
            "Train Epoch: 8 [23040/49920 (46%)]\tLoss: 1.368669\n"
          ],
          "name": "stdout"
        },
        {
          "output_type": "stream",
          "text": [
            " 52%|█████▏    | 101/195 [00:20<00:19,  4.90it/s]"
          ],
          "name": "stderr"
        },
        {
          "output_type": "stream",
          "text": [
            "Train Epoch: 8 [25600/49920 (51%)]\tLoss: 1.390472\n"
          ],
          "name": "stdout"
        },
        {
          "output_type": "stream",
          "text": [
            " 57%|█████▋    | 111/195 [00:22<00:17,  4.86it/s]"
          ],
          "name": "stderr"
        },
        {
          "output_type": "stream",
          "text": [
            "Train Epoch: 8 [28160/49920 (56%)]\tLoss: 1.359716\n"
          ],
          "name": "stdout"
        },
        {
          "output_type": "stream",
          "text": [
            " 62%|██████▏   | 121/195 [00:24<00:14,  4.94it/s]"
          ],
          "name": "stderr"
        },
        {
          "output_type": "stream",
          "text": [
            "Train Epoch: 8 [30720/49920 (62%)]\tLoss: 1.393865\n"
          ],
          "name": "stdout"
        },
        {
          "output_type": "stream",
          "text": [
            " 67%|██████▋   | 131/195 [00:26<00:13,  4.91it/s]"
          ],
          "name": "stderr"
        },
        {
          "output_type": "stream",
          "text": [
            "Train Epoch: 8 [33280/49920 (67%)]\tLoss: 1.414834\n"
          ],
          "name": "stdout"
        },
        {
          "output_type": "stream",
          "text": [
            " 73%|███████▎  | 142/195 [00:29<00:10,  4.94it/s]"
          ],
          "name": "stderr"
        },
        {
          "output_type": "stream",
          "text": [
            "Train Epoch: 8 [35840/49920 (72%)]\tLoss: 1.391724\n"
          ],
          "name": "stdout"
        },
        {
          "output_type": "stream",
          "text": [
            " 78%|███████▊  | 152/195 [00:31<00:08,  5.01it/s]"
          ],
          "name": "stderr"
        },
        {
          "output_type": "stream",
          "text": [
            "Train Epoch: 8 [38400/49920 (77%)]\tLoss: 1.387902\n"
          ],
          "name": "stdout"
        },
        {
          "output_type": "stream",
          "text": [
            " 83%|████████▎ | 161/195 [00:33<00:07,  4.85it/s]"
          ],
          "name": "stderr"
        },
        {
          "output_type": "stream",
          "text": [
            "Train Epoch: 8 [40960/49920 (82%)]\tLoss: 1.372884\n"
          ],
          "name": "stdout"
        },
        {
          "output_type": "stream",
          "text": [
            " 88%|████████▊ | 171/195 [00:35<00:04,  4.87it/s]"
          ],
          "name": "stderr"
        },
        {
          "output_type": "stream",
          "text": [
            "Train Epoch: 8 [43520/49920 (87%)]\tLoss: 1.365216\n"
          ],
          "name": "stdout"
        },
        {
          "output_type": "stream",
          "text": [
            " 93%|█████████▎| 181/195 [00:37<00:02,  4.88it/s]"
          ],
          "name": "stderr"
        },
        {
          "output_type": "stream",
          "text": [
            "Train Epoch: 8 [46080/49920 (92%)]\tLoss: 1.369038\n"
          ],
          "name": "stdout"
        },
        {
          "output_type": "stream",
          "text": [
            " 98%|█████████▊| 191/195 [00:39<00:00,  4.78it/s]"
          ],
          "name": "stderr"
        },
        {
          "output_type": "stream",
          "text": [
            "Train Epoch: 8 [48640/49920 (97%)]\tLoss: 1.373752\n"
          ],
          "name": "stdout"
        },
        {
          "output_type": "stream",
          "text": [
            "100%|██████████| 195/195 [00:40<00:00,  5.53it/s]\n"
          ],
          "name": "stderr"
        },
        {
          "output_type": "stream",
          "text": [
            "Input\t great sigh and leaned against the cavern wall. \"I am weak...\" he said. \"Don't worry, sir,\" said Har\n",
            "GT\tgreat sigh and leaned against the cavern wall. \"I am weak...\" he said. \"Don't worry, sir,\" said Harr\n",
            "pred\ttooat atlhtand tetred atainst the soreryeaatl  \"I tm th re\".  \"e said  \"Iu 't tanky  Ior,  said Harr\n",
            "\n",
            "\n",
            "Input\t dragged. \"Save your energy, sir. . . . We'll soon be out of here. . . .\" \"The archway will have sea\n",
            "GT\tdragged. \"Save your energy, sir. . . . We'll soon be out of here. . . .\" \"The archway will have seal\n",
            "pred\tIoewoed \"IIhye you  dyoree \"ahr, I . . .elll be n tetant of tir ,\"\" . .  \"Ihe crehearsoetl bave tuer\n",
            "\n",
            "\n",
            "Input\t... I can Apparate us both back . . . Don't worry. . . .\" \"I am not worried, Harry,\" said Dumbledore\n",
            "GT\t.. I can Apparate us both back . . . Don't worry. . . .\" \"I am not worried, Harry,\" said Dumbledore,\n",
            "pred\t   I ton t rarate tseaeth oeck t . . .ub't wanky \"I . .  \"I sm tot sarkyed \"aarry,\" said Humbledore.\n",
            "\n",
            "\n",
            "Input\this eyes: the smell of salt, the sea breeze had gone. He and Dumbledore were shivering and dripping \n",
            "GT\tis eyes: the smell of salt, the sea breeze had gone. He and Dumbledore were shivering and dripping i\n",
            "pred\t n oyes, the stall wf ttil  aheystaroaaatedoad bote  \"e wnd Humbledore ware atomiring atd aeanpeng a\n",
            "\n",
            "\n",
            "Input\tparition had thrown Dumbledore off-balance; then he saw his face, paler and damper than ever in the \n",
            "GT\tarition had thrown Dumbledore off-balance; then he saw his face, paler and damper than ever in the d\n",
            "pred\tertnenn aed boeoun tumbledore wf  coclrced the  he wai tim hace. aure aand srrplreahet tverytn the s\n",
            "\n",
            "\n"
          ],
          "name": "stdout"
        },
        {
          "output_type": "stream",
          "text": [
            "\r  0%|          | 0/195 [00:00<?, ?it/s]"
          ],
          "name": "stderr"
        },
        {
          "output_type": "stream",
          "text": [
            "\n",
            "Test set: Average loss: 1.4520, Accuracy: 714490/1254400 (57%)\n",
            "\n",
            "Saved /content/checkpoints/008.pt\n",
            "\n"
          ],
          "name": "stdout"
        },
        {
          "output_type": "stream",
          "text": [
            "  1%|          | 2/195 [00:00<00:50,  3.86it/s]"
          ],
          "name": "stderr"
        },
        {
          "output_type": "stream",
          "text": [
            "Train Epoch: 9 [0/49920 (0%)]\tLoss: 1.395148\n"
          ],
          "name": "stdout"
        },
        {
          "output_type": "stream",
          "text": [
            "  6%|▌         | 12/195 [00:02<00:37,  4.93it/s]"
          ],
          "name": "stderr"
        },
        {
          "output_type": "stream",
          "text": [
            "Train Epoch: 9 [2560/49920 (5%)]\tLoss: 1.396617\n"
          ],
          "name": "stdout"
        },
        {
          "output_type": "stream",
          "text": [
            " 11%|█         | 21/195 [00:04<00:35,  4.97it/s]"
          ],
          "name": "stderr"
        },
        {
          "output_type": "stream",
          "text": [
            "Train Epoch: 9 [5120/49920 (10%)]\tLoss: 1.358643\n"
          ],
          "name": "stdout"
        },
        {
          "output_type": "stream",
          "text": [
            " 16%|█▌        | 31/195 [00:06<00:33,  4.97it/s]"
          ],
          "name": "stderr"
        },
        {
          "output_type": "stream",
          "text": [
            "Train Epoch: 9 [7680/49920 (15%)]\tLoss: 1.370862\n"
          ],
          "name": "stdout"
        },
        {
          "output_type": "stream",
          "text": [
            " 22%|██▏       | 42/195 [00:08<00:31,  4.90it/s]"
          ],
          "name": "stderr"
        },
        {
          "output_type": "stream",
          "text": [
            "Train Epoch: 9 [10240/49920 (21%)]\tLoss: 1.358744\n"
          ],
          "name": "stdout"
        },
        {
          "output_type": "stream",
          "text": [
            " 26%|██▌       | 51/195 [00:10<00:29,  4.90it/s]"
          ],
          "name": "stderr"
        },
        {
          "output_type": "stream",
          "text": [
            "Train Epoch: 9 [12800/49920 (26%)]\tLoss: 1.388587\n"
          ],
          "name": "stdout"
        },
        {
          "output_type": "stream",
          "text": [
            " 31%|███▏      | 61/195 [00:12<00:27,  4.96it/s]"
          ],
          "name": "stderr"
        },
        {
          "output_type": "stream",
          "text": [
            "Train Epoch: 9 [15360/49920 (31%)]\tLoss: 1.394534\n"
          ],
          "name": "stdout"
        },
        {
          "output_type": "stream",
          "text": [
            " 37%|███▋      | 72/195 [00:14<00:24,  4.99it/s]"
          ],
          "name": "stderr"
        },
        {
          "output_type": "stream",
          "text": [
            "Train Epoch: 9 [17920/49920 (36%)]\tLoss: 1.382936\n"
          ],
          "name": "stdout"
        },
        {
          "output_type": "stream",
          "text": [
            " 42%|████▏     | 82/195 [00:16<00:22,  4.92it/s]"
          ],
          "name": "stderr"
        },
        {
          "output_type": "stream",
          "text": [
            "Train Epoch: 9 [20480/49920 (41%)]\tLoss: 1.359135\n"
          ],
          "name": "stdout"
        },
        {
          "output_type": "stream",
          "text": [
            " 47%|████▋     | 91/195 [00:18<00:21,  4.90it/s]"
          ],
          "name": "stderr"
        },
        {
          "output_type": "stream",
          "text": [
            "Train Epoch: 9 [23040/49920 (46%)]\tLoss: 1.357060\n"
          ],
          "name": "stdout"
        },
        {
          "output_type": "stream",
          "text": [
            " 52%|█████▏    | 101/195 [00:20<00:18,  4.96it/s]"
          ],
          "name": "stderr"
        },
        {
          "output_type": "stream",
          "text": [
            "Train Epoch: 9 [25600/49920 (51%)]\tLoss: 1.388979\n"
          ],
          "name": "stdout"
        },
        {
          "output_type": "stream",
          "text": [
            " 57%|█████▋    | 112/195 [00:22<00:16,  4.94it/s]"
          ],
          "name": "stderr"
        },
        {
          "output_type": "stream",
          "text": [
            "Train Epoch: 9 [28160/49920 (56%)]\tLoss: 1.352767\n"
          ],
          "name": "stdout"
        },
        {
          "output_type": "stream",
          "text": [
            " 62%|██████▏   | 121/195 [00:24<00:14,  4.98it/s]"
          ],
          "name": "stderr"
        },
        {
          "output_type": "stream",
          "text": [
            "Train Epoch: 9 [30720/49920 (62%)]\tLoss: 1.386607\n"
          ],
          "name": "stdout"
        },
        {
          "output_type": "stream",
          "text": [
            " 67%|██████▋   | 131/195 [00:26<00:12,  4.98it/s]"
          ],
          "name": "stderr"
        },
        {
          "output_type": "stream",
          "text": [
            "Train Epoch: 9 [33280/49920 (67%)]\tLoss: 1.415047\n"
          ],
          "name": "stdout"
        },
        {
          "output_type": "stream",
          "text": [
            " 73%|███████▎  | 142/195 [00:28<00:10,  5.00it/s]"
          ],
          "name": "stderr"
        },
        {
          "output_type": "stream",
          "text": [
            "Train Epoch: 9 [35840/49920 (72%)]\tLoss: 1.395674\n"
          ],
          "name": "stdout"
        },
        {
          "output_type": "stream",
          "text": [
            " 78%|███████▊  | 152/195 [00:30<00:08,  4.98it/s]"
          ],
          "name": "stderr"
        },
        {
          "output_type": "stream",
          "text": [
            "Train Epoch: 9 [38400/49920 (77%)]\tLoss: 1.386044\n"
          ],
          "name": "stdout"
        },
        {
          "output_type": "stream",
          "text": [
            " 83%|████████▎ | 161/195 [00:32<00:07,  4.86it/s]"
          ],
          "name": "stderr"
        },
        {
          "output_type": "stream",
          "text": [
            "Train Epoch: 9 [40960/49920 (82%)]\tLoss: 1.368458\n"
          ],
          "name": "stdout"
        },
        {
          "output_type": "stream",
          "text": [
            " 88%|████████▊ | 171/195 [00:34<00:04,  4.82it/s]"
          ],
          "name": "stderr"
        },
        {
          "output_type": "stream",
          "text": [
            "Train Epoch: 9 [43520/49920 (87%)]\tLoss: 1.356286\n"
          ],
          "name": "stdout"
        },
        {
          "output_type": "stream",
          "text": [
            " 93%|█████████▎| 182/195 [00:36<00:02,  4.97it/s]"
          ],
          "name": "stderr"
        },
        {
          "output_type": "stream",
          "text": [
            "Train Epoch: 9 [46080/49920 (92%)]\tLoss: 1.364055\n"
          ],
          "name": "stdout"
        },
        {
          "output_type": "stream",
          "text": [
            " 98%|█████████▊| 191/195 [00:38<00:00,  4.91it/s]"
          ],
          "name": "stderr"
        },
        {
          "output_type": "stream",
          "text": [
            "Train Epoch: 9 [48640/49920 (97%)]\tLoss: 1.367933\n"
          ],
          "name": "stdout"
        },
        {
          "output_type": "stream",
          "text": [
            "100%|██████████| 195/195 [00:39<00:00,  5.48it/s]\n"
          ],
          "name": "stderr"
        },
        {
          "output_type": "stream",
          "text": [
            "Input\t great sigh and leaned against the cavern wall. \"I am weak...\" he said. \"Don't worry, sir,\" said Har\n",
            "GT\tgreat sigh and leaned against the cavern wall. \"I am weak...\" he said. \"Don't worry, sir,\" said Harr\n",
            "pred\ttoeat aulhtand totred ttainst the soreryoaatl  \"I tm th ri\".  \"e said  \"Iu 't tanky  Ior,  said Harr\n",
            "\n",
            "\n",
            "Input\t dragged. \"Save your energy, sir. . . . We'll soon be out of here. . . .\" \"The archway will have sea\n",
            "GT\tdragged. \"Save your energy, sir. . . . We'll soon be out of here. . . .\" \"The archway will have seal\n",
            "pred\tIoenoed \"IIoye you  dyoree \"aor  I . . .elll be n tetant of tir ,\"I . .  \"Iha crrhear,aatl bave tuer\n",
            "\n",
            "\n",
            "Input\t... I can Apparate us both back . . . Don't worry. . . .\" \"I am not worried, Harry,\" said Dumbledore\n",
            "GT\t.. I can Apparate us both back . . . Don't worry. . . .\" \"I am not worried, Harry,\" said Dumbledore,\n",
            "pred\t   I ton tnparate ts aeth oeck t . . .ub't tanky \"I . .  \"I tm tot tarkyed \"aarry,\" said Humbledore.\n",
            "\n",
            "\n",
            "Input\this eyes: the smell of salt, the sea breeze had gone. He and Dumbledore were shivering and dripping \n",
            "GT\tis eyes: the smell of salt, the sea breeze had gone. He and Dumbledore were shivering and dripping i\n",
            "pred\t n oyes, theyctall wf ttml  aheystcroaaatedoad bote  \"a wnd Humbledore ware atomiring atd aoanpeng a\n",
            "\n",
            "\n",
            "Input\tparition had thrown Dumbledore off-balance; then he saw his face, paler and damper than ever in the \n",
            "GT\tarition had thrown Dumbledore off-balance; then he saw his face, paler and damper than ever in the d\n",
            "pred\tertnennsaad boeoun tumbledore wf  coclrced the  he wai tim hace. auredaand sorpldeahet tverytn the s\n",
            "\n",
            "\n"
          ],
          "name": "stdout"
        },
        {
          "output_type": "stream",
          "text": [
            "\r  0%|          | 0/195 [00:00<?, ?it/s]"
          ],
          "name": "stderr"
        },
        {
          "output_type": "stream",
          "text": [
            "\n",
            "Test set: Average loss: 1.4474, Accuracy: 715995/1254400 (57%)\n",
            "\n",
            "Saved /content/checkpoints/009.pt\n",
            "\n"
          ],
          "name": "stdout"
        },
        {
          "output_type": "stream",
          "text": [
            "\r  1%|          | 1/195 [00:00<00:59,  3.26it/s]"
          ],
          "name": "stderr"
        },
        {
          "output_type": "stream",
          "text": [
            "Train Epoch: 10 [0/49920 (0%)]\tLoss: 1.390587\n"
          ],
          "name": "stdout"
        },
        {
          "output_type": "stream",
          "text": [
            "  6%|▌         | 11/195 [00:02<00:38,  4.80it/s]"
          ],
          "name": "stderr"
        },
        {
          "output_type": "stream",
          "text": [
            "Train Epoch: 10 [2560/49920 (5%)]\tLoss: 1.381671\n"
          ],
          "name": "stdout"
        },
        {
          "output_type": "stream",
          "text": [
            " 11%|█         | 21/195 [00:04<00:35,  4.88it/s]"
          ],
          "name": "stderr"
        },
        {
          "output_type": "stream",
          "text": [
            "Train Epoch: 10 [5120/49920 (10%)]\tLoss: 1.353238\n"
          ],
          "name": "stdout"
        },
        {
          "output_type": "stream",
          "text": [
            " 16%|█▋        | 32/195 [00:06<00:33,  4.84it/s]"
          ],
          "name": "stderr"
        },
        {
          "output_type": "stream",
          "text": [
            "Train Epoch: 10 [7680/49920 (15%)]\tLoss: 1.364723\n"
          ],
          "name": "stdout"
        },
        {
          "output_type": "stream",
          "text": [
            " 22%|██▏       | 42/195 [00:08<00:30,  4.96it/s]"
          ],
          "name": "stderr"
        },
        {
          "output_type": "stream",
          "text": [
            "Train Epoch: 10 [10240/49920 (21%)]\tLoss: 1.350111\n"
          ],
          "name": "stdout"
        },
        {
          "output_type": "stream",
          "text": [
            " 26%|██▌       | 51/195 [00:10<00:29,  4.82it/s]"
          ],
          "name": "stderr"
        },
        {
          "output_type": "stream",
          "text": [
            "Train Epoch: 10 [12800/49920 (26%)]\tLoss: 1.381783\n"
          ],
          "name": "stdout"
        },
        {
          "output_type": "stream",
          "text": [
            " 31%|███▏      | 61/195 [00:12<00:28,  4.73it/s]"
          ],
          "name": "stderr"
        },
        {
          "output_type": "stream",
          "text": [
            "Train Epoch: 10 [15360/49920 (31%)]\tLoss: 1.391670\n"
          ],
          "name": "stdout"
        },
        {
          "output_type": "stream",
          "text": [
            " 36%|███▋      | 71/195 [00:14<00:25,  4.86it/s]"
          ],
          "name": "stderr"
        },
        {
          "output_type": "stream",
          "text": [
            "Train Epoch: 10 [17920/49920 (36%)]\tLoss: 1.375885\n"
          ],
          "name": "stdout"
        },
        {
          "output_type": "stream",
          "text": [
            " 42%|████▏     | 81/195 [00:16<00:23,  4.78it/s]"
          ],
          "name": "stderr"
        },
        {
          "output_type": "stream",
          "text": [
            "Train Epoch: 10 [20480/49920 (41%)]\tLoss: 1.353580\n"
          ],
          "name": "stdout"
        },
        {
          "output_type": "stream",
          "text": [
            " 47%|████▋     | 91/195 [00:18<00:21,  4.84it/s]"
          ],
          "name": "stderr"
        },
        {
          "output_type": "stream",
          "text": [
            "Train Epoch: 10 [23040/49920 (46%)]\tLoss: 1.349949\n"
          ],
          "name": "stdout"
        },
        {
          "output_type": "stream",
          "text": [
            " 52%|█████▏    | 102/195 [00:21<00:18,  4.90it/s]"
          ],
          "name": "stderr"
        },
        {
          "output_type": "stream",
          "text": [
            "Train Epoch: 10 [25600/49920 (51%)]\tLoss: 1.373843\n"
          ],
          "name": "stdout"
        },
        {
          "output_type": "stream",
          "text": [
            " 57%|█████▋    | 111/195 [00:23<00:17,  4.81it/s]"
          ],
          "name": "stderr"
        },
        {
          "output_type": "stream",
          "text": [
            "Train Epoch: 10 [28160/49920 (56%)]\tLoss: 1.345598\n"
          ],
          "name": "stdout"
        },
        {
          "output_type": "stream",
          "text": [
            " 62%|██████▏   | 121/195 [00:25<00:15,  4.85it/s]"
          ],
          "name": "stderr"
        },
        {
          "output_type": "stream",
          "text": [
            "Train Epoch: 10 [30720/49920 (62%)]\tLoss: 1.375002\n"
          ],
          "name": "stdout"
        },
        {
          "output_type": "stream",
          "text": [
            " 68%|██████▊   | 132/195 [00:27<00:12,  4.89it/s]"
          ],
          "name": "stderr"
        },
        {
          "output_type": "stream",
          "text": [
            "Train Epoch: 10 [33280/49920 (67%)]\tLoss: 1.404026\n"
          ],
          "name": "stdout"
        },
        {
          "output_type": "stream",
          "text": [
            " 72%|███████▏  | 141/195 [00:29<00:11,  4.80it/s]"
          ],
          "name": "stderr"
        },
        {
          "output_type": "stream",
          "text": [
            "Train Epoch: 10 [35840/49920 (72%)]\tLoss: 1.391740\n"
          ],
          "name": "stdout"
        },
        {
          "output_type": "stream",
          "text": [
            " 77%|███████▋  | 151/195 [00:31<00:09,  4.85it/s]"
          ],
          "name": "stderr"
        },
        {
          "output_type": "stream",
          "text": [
            "Train Epoch: 10 [38400/49920 (77%)]\tLoss: 1.381819\n"
          ],
          "name": "stdout"
        },
        {
          "output_type": "stream",
          "text": [
            " 83%|████████▎ | 161/195 [00:33<00:07,  4.86it/s]"
          ],
          "name": "stderr"
        },
        {
          "output_type": "stream",
          "text": [
            "Train Epoch: 10 [40960/49920 (82%)]\tLoss: 1.362897\n"
          ],
          "name": "stdout"
        },
        {
          "output_type": "stream",
          "text": [
            " 88%|████████▊ | 172/195 [00:35<00:04,  4.90it/s]"
          ],
          "name": "stderr"
        },
        {
          "output_type": "stream",
          "text": [
            "Train Epoch: 10 [43520/49920 (87%)]\tLoss: 1.352307\n"
          ],
          "name": "stdout"
        },
        {
          "output_type": "stream",
          "text": [
            " 93%|█████████▎| 182/195 [00:37<00:02,  4.96it/s]"
          ],
          "name": "stderr"
        },
        {
          "output_type": "stream",
          "text": [
            "Train Epoch: 10 [46080/49920 (92%)]\tLoss: 1.357637\n"
          ],
          "name": "stdout"
        },
        {
          "output_type": "stream",
          "text": [
            " 98%|█████████▊| 191/195 [00:39<00:00,  4.72it/s]"
          ],
          "name": "stderr"
        },
        {
          "output_type": "stream",
          "text": [
            "Train Epoch: 10 [48640/49920 (97%)]\tLoss: 1.363845\n"
          ],
          "name": "stdout"
        },
        {
          "output_type": "stream",
          "text": [
            "100%|██████████| 195/195 [00:40<00:00,  5.50it/s]\n"
          ],
          "name": "stderr"
        },
        {
          "output_type": "stream",
          "text": [
            "Input\t great sigh and leaned against the cavern wall. \"I am weak...\" he said. \"Don't worry, sir,\" said Har\n",
            "GT\tgreat sigh and leaned against the cavern wall. \"I am weak...\" he said. \"Don't worry, sir,\" said Harr\n",
            "pred\ttoeat tulhtond tetred ttainst the soreryooatl  \"I tm th ri\".  \"e said  \"Iu 't tarky  aor,  said Harr\n",
            "\n",
            "\n",
            "Input\t dragged. \"Save your energy, sir. . . . We'll soon be out of here. . . .\" \"The archway will have sea\n",
            "GT\tdragged. \"Save your energy, sir. . . . We'll soon be out of here. . . .\" \"The archway will have seal\n",
            "pred\tIoewoed \"IIoye you  dyoree \"aor  I . . .elll be n tetant of tir ,\"I . .  \"Iha crmhear,tatl bave tuer\n",
            "\n",
            "\n",
            "Input\t... I can Apparate us both back . . . Don't worry. . . .\" \"I am not worried, Harry,\" said Dumbledore\n",
            "GT\t.. I can Apparate us both back . . . Don't worry. . . .\" \"I am not worried, Harry,\" said Dumbledore,\n",
            "pred\t   I tan t parate tseaeth oeck t . . .ub't tarky \"I . .  \"I ts tot tarkyed \"aarry,\" said Humbledore.\n",
            "\n",
            "\n",
            "Input\this eyes: the smell of salt, the sea breeze had gone. He and Dumbledore were shivering and dripping \n",
            "GT\tis eyes: the smell of salt, the sea breeze had gone. He and Dumbledore were shivering and dripping i\n",
            "pred\t n oyes  theyctall of ttml  ahe statoaaatedoad bote  \"e wnd Humbledore ware atomiring atd aoanpeng a\n",
            "\n",
            "\n",
            "Input\tparition had thrown Dumbledore off-balance; then he saw his face, paler and damper than ever in the \n",
            "GT\tarition had thrown Dumbledore off-balance; then he saw his face, paler and damper than ever in the d\n",
            "pred\tertnennsaid bheoun tumbledore wf  coclrced the  he sai tis hace. auredaand sorpldeahet tverytn the s\n",
            "\n",
            "\n"
          ],
          "name": "stdout"
        },
        {
          "output_type": "stream",
          "text": [
            "\r  0%|          | 0/195 [00:00<?, ?it/s]"
          ],
          "name": "stderr"
        },
        {
          "output_type": "stream",
          "text": [
            "\n",
            "Test set: Average loss: 1.4406, Accuracy: 718422/1254400 (57%)\n",
            "\n",
            "Saved /content/checkpoints/010.pt\n",
            "\n"
          ],
          "name": "stdout"
        },
        {
          "output_type": "stream",
          "text": [
            "  1%|          | 2/195 [00:00<00:50,  3.79it/s]"
          ],
          "name": "stderr"
        },
        {
          "output_type": "stream",
          "text": [
            "Train Epoch: 11 [0/49920 (0%)]\tLoss: 1.385522\n"
          ],
          "name": "stdout"
        },
        {
          "output_type": "stream",
          "text": [
            "  6%|▌         | 11/195 [00:02<00:38,  4.75it/s]"
          ],
          "name": "stderr"
        },
        {
          "output_type": "stream",
          "text": [
            "Train Epoch: 11 [2560/49920 (5%)]\tLoss: 1.372174\n"
          ],
          "name": "stdout"
        },
        {
          "output_type": "stream",
          "text": [
            " 11%|█         | 21/195 [00:04<00:35,  4.91it/s]"
          ],
          "name": "stderr"
        },
        {
          "output_type": "stream",
          "text": [
            "Train Epoch: 11 [5120/49920 (10%)]\tLoss: 1.350248\n"
          ],
          "name": "stdout"
        },
        {
          "output_type": "stream",
          "text": [
            " 16%|█▌        | 31/195 [00:06<00:33,  4.88it/s]"
          ],
          "name": "stderr"
        },
        {
          "output_type": "stream",
          "text": [
            "Train Epoch: 11 [7680/49920 (15%)]\tLoss: 1.359921\n"
          ],
          "name": "stdout"
        },
        {
          "output_type": "stream",
          "text": [
            " 22%|██▏       | 42/195 [00:08<00:31,  4.92it/s]"
          ],
          "name": "stderr"
        },
        {
          "output_type": "stream",
          "text": [
            "Train Epoch: 11 [10240/49920 (21%)]\tLoss: 1.345533\n"
          ],
          "name": "stdout"
        },
        {
          "output_type": "stream",
          "text": [
            " 26%|██▌       | 51/195 [00:10<00:29,  4.87it/s]"
          ],
          "name": "stderr"
        },
        {
          "output_type": "stream",
          "text": [
            "Train Epoch: 11 [12800/49920 (26%)]\tLoss: 1.377292\n"
          ],
          "name": "stdout"
        },
        {
          "output_type": "stream",
          "text": [
            " 31%|███▏      | 61/195 [00:12<00:27,  4.83it/s]"
          ],
          "name": "stderr"
        },
        {
          "output_type": "stream",
          "text": [
            "Train Epoch: 11 [15360/49920 (31%)]\tLoss: 1.385390\n"
          ],
          "name": "stdout"
        },
        {
          "output_type": "stream",
          "text": [
            " 36%|███▋      | 71/195 [00:14<00:25,  4.86it/s]"
          ],
          "name": "stderr"
        },
        {
          "output_type": "stream",
          "text": [
            "Train Epoch: 11 [17920/49920 (36%)]\tLoss: 1.369227\n"
          ],
          "name": "stdout"
        },
        {
          "output_type": "stream",
          "text": [
            " 42%|████▏     | 81/195 [00:16<00:23,  4.77it/s]"
          ],
          "name": "stderr"
        },
        {
          "output_type": "stream",
          "text": [
            "Train Epoch: 11 [20480/49920 (41%)]\tLoss: 1.348812\n"
          ],
          "name": "stdout"
        },
        {
          "output_type": "stream",
          "text": [
            " 47%|████▋     | 91/195 [00:18<00:21,  4.92it/s]"
          ],
          "name": "stderr"
        },
        {
          "output_type": "stream",
          "text": [
            "Train Epoch: 11 [23040/49920 (46%)]\tLoss: 1.345140\n"
          ],
          "name": "stdout"
        },
        {
          "output_type": "stream",
          "text": [
            " 52%|█████▏    | 101/195 [00:20<00:19,  4.92it/s]"
          ],
          "name": "stderr"
        },
        {
          "output_type": "stream",
          "text": [
            "Train Epoch: 11 [25600/49920 (51%)]\tLoss: 1.363553\n"
          ],
          "name": "stdout"
        },
        {
          "output_type": "stream",
          "text": [
            " 57%|█████▋    | 112/195 [00:23<00:16,  4.94it/s]"
          ],
          "name": "stderr"
        },
        {
          "output_type": "stream",
          "text": [
            "Train Epoch: 11 [28160/49920 (56%)]\tLoss: 1.341123\n"
          ],
          "name": "stdout"
        },
        {
          "output_type": "stream",
          "text": [
            " 62%|██████▏   | 121/195 [00:24<00:15,  4.83it/s]"
          ],
          "name": "stderr"
        },
        {
          "output_type": "stream",
          "text": [
            "Train Epoch: 11 [30720/49920 (62%)]\tLoss: 1.371018\n"
          ],
          "name": "stdout"
        },
        {
          "output_type": "stream",
          "text": [
            " 67%|██████▋   | 131/195 [00:26<00:13,  4.85it/s]"
          ],
          "name": "stderr"
        },
        {
          "output_type": "stream",
          "text": [
            "Train Epoch: 11 [33280/49920 (67%)]\tLoss: 1.401737\n"
          ],
          "name": "stdout"
        },
        {
          "output_type": "stream",
          "text": [
            " 72%|███████▏  | 141/195 [00:29<00:10,  4.97it/s]"
          ],
          "name": "stderr"
        },
        {
          "output_type": "stream",
          "text": [
            "Train Epoch: 11 [35840/49920 (72%)]\tLoss: 1.384666\n"
          ],
          "name": "stdout"
        },
        {
          "output_type": "stream",
          "text": [
            " 77%|███████▋  | 151/195 [00:31<00:09,  4.79it/s]"
          ],
          "name": "stderr"
        },
        {
          "output_type": "stream",
          "text": [
            "Train Epoch: 11 [38400/49920 (77%)]\tLoss: 1.375462\n"
          ],
          "name": "stdout"
        },
        {
          "output_type": "stream",
          "text": [
            " 83%|████████▎ | 161/195 [00:33<00:06,  4.88it/s]"
          ],
          "name": "stderr"
        },
        {
          "output_type": "stream",
          "text": [
            "Train Epoch: 11 [40960/49920 (82%)]\tLoss: 1.357925\n"
          ],
          "name": "stdout"
        },
        {
          "output_type": "stream",
          "text": [
            " 88%|████████▊ | 171/195 [00:35<00:04,  4.85it/s]"
          ],
          "name": "stderr"
        },
        {
          "output_type": "stream",
          "text": [
            "Train Epoch: 11 [43520/49920 (87%)]\tLoss: 1.348905\n"
          ],
          "name": "stdout"
        },
        {
          "output_type": "stream",
          "text": [
            " 93%|█████████▎| 182/195 [00:37<00:02,  4.91it/s]"
          ],
          "name": "stderr"
        },
        {
          "output_type": "stream",
          "text": [
            "Train Epoch: 11 [46080/49920 (92%)]\tLoss: 1.354109\n"
          ],
          "name": "stdout"
        },
        {
          "output_type": "stream",
          "text": [
            " 98%|█████████▊| 191/195 [00:39<00:00,  4.93it/s]"
          ],
          "name": "stderr"
        },
        {
          "output_type": "stream",
          "text": [
            "Train Epoch: 11 [48640/49920 (97%)]\tLoss: 1.360000\n"
          ],
          "name": "stdout"
        },
        {
          "output_type": "stream",
          "text": [
            "100%|██████████| 195/195 [00:40<00:00,  5.48it/s]\n"
          ],
          "name": "stderr"
        },
        {
          "output_type": "stream",
          "text": [
            "Input\t great sigh and leaned against the cavern wall. \"I am weak...\" he said. \"Don't worry, sir,\" said Har\n",
            "GT\tgreat sigh and leaned against the cavern wall. \"I am weak...\" he said. \"Don't worry, sir,\" said Harr\n",
            "pred\ttoeat tulhtond tetred ttainst the soreriooatl  \"I tm te ri\".  \"e said  \"Iu 't tarky  aor,  said Harr\n",
            "\n",
            "\n",
            "Input\t dragged. \"Save your energy, sir. . . . We'll soon be out of here. . . .\" \"The archway will have sea\n",
            "GT\tdragged. \"Save your energy, sir. . . . We'll soon be out of here. . . .\" \"The archway will have seal\n",
            "pred\tIoewoed \"IIoye you  dyoree  aor  I . . .elll be n tetant of tir ,\"I . .  \"Iha srrheer,tatl bave teer\n",
            "\n",
            "\n",
            "Input\t... I can Apparate us both back . . . Don't worry. . . .\" \"I am not worried, Harry,\" said Dumbledore\n",
            "GT\t.. I can Apparate us both back . . . Don't worry. . . .\" \"I am not worried, Harry,\" said Dumbledore,\n",
            "pred\t   I tan tnparate tseaeth oeck t . . .ub't yarky \"I . .  \"I ts tot tarkyed \"aarry,\" said Humbledore.\n",
            "\n",
            "\n",
            "Input\this eyes: the smell of salt, the sea breeze had gone. He and Dumbledore were shivering and dripping \n",
            "GT\tis eyes: the smell of salt, the sea breeze had gone. He and Dumbledore were shivering and dripping i\n",
            "pred\t n oyes  theyctall of ttml  ahe stcrooaatedoad bote  \"a wnd Humbledore ware atomiring atd aoanpeng a\n",
            "\n",
            "\n",
            "Input\tparition had thrown Dumbledore off-balance; then he saw his face, paler and damper than ever in the \n",
            "GT\tarition had thrown Dumbledore off-balance; then he saw his face, paler and damper than ever in the d\n",
            "pred\tinenennsain boeeun tumbledore wf  coclrced the  he sai tis hace  auredaand sorplreahet tverytn the s\n",
            "\n",
            "\n"
          ],
          "name": "stdout"
        },
        {
          "output_type": "stream",
          "text": [
            "\r  0%|          | 0/195 [00:00<?, ?it/s]"
          ],
          "name": "stderr"
        },
        {
          "output_type": "stream",
          "text": [
            "\n",
            "Test set: Average loss: 1.4362, Accuracy: 719692/1254400 (57%)\n",
            "\n",
            "Saved /content/checkpoints/011.pt\n",
            "\n"
          ],
          "name": "stdout"
        },
        {
          "output_type": "stream",
          "text": [
            "  1%|          | 2/195 [00:00<00:51,  3.78it/s]"
          ],
          "name": "stderr"
        },
        {
          "output_type": "stream",
          "text": [
            "Train Epoch: 12 [0/49920 (0%)]\tLoss: 1.380698\n"
          ],
          "name": "stdout"
        },
        {
          "output_type": "stream",
          "text": [
            "  6%|▌         | 12/195 [00:02<00:37,  4.91it/s]"
          ],
          "name": "stderr"
        },
        {
          "output_type": "stream",
          "text": [
            "Train Epoch: 12 [2560/49920 (5%)]\tLoss: 1.367099\n"
          ],
          "name": "stdout"
        },
        {
          "output_type": "stream",
          "text": [
            " 11%|█▏        | 22/195 [00:04<00:34,  4.99it/s]"
          ],
          "name": "stderr"
        },
        {
          "output_type": "stream",
          "text": [
            "Train Epoch: 12 [5120/49920 (10%)]\tLoss: 1.345238\n"
          ],
          "name": "stdout"
        },
        {
          "output_type": "stream",
          "text": [
            " 16%|█▌        | 31/195 [00:06<00:32,  4.98it/s]"
          ],
          "name": "stderr"
        },
        {
          "output_type": "stream",
          "text": [
            "Train Epoch: 12 [7680/49920 (15%)]\tLoss: 1.356115\n"
          ],
          "name": "stdout"
        },
        {
          "output_type": "stream",
          "text": [
            " 21%|██        | 41/195 [00:08<00:31,  4.96it/s]"
          ],
          "name": "stderr"
        },
        {
          "output_type": "stream",
          "text": [
            "Train Epoch: 12 [10240/49920 (21%)]\tLoss: 1.341007\n"
          ],
          "name": "stdout"
        },
        {
          "output_type": "stream",
          "text": [
            " 26%|██▌       | 51/195 [00:10<00:28,  4.97it/s]"
          ],
          "name": "stderr"
        },
        {
          "output_type": "stream",
          "text": [
            "Train Epoch: 12 [12800/49920 (26%)]\tLoss: 1.373320\n"
          ],
          "name": "stdout"
        },
        {
          "output_type": "stream",
          "text": [
            " 31%|███▏      | 61/195 [00:12<00:27,  4.85it/s]"
          ],
          "name": "stderr"
        },
        {
          "output_type": "stream",
          "text": [
            "Train Epoch: 12 [15360/49920 (31%)]\tLoss: 1.379295\n"
          ],
          "name": "stdout"
        },
        {
          "output_type": "stream",
          "text": [
            " 37%|███▋      | 72/195 [00:14<00:24,  4.96it/s]"
          ],
          "name": "stderr"
        },
        {
          "output_type": "stream",
          "text": [
            "Train Epoch: 12 [17920/49920 (36%)]\tLoss: 1.364491\n"
          ],
          "name": "stdout"
        },
        {
          "output_type": "stream",
          "text": [
            " 42%|████▏     | 82/195 [00:16<00:22,  4.98it/s]"
          ],
          "name": "stderr"
        },
        {
          "output_type": "stream",
          "text": [
            "Train Epoch: 12 [20480/49920 (41%)]\tLoss: 1.344936\n"
          ],
          "name": "stdout"
        },
        {
          "output_type": "stream",
          "text": [
            " 47%|████▋     | 92/195 [00:18<00:20,  5.00it/s]"
          ],
          "name": "stderr"
        },
        {
          "output_type": "stream",
          "text": [
            "Train Epoch: 12 [23040/49920 (46%)]\tLoss: 1.342319\n"
          ],
          "name": "stdout"
        },
        {
          "output_type": "stream",
          "text": [
            " 52%|█████▏    | 101/195 [00:20<00:18,  4.98it/s]"
          ],
          "name": "stderr"
        },
        {
          "output_type": "stream",
          "text": [
            "Train Epoch: 12 [25600/49920 (51%)]\tLoss: 1.355979\n"
          ],
          "name": "stdout"
        },
        {
          "output_type": "stream",
          "text": [
            " 57%|█████▋    | 112/195 [00:22<00:16,  4.99it/s]"
          ],
          "name": "stderr"
        },
        {
          "output_type": "stream",
          "text": [
            "Train Epoch: 12 [28160/49920 (56%)]\tLoss: 1.337228\n"
          ],
          "name": "stdout"
        },
        {
          "output_type": "stream",
          "text": [
            " 63%|██████▎   | 122/195 [00:24<00:14,  5.01it/s]"
          ],
          "name": "stderr"
        },
        {
          "output_type": "stream",
          "text": [
            "Train Epoch: 12 [30720/49920 (62%)]\tLoss: 1.370247\n"
          ],
          "name": "stdout"
        },
        {
          "output_type": "stream",
          "text": [
            " 67%|██████▋   | 131/195 [00:26<00:12,  4.96it/s]"
          ],
          "name": "stderr"
        },
        {
          "output_type": "stream",
          "text": [
            "Train Epoch: 12 [33280/49920 (67%)]\tLoss: 1.385731\n"
          ],
          "name": "stdout"
        },
        {
          "output_type": "stream",
          "text": [
            " 73%|███████▎  | 142/195 [00:28<00:10,  5.00it/s]"
          ],
          "name": "stderr"
        },
        {
          "output_type": "stream",
          "text": [
            "Train Epoch: 12 [35840/49920 (72%)]\tLoss: 1.375965\n"
          ],
          "name": "stdout"
        },
        {
          "output_type": "stream",
          "text": [
            " 78%|███████▊  | 152/195 [00:30<00:08,  4.95it/s]"
          ],
          "name": "stderr"
        },
        {
          "output_type": "stream",
          "text": [
            "Train Epoch: 12 [38400/49920 (77%)]\tLoss: 1.367627\n"
          ],
          "name": "stdout"
        },
        {
          "output_type": "stream",
          "text": [
            " 83%|████████▎ | 161/195 [00:32<00:07,  4.85it/s]"
          ],
          "name": "stderr"
        },
        {
          "output_type": "stream",
          "text": [
            "Train Epoch: 12 [40960/49920 (82%)]\tLoss: 1.356425\n"
          ],
          "name": "stdout"
        },
        {
          "output_type": "stream",
          "text": [
            " 88%|████████▊ | 171/195 [00:34<00:04,  4.96it/s]"
          ],
          "name": "stderr"
        },
        {
          "output_type": "stream",
          "text": [
            "Train Epoch: 12 [43520/49920 (87%)]\tLoss: 1.348457\n"
          ],
          "name": "stdout"
        },
        {
          "output_type": "stream",
          "text": [
            " 93%|█████████▎| 181/195 [00:36<00:02,  4.94it/s]"
          ],
          "name": "stderr"
        },
        {
          "output_type": "stream",
          "text": [
            "Train Epoch: 12 [46080/49920 (92%)]\tLoss: 1.353652\n"
          ],
          "name": "stdout"
        },
        {
          "output_type": "stream",
          "text": [
            " 98%|█████████▊| 192/195 [00:38<00:00,  5.02it/s]"
          ],
          "name": "stderr"
        },
        {
          "output_type": "stream",
          "text": [
            "Train Epoch: 12 [48640/49920 (97%)]\tLoss: 1.357227\n"
          ],
          "name": "stdout"
        },
        {
          "output_type": "stream",
          "text": [
            "100%|██████████| 195/195 [00:39<00:00,  5.70it/s]\n"
          ],
          "name": "stderr"
        },
        {
          "output_type": "stream",
          "text": [
            "Input\t great sigh and leaned against the cavern wall. \"I am weak...\" he said. \"Don't worry, sir,\" said Har\n",
            "GT\tgreat sigh and leaned against the cavern wall. \"I am weak...\" he said. \"Don't worry, sir,\" said Harr\n",
            "pred\ttoeat aulhtond toared ttainst the sorerioaatl. \"I tm te ri\".  se said  \"Io 't tarky  aor   said Harr\n",
            "\n",
            "\n",
            "Input\t dragged. \"Save your energy, sir. . . . We'll soon be out of here. . . .\" \"The archway will have sea\n",
            "GT\tdragged. \"Save your energy, sir. . . . We'll soon be out of here. . . .\" \"The archway will have seal\n",
            "pred\tIoewoed \"IIoye you  dyorge  aor  I . . .elll be n tetant of tir ,\"I . .  \"Iha srrheer,tetl bave teer\n",
            "\n",
            "\n",
            "Input\t... I can Apparate us both back . . . Don't worry. . . .\" \"I am not worried, Harry,\" said Dumbledore\n",
            "GT\t.. I can Apparate us both back . . . Don't worry. . . .\" \"I am not worried, Harry,\" said Dumbledore,\n",
            "pred\t   I tan tnparate tseaeth oeck t . . .un't yarky \"I . .  \"I ts tot tarkyed \"aarry,\" said Humbledore.\n",
            "\n",
            "\n",
            "Input\this eyes: the smell of salt, the sea breeze had gone. He and Dumbledore were shivering and dripping \n",
            "GT\tis eyes: the smell of salt, the sea breeze had gone. He and Dumbledore were shivering and dripping i\n",
            "pred\t n oyes  theyctall of ttml  ahe stcroooanedoad bote  \"a wnd Humbledore ware atomiring atd aoanpeng a\n",
            "\n",
            "\n",
            "Input\tparition had thrown Dumbledore off-balance; then he saw his face, paler and damper than ever in the \n",
            "GT\tarition had thrown Dumbledore off-balance; then he saw his face, paler and damper than ever in the d\n",
            "pred\tinenenn ain boeeun tumbledore an  coclrces ahe  he sai tis hace  aurediand sorplreahet tverytn the s\n",
            "\n",
            "\n"
          ],
          "name": "stdout"
        },
        {
          "output_type": "stream",
          "text": [
            "\r  0%|          | 0/195 [00:00<?, ?it/s]"
          ],
          "name": "stderr"
        },
        {
          "output_type": "stream",
          "text": [
            "\n",
            "Test set: Average loss: 1.4330, Accuracy: 720712/1254400 (57%)\n",
            "\n",
            "Saved /content/checkpoints/012.pt\n",
            "\n"
          ],
          "name": "stdout"
        },
        {
          "output_type": "stream",
          "text": [
            "\r  1%|          | 1/195 [00:00<00:58,  3.34it/s]"
          ],
          "name": "stderr"
        },
        {
          "output_type": "stream",
          "text": [
            "Train Epoch: 13 [0/49920 (0%)]\tLoss: 1.376115\n"
          ],
          "name": "stdout"
        },
        {
          "output_type": "stream",
          "text": [
            "  6%|▌         | 11/195 [00:02<00:38,  4.83it/s]"
          ],
          "name": "stderr"
        },
        {
          "output_type": "stream",
          "text": [
            "Train Epoch: 13 [2560/49920 (5%)]\tLoss: 1.362286\n"
          ],
          "name": "stdout"
        },
        {
          "output_type": "stream",
          "text": [
            " 11%|█         | 21/195 [00:04<00:35,  4.86it/s]"
          ],
          "name": "stderr"
        },
        {
          "output_type": "stream",
          "text": [
            "Train Epoch: 13 [5120/49920 (10%)]\tLoss: 1.340659\n"
          ],
          "name": "stdout"
        },
        {
          "output_type": "stream",
          "text": [
            " 16%|█▌        | 31/195 [00:06<00:33,  4.89it/s]"
          ],
          "name": "stderr"
        },
        {
          "output_type": "stream",
          "text": [
            "Train Epoch: 13 [7680/49920 (15%)]\tLoss: 1.352971\n"
          ],
          "name": "stdout"
        },
        {
          "output_type": "stream",
          "text": [
            " 21%|██        | 41/195 [00:08<00:31,  4.82it/s]"
          ],
          "name": "stderr"
        },
        {
          "output_type": "stream",
          "text": [
            "Train Epoch: 13 [10240/49920 (21%)]\tLoss: 1.337110\n"
          ],
          "name": "stdout"
        },
        {
          "output_type": "stream",
          "text": [
            " 27%|██▋       | 52/195 [00:10<00:29,  4.87it/s]"
          ],
          "name": "stderr"
        },
        {
          "output_type": "stream",
          "text": [
            "Train Epoch: 13 [12800/49920 (26%)]\tLoss: 1.370160\n"
          ],
          "name": "stdout"
        },
        {
          "output_type": "stream",
          "text": [
            " 32%|███▏      | 62/195 [00:12<00:27,  4.84it/s]"
          ],
          "name": "stderr"
        },
        {
          "output_type": "stream",
          "text": [
            "Train Epoch: 13 [15360/49920 (31%)]\tLoss: 1.376053\n"
          ],
          "name": "stdout"
        },
        {
          "output_type": "stream",
          "text": [
            " 36%|███▋      | 71/195 [00:14<00:25,  4.81it/s]"
          ],
          "name": "stderr"
        },
        {
          "output_type": "stream",
          "text": [
            "Train Epoch: 13 [17920/49920 (36%)]\tLoss: 1.360288\n"
          ],
          "name": "stdout"
        },
        {
          "output_type": "stream",
          "text": [
            " 42%|████▏     | 81/195 [00:16<00:23,  4.89it/s]"
          ],
          "name": "stderr"
        },
        {
          "output_type": "stream",
          "text": [
            "Train Epoch: 13 [20480/49920 (41%)]\tLoss: 1.343421\n"
          ],
          "name": "stdout"
        },
        {
          "output_type": "stream",
          "text": [
            " 47%|████▋     | 91/195 [00:18<00:21,  4.94it/s]"
          ],
          "name": "stderr"
        },
        {
          "output_type": "stream",
          "text": [
            "Train Epoch: 13 [23040/49920 (46%)]\tLoss: 1.344566\n"
          ],
          "name": "stdout"
        },
        {
          "output_type": "stream",
          "text": [
            " 52%|█████▏    | 101/195 [00:20<00:19,  4.90it/s]"
          ],
          "name": "stderr"
        },
        {
          "output_type": "stream",
          "text": [
            "Train Epoch: 13 [25600/49920 (51%)]\tLoss: 1.358310\n"
          ],
          "name": "stdout"
        },
        {
          "output_type": "stream",
          "text": [
            " 57%|█████▋    | 112/195 [00:23<00:16,  4.95it/s]"
          ],
          "name": "stderr"
        },
        {
          "output_type": "stream",
          "text": [
            "Train Epoch: 13 [28160/49920 (56%)]\tLoss: 1.334157\n"
          ],
          "name": "stdout"
        },
        {
          "output_type": "stream",
          "text": [
            " 63%|██████▎   | 122/195 [00:25<00:14,  4.91it/s]"
          ],
          "name": "stderr"
        },
        {
          "output_type": "stream",
          "text": [
            "Train Epoch: 13 [30720/49920 (62%)]\tLoss: 1.359880\n"
          ],
          "name": "stdout"
        },
        {
          "output_type": "stream",
          "text": [
            " 67%|██████▋   | 131/195 [00:27<00:13,  4.76it/s]"
          ],
          "name": "stderr"
        },
        {
          "output_type": "stream",
          "text": [
            "Train Epoch: 13 [33280/49920 (67%)]\tLoss: 1.348801\n"
          ],
          "name": "stdout"
        },
        {
          "output_type": "stream",
          "text": [
            " 72%|███████▏  | 141/195 [00:29<00:11,  4.79it/s]"
          ],
          "name": "stderr"
        },
        {
          "output_type": "stream",
          "text": [
            "Train Epoch: 13 [35840/49920 (72%)]\tLoss: 1.366791\n"
          ],
          "name": "stdout"
        },
        {
          "output_type": "stream",
          "text": [
            " 77%|███████▋  | 151/195 [00:31<00:09,  4.86it/s]"
          ],
          "name": "stderr"
        },
        {
          "output_type": "stream",
          "text": [
            "Train Epoch: 13 [38400/49920 (77%)]\tLoss: 1.366264\n"
          ],
          "name": "stdout"
        },
        {
          "output_type": "stream",
          "text": [
            " 83%|████████▎ | 161/195 [00:33<00:06,  4.94it/s]"
          ],
          "name": "stderr"
        },
        {
          "output_type": "stream",
          "text": [
            "Train Epoch: 13 [40960/49920 (82%)]\tLoss: 1.353269\n"
          ],
          "name": "stdout"
        },
        {
          "output_type": "stream",
          "text": [
            " 88%|████████▊ | 172/195 [00:35<00:04,  4.97it/s]"
          ],
          "name": "stderr"
        },
        {
          "output_type": "stream",
          "text": [
            "Train Epoch: 13 [43520/49920 (87%)]\tLoss: 1.348473\n"
          ],
          "name": "stdout"
        },
        {
          "output_type": "stream",
          "text": [
            " 93%|█████████▎| 181/195 [00:37<00:02,  4.86it/s]"
          ],
          "name": "stderr"
        },
        {
          "output_type": "stream",
          "text": [
            "Train Epoch: 13 [46080/49920 (92%)]\tLoss: 1.354814\n"
          ],
          "name": "stdout"
        },
        {
          "output_type": "stream",
          "text": [
            " 98%|█████████▊| 192/195 [00:39<00:00,  4.89it/s]"
          ],
          "name": "stderr"
        },
        {
          "output_type": "stream",
          "text": [
            "Train Epoch: 13 [48640/49920 (97%)]\tLoss: 1.360665\n"
          ],
          "name": "stdout"
        },
        {
          "output_type": "stream",
          "text": [
            "100%|██████████| 195/195 [00:40<00:00,  5.52it/s]\n"
          ],
          "name": "stderr"
        },
        {
          "output_type": "stream",
          "text": [
            "Input\t great sigh and leaned against the cavern wall. \"I am weak...\" he said. \"Don't worry, sir,\" said Har\n",
            "GT\tgreat sigh and leaned against the cavern wall. \"I am weak...\" he said. \"Don't worry, sir,\" said Harr\n",
            "pred\ttoeat tulhtond teartd ttainst the coreriotatl  \"I tm te ri\".  se said  \"Io 't tarky  aor   said Harr\n",
            "\n",
            "\n",
            "Input\t dragged. \"Save your energy, sir. . . . We'll soon be out of here. . . .\" \"The archway will have sea\n",
            "GT\tdragged. \"Save your energy, sir. . . . We'll soon be out of here. . . .\" \"The archway will have seal\n",
            "pred\tIoewoe  \"IIoye you  dnorae  aor  I . . .elll be n tetant of tir  \"I . .  \"Iha drrhear,tetl bave teer\n",
            "\n",
            "\n",
            "Input\t... I can Apparate us both back . . . Don't worry. . . .\" \"I am not worried, Harry,\" said Dumbledore\n",
            "GT\t.. I can Apparate us both back . . . Don't worry. . . .\" \"I am not worried, Harry,\" said Dumbledore,\n",
            "pred\t   I tan'tnparate tseaeth oeck t . . .un't yarky  I . .  \"I ds tot tarkyed  aarry,\" said Humbledore.\n",
            "\n",
            "\n",
            "Input\this eyes: the smell of salt, the sea breeze had gone. He and Dumbledore were shivering and dripping \n",
            "GT\tis eyes: the smell of salt, the sea breeze had gone. He and Dumbledore were shivering and dripping i\n",
            "pred\t n oyes  theystall of ttml  ahe stcroooaneddad bote  \"a wnd Humbledore sare atoniring atd toanping a\n",
            "\n",
            "\n",
            "Input\tparition had thrown Dumbledore off-balance; then he saw his face, paler and damper than ever in the \n",
            "GT\tarition had thrown Dumbledore off-balance; then he saw his face, paler and damper than ever in the d\n",
            "pred\tinenenn ain boeeun tumbledore an  conlrce  the  he sai tis hace  aarediand sorplreahet tverytn the s\n",
            "\n",
            "\n"
          ],
          "name": "stdout"
        },
        {
          "output_type": "stream",
          "text": [
            "\r  0%|          | 0/195 [00:00<?, ?it/s]"
          ],
          "name": "stderr"
        },
        {
          "output_type": "stream",
          "text": [
            "\n",
            "Test set: Average loss: 1.4304, Accuracy: 721752/1254400 (58%)\n",
            "\n",
            "Saved /content/checkpoints/013.pt\n",
            "\n"
          ],
          "name": "stdout"
        },
        {
          "output_type": "stream",
          "text": [
            "  1%|          | 2/195 [00:00<00:52,  3.67it/s]"
          ],
          "name": "stderr"
        },
        {
          "output_type": "stream",
          "text": [
            "Train Epoch: 14 [0/49920 (0%)]\tLoss: 1.373179\n"
          ],
          "name": "stdout"
        },
        {
          "output_type": "stream",
          "text": [
            "  6%|▌         | 12/195 [00:02<00:37,  4.90it/s]"
          ],
          "name": "stderr"
        },
        {
          "output_type": "stream",
          "text": [
            "Train Epoch: 14 [2560/49920 (5%)]\tLoss: 1.356091\n"
          ],
          "name": "stdout"
        },
        {
          "output_type": "stream",
          "text": [
            " 11%|█         | 21/195 [00:04<00:36,  4.76it/s]"
          ],
          "name": "stderr"
        },
        {
          "output_type": "stream",
          "text": [
            "Train Epoch: 14 [5120/49920 (10%)]\tLoss: 1.337190\n"
          ],
          "name": "stdout"
        },
        {
          "output_type": "stream",
          "text": [
            " 16%|█▋        | 32/195 [00:06<00:33,  4.91it/s]"
          ],
          "name": "stderr"
        },
        {
          "output_type": "stream",
          "text": [
            "Train Epoch: 14 [7680/49920 (15%)]\tLoss: 1.351974\n"
          ],
          "name": "stdout"
        },
        {
          "output_type": "stream",
          "text": [
            " 21%|██        | 41/195 [00:08<00:31,  4.84it/s]"
          ],
          "name": "stderr"
        },
        {
          "output_type": "stream",
          "text": [
            "Train Epoch: 14 [10240/49920 (21%)]\tLoss: 1.336242\n"
          ],
          "name": "stdout"
        },
        {
          "output_type": "stream",
          "text": [
            " 27%|██▋       | 52/195 [00:10<00:28,  4.95it/s]"
          ],
          "name": "stderr"
        },
        {
          "output_type": "stream",
          "text": [
            "Train Epoch: 14 [12800/49920 (26%)]\tLoss: 1.368150\n"
          ],
          "name": "stdout"
        },
        {
          "output_type": "stream",
          "text": [
            " 31%|███▏      | 61/195 [00:12<00:26,  4.99it/s]"
          ],
          "name": "stderr"
        },
        {
          "output_type": "stream",
          "text": [
            "Train Epoch: 14 [15360/49920 (31%)]\tLoss: 1.373226\n"
          ],
          "name": "stdout"
        },
        {
          "output_type": "stream",
          "text": [
            " 36%|███▋      | 71/195 [00:14<00:25,  4.81it/s]"
          ],
          "name": "stderr"
        },
        {
          "output_type": "stream",
          "text": [
            "Train Epoch: 14 [17920/49920 (36%)]\tLoss: 1.358853\n"
          ],
          "name": "stdout"
        },
        {
          "output_type": "stream",
          "text": [
            " 42%|████▏     | 81/195 [00:16<00:23,  4.95it/s]"
          ],
          "name": "stderr"
        },
        {
          "output_type": "stream",
          "text": [
            "Train Epoch: 14 [20480/49920 (41%)]\tLoss: 1.342636\n"
          ],
          "name": "stdout"
        },
        {
          "output_type": "stream",
          "text": [
            " 47%|████▋     | 91/195 [00:18<00:21,  4.84it/s]"
          ],
          "name": "stderr"
        },
        {
          "output_type": "stream",
          "text": [
            "Train Epoch: 14 [23040/49920 (46%)]\tLoss: 1.345035\n"
          ],
          "name": "stdout"
        },
        {
          "output_type": "stream",
          "text": [
            " 52%|█████▏    | 101/195 [00:20<00:19,  4.86it/s]"
          ],
          "name": "stderr"
        },
        {
          "output_type": "stream",
          "text": [
            "Train Epoch: 14 [25600/49920 (51%)]\tLoss: 1.356113\n"
          ],
          "name": "stdout"
        },
        {
          "output_type": "stream",
          "text": [
            " 57%|█████▋    | 111/195 [00:22<00:17,  4.89it/s]"
          ],
          "name": "stderr"
        },
        {
          "output_type": "stream",
          "text": [
            "Train Epoch: 14 [28160/49920 (56%)]\tLoss: 1.329192\n"
          ],
          "name": "stdout"
        },
        {
          "output_type": "stream",
          "text": [
            " 62%|██████▏   | 121/195 [00:24<00:15,  4.88it/s]"
          ],
          "name": "stderr"
        },
        {
          "output_type": "stream",
          "text": [
            "Train Epoch: 14 [30720/49920 (62%)]\tLoss: 1.353159\n"
          ],
          "name": "stdout"
        },
        {
          "output_type": "stream",
          "text": [
            " 67%|██████▋   | 131/195 [00:26<00:13,  4.92it/s]"
          ],
          "name": "stderr"
        },
        {
          "output_type": "stream",
          "text": [
            "Train Epoch: 14 [33280/49920 (67%)]\tLoss: 1.341664\n"
          ],
          "name": "stdout"
        },
        {
          "output_type": "stream",
          "text": [
            " 73%|███████▎  | 142/195 [00:29<00:10,  4.90it/s]"
          ],
          "name": "stderr"
        },
        {
          "output_type": "stream",
          "text": [
            "Train Epoch: 14 [35840/49920 (72%)]\tLoss: 1.362105\n"
          ],
          "name": "stdout"
        },
        {
          "output_type": "stream",
          "text": [
            " 78%|███████▊  | 152/195 [00:31<00:08,  4.96it/s]"
          ],
          "name": "stderr"
        },
        {
          "output_type": "stream",
          "text": [
            "Train Epoch: 14 [38400/49920 (77%)]\tLoss: 1.364862\n"
          ],
          "name": "stdout"
        },
        {
          "output_type": "stream",
          "text": [
            " 83%|████████▎ | 161/195 [00:33<00:07,  4.81it/s]"
          ],
          "name": "stderr"
        },
        {
          "output_type": "stream",
          "text": [
            "Train Epoch: 14 [40960/49920 (82%)]\tLoss: 1.353942\n"
          ],
          "name": "stdout"
        },
        {
          "output_type": "stream",
          "text": [
            " 88%|████████▊ | 171/195 [00:35<00:04,  4.89it/s]"
          ],
          "name": "stderr"
        },
        {
          "output_type": "stream",
          "text": [
            "Train Epoch: 14 [43520/49920 (87%)]\tLoss: 1.345152\n"
          ],
          "name": "stdout"
        },
        {
          "output_type": "stream",
          "text": [
            " 93%|█████████▎| 181/195 [00:37<00:02,  4.82it/s]"
          ],
          "name": "stderr"
        },
        {
          "output_type": "stream",
          "text": [
            "Train Epoch: 14 [46080/49920 (92%)]\tLoss: 1.347672\n"
          ],
          "name": "stdout"
        },
        {
          "output_type": "stream",
          "text": [
            " 98%|█████████▊| 191/195 [00:39<00:00,  4.89it/s]"
          ],
          "name": "stderr"
        },
        {
          "output_type": "stream",
          "text": [
            "Train Epoch: 14 [48640/49920 (97%)]\tLoss: 1.351408\n"
          ],
          "name": "stdout"
        },
        {
          "output_type": "stream",
          "text": [
            "100%|██████████| 195/195 [00:40<00:00,  5.52it/s]\n"
          ],
          "name": "stderr"
        },
        {
          "output_type": "stream",
          "text": [
            "Input\t great sigh and leaned against the cavern wall. \"I am weak...\" he said. \"Don't worry, sir,\" said Har\n",
            "GT\tgreat sigh and leaned against the cavern wall. \"I am weak...\" he said. \"Don't worry, sir,\" said Harr\n",
            "pred\ttoeat tulhtond teartd ttainst the coreraotatl  \"I tm te ri\".  se said  \"Io 't tarky  wor   said Harr\n",
            "\n",
            "\n",
            "Input\t dragged. \"Save your energy, sir. . . . We'll soon be out of here. . . .\" \"The archway will have sea\n",
            "GT\tdragged. \"Save your energy, sir. . . . We'll soon be out of here. . . .\" \"The archway will have seal\n",
            "pred\tIoewoe  \"IIoye you  saorae  aor  I . . .elll be n te ant of ter  \"I . .  \"Iha drrheay,tetl bave teer\n",
            "\n",
            "\n",
            "Input\t... I can Apparate us both back . . . Don't worry. . . .\" \"I am not worried, Harry,\" said Dumbledore\n",
            "GT\t.. I can Apparate us both back . . . Don't worry. . . .\" \"I am not worried, Harry,\" said Dumbledore,\n",
            "pred\t   I dan'tnparate ts aeth oeck t . . .un't yarky  I . .  \"I ds tot tarkyed  aarry,  said Humbledore.\n",
            "\n",
            "\n",
            "Input\this eyes: the smell of salt, the sea breeze had gone. He and Dumbledore were shivering and dripping \n",
            "GT\tis eyes: the smell of salt, the sea breeze had gone. He and Dumbledore were shivering and dripping i\n",
            "pred\t n oyes  the ctall of ttml  ahe stcroooanedoad bote  \"a wnd Humbledore sare stadering atd soanpeng a\n",
            "\n",
            "\n",
            "Input\tparition had thrown Dumbledore off-balance; then he saw his face, paler and damper than ever in the \n",
            "GT\tarition had thrown Dumbledore off-balance; then he saw his face, paler and damper than ever in the d\n",
            "pred\terenenn aen bheeun tumbledore an  cotlrces the  he sai tis hace  aarensand serplreahet tverytn the c\n",
            "\n",
            "\n"
          ],
          "name": "stdout"
        },
        {
          "output_type": "stream",
          "text": [
            "\r  0%|          | 0/195 [00:00<?, ?it/s]"
          ],
          "name": "stderr"
        },
        {
          "output_type": "stream",
          "text": [
            "\n",
            "Test set: Average loss: 1.4305, Accuracy: 721415/1254400 (58%)\n",
            "\n"
          ],
          "name": "stdout"
        },
        {
          "output_type": "stream",
          "text": [
            "  1%|          | 2/195 [00:00<00:51,  3.72it/s]"
          ],
          "name": "stderr"
        },
        {
          "output_type": "stream",
          "text": [
            "Train Epoch: 15 [0/49920 (0%)]\tLoss: 1.372682\n"
          ],
          "name": "stdout"
        },
        {
          "output_type": "stream",
          "text": [
            "  6%|▌         | 11/195 [00:02<00:38,  4.83it/s]"
          ],
          "name": "stderr"
        },
        {
          "output_type": "stream",
          "text": [
            "Train Epoch: 15 [2560/49920 (5%)]\tLoss: 1.352505\n"
          ],
          "name": "stdout"
        },
        {
          "output_type": "stream",
          "text": [
            " 11%|█         | 21/195 [00:04<00:35,  4.91it/s]"
          ],
          "name": "stderr"
        },
        {
          "output_type": "stream",
          "text": [
            "Train Epoch: 15 [5120/49920 (10%)]\tLoss: 1.333341\n"
          ],
          "name": "stdout"
        },
        {
          "output_type": "stream",
          "text": [
            " 16%|█▌        | 31/195 [00:06<00:32,  4.98it/s]"
          ],
          "name": "stderr"
        },
        {
          "output_type": "stream",
          "text": [
            "Train Epoch: 15 [7680/49920 (15%)]\tLoss: 1.349236\n"
          ],
          "name": "stdout"
        },
        {
          "output_type": "stream",
          "text": [
            " 22%|██▏       | 42/195 [00:08<00:30,  5.01it/s]"
          ],
          "name": "stderr"
        },
        {
          "output_type": "stream",
          "text": [
            "Train Epoch: 15 [10240/49920 (21%)]\tLoss: 1.333259\n"
          ],
          "name": "stdout"
        },
        {
          "output_type": "stream",
          "text": [
            " 27%|██▋       | 52/195 [00:10<00:28,  5.01it/s]"
          ],
          "name": "stderr"
        },
        {
          "output_type": "stream",
          "text": [
            "Train Epoch: 15 [12800/49920 (26%)]\tLoss: 1.362804\n"
          ],
          "name": "stdout"
        },
        {
          "output_type": "stream",
          "text": [
            " 31%|███▏      | 61/195 [00:12<00:26,  4.98it/s]"
          ],
          "name": "stderr"
        },
        {
          "output_type": "stream",
          "text": [
            "Train Epoch: 15 [15360/49920 (31%)]\tLoss: 1.369144\n"
          ],
          "name": "stdout"
        },
        {
          "output_type": "stream",
          "text": [
            " 37%|███▋      | 72/195 [00:14<00:24,  5.01it/s]"
          ],
          "name": "stderr"
        },
        {
          "output_type": "stream",
          "text": [
            "Train Epoch: 15 [17920/49920 (36%)]\tLoss: 1.351676\n"
          ],
          "name": "stdout"
        },
        {
          "output_type": "stream",
          "text": [
            " 42%|████▏     | 82/195 [00:16<00:22,  5.00it/s]"
          ],
          "name": "stderr"
        },
        {
          "output_type": "stream",
          "text": [
            "Train Epoch: 15 [20480/49920 (41%)]\tLoss: 1.340390\n"
          ],
          "name": "stdout"
        },
        {
          "output_type": "stream",
          "text": [
            " 47%|████▋     | 91/195 [00:18<00:21,  4.86it/s]"
          ],
          "name": "stderr"
        },
        {
          "output_type": "stream",
          "text": [
            "Train Epoch: 15 [23040/49920 (46%)]\tLoss: 1.339360\n"
          ],
          "name": "stdout"
        },
        {
          "output_type": "stream",
          "text": [
            " 52%|█████▏    | 101/195 [00:20<00:18,  4.96it/s]"
          ],
          "name": "stderr"
        },
        {
          "output_type": "stream",
          "text": [
            "Train Epoch: 15 [25600/49920 (51%)]\tLoss: 1.349493\n"
          ],
          "name": "stdout"
        },
        {
          "output_type": "stream",
          "text": [
            " 57%|█████▋    | 112/195 [00:22<00:16,  4.94it/s]"
          ],
          "name": "stderr"
        },
        {
          "output_type": "stream",
          "text": [
            "Train Epoch: 15 [28160/49920 (56%)]\tLoss: 1.323079\n"
          ],
          "name": "stdout"
        },
        {
          "output_type": "stream",
          "text": [
            " 62%|██████▏   | 121/195 [00:24<00:14,  4.97it/s]"
          ],
          "name": "stderr"
        },
        {
          "output_type": "stream",
          "text": [
            "Train Epoch: 15 [30720/49920 (62%)]\tLoss: 1.350538\n"
          ],
          "name": "stdout"
        },
        {
          "output_type": "stream",
          "text": [
            " 67%|██████▋   | 131/195 [00:26<00:13,  4.84it/s]"
          ],
          "name": "stderr"
        },
        {
          "output_type": "stream",
          "text": [
            "Train Epoch: 15 [33280/49920 (67%)]\tLoss: 1.344060\n"
          ],
          "name": "stdout"
        },
        {
          "output_type": "stream",
          "text": [
            " 73%|███████▎  | 142/195 [00:28<00:10,  4.94it/s]"
          ],
          "name": "stderr"
        },
        {
          "output_type": "stream",
          "text": [
            "Train Epoch: 15 [35840/49920 (72%)]\tLoss: 1.362496\n"
          ],
          "name": "stdout"
        },
        {
          "output_type": "stream",
          "text": [
            " 78%|███████▊  | 152/195 [00:30<00:08,  4.97it/s]"
          ],
          "name": "stderr"
        },
        {
          "output_type": "stream",
          "text": [
            "Train Epoch: 15 [38400/49920 (77%)]\tLoss: 1.362911\n"
          ],
          "name": "stdout"
        },
        {
          "output_type": "stream",
          "text": [
            " 83%|████████▎ | 162/195 [00:32<00:06,  4.97it/s]"
          ],
          "name": "stderr"
        },
        {
          "output_type": "stream",
          "text": [
            "Train Epoch: 15 [40960/49920 (82%)]\tLoss: 1.350112\n"
          ],
          "name": "stdout"
        },
        {
          "output_type": "stream",
          "text": [
            " 88%|████████▊ | 172/195 [00:34<00:04,  4.97it/s]"
          ],
          "name": "stderr"
        },
        {
          "output_type": "stream",
          "text": [
            "Train Epoch: 15 [43520/49920 (87%)]\tLoss: 1.339603\n"
          ],
          "name": "stdout"
        },
        {
          "output_type": "stream",
          "text": [
            " 93%|█████████▎| 182/195 [00:36<00:02,  4.90it/s]"
          ],
          "name": "stderr"
        },
        {
          "output_type": "stream",
          "text": [
            "Train Epoch: 15 [46080/49920 (92%)]\tLoss: 1.343288\n"
          ],
          "name": "stdout"
        },
        {
          "output_type": "stream",
          "text": [
            " 98%|█████████▊| 191/195 [00:38<00:00,  4.91it/s]"
          ],
          "name": "stderr"
        },
        {
          "output_type": "stream",
          "text": [
            "Train Epoch: 15 [48640/49920 (97%)]\tLoss: 1.346606\n"
          ],
          "name": "stdout"
        },
        {
          "output_type": "stream",
          "text": [
            "100%|██████████| 195/195 [00:39<00:00,  5.60it/s]\n"
          ],
          "name": "stderr"
        },
        {
          "output_type": "stream",
          "text": [
            "Input\t great sigh and leaned against the cavern wall. \"I am weak...\" he said. \"Don't worry, sir,\" said Har\n",
            "GT\tgreat sigh and leaned against the cavern wall. \"I am weak...\" he said. \"Don't worry, sir,\" said Harr\n",
            "pred\ttoeat tulhtond toartd ttainst the corerioaasl  \"I tm te ri\".  se said  \"Io 't tarky  wor   said Harr\n",
            "\n",
            "\n",
            "Input\t dragged. \"Save your energy, sir. . . . We'll soon be out of here. . . .\" \"The archway will have sea\n",
            "GT\tdragged. \"Save your energy, sir. . . . We'll soon be out of here. . . .\" \"The archway will have seal\n",
            "pred\tIoewoe  \"IIoye you  saorae  aor  I . . .elll be n ae ant of ter  \"I . .  \"Iha drrheay tetl bave teer\n",
            "\n",
            "\n",
            "Input\t... I can Apparate us both back . . . Don't worry. . . .\" \"I am not worried, Harry,\" said Dumbledore\n",
            "GT\t.. I can Apparate us both back . . . Don't worry. . . .\" \"I am not worried, Harry,\" said Dumbledore,\n",
            "pred\t   I don'tnparate ts aeth oeck t . . .un't yarky  I . .  \"I ds tot tarkied  aarry,  said Humbledore \n",
            "\n",
            "\n",
            "Input\this eyes: the smell of salt, the sea breeze had gone. He and Dumbledore were shivering and dripping \n",
            "GT\tis eyes: the smell of salt, the sea breeze had gone. He and Dumbledore were shivering and dripping i\n",
            "pred\t n hyes  hhe ctall of ttm   ahe stcroooanedoad bote  Ha wnd Humbledore sare stopering atd soanping a\n",
            "\n",
            "\n",
            "Input\tparition had thrown Dumbledore off-balance; then he saw his face, paler and damper than ever in the \n",
            "GT\tarition had thrown Dumbledore off-balance; then he saw his face, paler and damper than ever in the d\n",
            "pred\torenenn ain boeeun tumbledore wn  cotlrce  the  he sai tis hace  aaren and sorplreohet tverytn the c\n",
            "\n",
            "\n"
          ],
          "name": "stdout"
        },
        {
          "output_type": "stream",
          "text": [
            "\r  0%|          | 0/195 [00:00<?, ?it/s]"
          ],
          "name": "stderr"
        },
        {
          "output_type": "stream",
          "text": [
            "\n",
            "Test set: Average loss: 1.4227, Accuracy: 724646/1254400 (58%)\n",
            "\n",
            "Saved /content/checkpoints/015.pt\n",
            "\n"
          ],
          "name": "stdout"
        },
        {
          "output_type": "stream",
          "text": [
            "\r  1%|          | 1/195 [00:00<00:58,  3.30it/s]"
          ],
          "name": "stderr"
        },
        {
          "output_type": "stream",
          "text": [
            "Train Epoch: 16 [0/49920 (0%)]\tLoss: 1.364483\n"
          ],
          "name": "stdout"
        },
        {
          "output_type": "stream",
          "text": [
            "  6%|▌         | 11/195 [00:02<00:38,  4.73it/s]"
          ],
          "name": "stderr"
        },
        {
          "output_type": "stream",
          "text": [
            "Train Epoch: 16 [2560/49920 (5%)]\tLoss: 1.351720\n"
          ],
          "name": "stdout"
        },
        {
          "output_type": "stream",
          "text": [
            " 11%|█         | 21/195 [00:04<00:36,  4.83it/s]"
          ],
          "name": "stderr"
        },
        {
          "output_type": "stream",
          "text": [
            "Train Epoch: 16 [5120/49920 (10%)]\tLoss: 1.329000\n"
          ],
          "name": "stdout"
        },
        {
          "output_type": "stream",
          "text": [
            " 16%|█▌        | 31/195 [00:06<00:34,  4.78it/s]"
          ],
          "name": "stderr"
        },
        {
          "output_type": "stream",
          "text": [
            "Train Epoch: 16 [7680/49920 (15%)]\tLoss: 1.346940\n"
          ],
          "name": "stdout"
        },
        {
          "output_type": "stream",
          "text": [
            " 21%|██        | 41/195 [00:08<00:31,  4.90it/s]"
          ],
          "name": "stderr"
        },
        {
          "output_type": "stream",
          "text": [
            "Train Epoch: 16 [10240/49920 (21%)]\tLoss: 1.331571\n"
          ],
          "name": "stdout"
        },
        {
          "output_type": "stream",
          "text": [
            " 26%|██▌       | 51/195 [00:10<00:29,  4.86it/s]"
          ],
          "name": "stderr"
        },
        {
          "output_type": "stream",
          "text": [
            "Train Epoch: 16 [12800/49920 (26%)]\tLoss: 1.363688\n"
          ],
          "name": "stdout"
        },
        {
          "output_type": "stream",
          "text": [
            " 32%|███▏      | 62/195 [00:12<00:27,  4.90it/s]"
          ],
          "name": "stderr"
        },
        {
          "output_type": "stream",
          "text": [
            "Train Epoch: 16 [15360/49920 (31%)]\tLoss: 1.369509\n"
          ],
          "name": "stdout"
        },
        {
          "output_type": "stream",
          "text": [
            " 36%|███▋      | 71/195 [00:14<00:25,  4.77it/s]"
          ],
          "name": "stderr"
        },
        {
          "output_type": "stream",
          "text": [
            "Train Epoch: 16 [17920/49920 (36%)]\tLoss: 1.353685\n"
          ],
          "name": "stdout"
        },
        {
          "output_type": "stream",
          "text": [
            " 42%|████▏     | 81/195 [00:16<00:23,  4.84it/s]"
          ],
          "name": "stderr"
        },
        {
          "output_type": "stream",
          "text": [
            "Train Epoch: 16 [20480/49920 (41%)]\tLoss: 1.333986\n"
          ],
          "name": "stdout"
        },
        {
          "output_type": "stream",
          "text": [
            " 47%|████▋     | 91/195 [00:18<00:21,  4.89it/s]"
          ],
          "name": "stderr"
        },
        {
          "output_type": "stream",
          "text": [
            "Train Epoch: 16 [23040/49920 (46%)]\tLoss: 1.332264\n"
          ],
          "name": "stdout"
        },
        {
          "output_type": "stream",
          "text": [
            " 52%|█████▏    | 102/195 [00:21<00:19,  4.82it/s]"
          ],
          "name": "stderr"
        },
        {
          "output_type": "stream",
          "text": [
            "Train Epoch: 16 [25600/49920 (51%)]\tLoss: 1.346153\n"
          ],
          "name": "stdout"
        },
        {
          "output_type": "stream",
          "text": [
            " 57%|█████▋    | 111/195 [00:23<00:17,  4.82it/s]"
          ],
          "name": "stderr"
        },
        {
          "output_type": "stream",
          "text": [
            "Train Epoch: 16 [28160/49920 (56%)]\tLoss: 1.321199\n"
          ],
          "name": "stdout"
        },
        {
          "output_type": "stream",
          "text": [
            " 62%|██████▏   | 121/195 [00:25<00:15,  4.86it/s]"
          ],
          "name": "stderr"
        },
        {
          "output_type": "stream",
          "text": [
            "Train Epoch: 16 [30720/49920 (62%)]\tLoss: 1.351002\n"
          ],
          "name": "stdout"
        },
        {
          "output_type": "stream",
          "text": [
            " 67%|██████▋   | 131/195 [00:27<00:13,  4.84it/s]"
          ],
          "name": "stderr"
        },
        {
          "output_type": "stream",
          "text": [
            "Train Epoch: 16 [33280/49920 (67%)]\tLoss: 1.339970\n"
          ],
          "name": "stdout"
        },
        {
          "output_type": "stream",
          "text": [
            " 72%|███████▏  | 141/195 [00:29<00:11,  4.82it/s]"
          ],
          "name": "stderr"
        },
        {
          "output_type": "stream",
          "text": [
            "Train Epoch: 16 [35840/49920 (72%)]\tLoss: 1.359867\n"
          ],
          "name": "stdout"
        },
        {
          "output_type": "stream",
          "text": [
            " 77%|███████▋  | 151/195 [00:31<00:09,  4.85it/s]"
          ],
          "name": "stderr"
        },
        {
          "output_type": "stream",
          "text": [
            "Train Epoch: 16 [38400/49920 (77%)]\tLoss: 1.358588\n"
          ],
          "name": "stdout"
        },
        {
          "output_type": "stream",
          "text": [
            " 83%|████████▎ | 161/195 [00:33<00:06,  4.88it/s]"
          ],
          "name": "stderr"
        },
        {
          "output_type": "stream",
          "text": [
            "Train Epoch: 16 [40960/49920 (82%)]\tLoss: 1.343903\n"
          ],
          "name": "stdout"
        },
        {
          "output_type": "stream",
          "text": [
            " 88%|████████▊ | 172/195 [00:35<00:04,  4.87it/s]"
          ],
          "name": "stderr"
        },
        {
          "output_type": "stream",
          "text": [
            "Train Epoch: 16 [43520/49920 (87%)]\tLoss: 1.335872\n"
          ],
          "name": "stdout"
        },
        {
          "output_type": "stream",
          "text": [
            " 93%|█████████▎| 182/195 [00:37<00:02,  4.87it/s]"
          ],
          "name": "stderr"
        },
        {
          "output_type": "stream",
          "text": [
            "Train Epoch: 16 [46080/49920 (92%)]\tLoss: 1.340606\n"
          ],
          "name": "stdout"
        },
        {
          "output_type": "stream",
          "text": [
            " 98%|█████████▊| 191/195 [00:39<00:00,  4.83it/s]"
          ],
          "name": "stderr"
        },
        {
          "output_type": "stream",
          "text": [
            "Train Epoch: 16 [48640/49920 (97%)]\tLoss: 1.344978\n"
          ],
          "name": "stdout"
        },
        {
          "output_type": "stream",
          "text": [
            "100%|██████████| 195/195 [00:40<00:00,  5.53it/s]\n"
          ],
          "name": "stderr"
        },
        {
          "output_type": "stream",
          "text": [
            "Input\t great sigh and leaned against the cavern wall. \"I am weak...\" he said. \"Don't worry, sir,\" said Har\n",
            "GT\tgreat sigh and leaned against the cavern wall. \"I am weak...\" he said. \"Don't worry, sir,\" said Harr\n",
            "pred\ttoeat sulhtond teartd ttainst the coreraoaatl  \"I dm te ri\".  se said  \"Io 't yarry  wor   said Harr\n",
            "\n",
            "\n",
            "Input\t dragged. \"Save your energy, sir. . . . We'll soon be out of here. . . .\" \"The archway will have sea\n",
            "GT\tdragged. \"Save your energy, sir. . . . We'll soon be out of here. . . .\" \"The archway will have seal\n",
            "pred\tIoawoe  \"IIhye your paorae  aor  I . . .elll be n ae ant of tir  \"I . .  \"Iha drrhmay watl bave teer\n",
            "\n",
            "\n",
            "Input\t... I can Apparate us both back . . . Don't worry. . . .\" \"I am not worried, Harry,\" said Dumbledore\n",
            "GT\t.. I can Apparate us both back . . . Don't worry. . . .\" \"I am not worried, Harry,\" said Dumbledore,\n",
            "pred\t   I dan'tnparate ts aeth oeck t . . .un't yarky  I . .  \"I ds tot tarkied  aarry,  said Humbledore \n",
            "\n",
            "\n",
            "Input\this eyes: the smell of salt, the sea breeze had gone. He and Dumbledore were shivering and dripping \n",
            "GT\tis eyes: the smell of salt, the sea breeze had gone. He and Dumbledore were shivering and dripping i\n",
            "pred\t n hyes  hhe caall of ttm   ahe stcroooanedoad bote  Ha wnd Humbledore sare stadering atd seanpeng a\n",
            "\n",
            "\n",
            "Input\tparition had thrown Dumbledore off-balance; then he saw his face, paler and damper than ever in the \n",
            "GT\tarition had thrown Dumbledore off-balance; then he saw his face, paler and damper than ever in the d\n",
            "pred\torenenn air bheeun tumbledore wn  cotlrce  the  he sai tis hace  aaren and serp reohet tverytn the c\n",
            "\n",
            "\n"
          ],
          "name": "stdout"
        },
        {
          "output_type": "stream",
          "text": [
            "\r  0%|          | 0/195 [00:00<?, ?it/s]"
          ],
          "name": "stderr"
        },
        {
          "output_type": "stream",
          "text": [
            "\n",
            "Test set: Average loss: 1.4218, Accuracy: 725068/1254400 (58%)\n",
            "\n",
            "Saved /content/checkpoints/016.pt\n",
            "\n"
          ],
          "name": "stdout"
        },
        {
          "output_type": "stream",
          "text": [
            "  1%|          | 2/195 [00:00<00:50,  3.85it/s]"
          ],
          "name": "stderr"
        },
        {
          "output_type": "stream",
          "text": [
            "Train Epoch: 17 [0/49920 (0%)]\tLoss: 1.365010\n"
          ],
          "name": "stdout"
        },
        {
          "output_type": "stream",
          "text": [
            "  6%|▌         | 11/195 [00:02<00:38,  4.78it/s]"
          ],
          "name": "stderr"
        },
        {
          "output_type": "stream",
          "text": [
            "Train Epoch: 17 [2560/49920 (5%)]\tLoss: 1.349037\n"
          ],
          "name": "stdout"
        },
        {
          "output_type": "stream",
          "text": [
            " 11%|█         | 21/195 [00:04<00:36,  4.81it/s]"
          ],
          "name": "stderr"
        },
        {
          "output_type": "stream",
          "text": [
            "Train Epoch: 17 [5120/49920 (10%)]\tLoss: 1.329463\n"
          ],
          "name": "stdout"
        },
        {
          "output_type": "stream",
          "text": [
            " 16%|█▌        | 31/195 [00:06<00:33,  4.95it/s]"
          ],
          "name": "stderr"
        },
        {
          "output_type": "stream",
          "text": [
            "Train Epoch: 17 [7680/49920 (15%)]\tLoss: 1.345224\n"
          ],
          "name": "stdout"
        },
        {
          "output_type": "stream",
          "text": [
            " 22%|██▏       | 42/195 [00:08<00:31,  4.87it/s]"
          ],
          "name": "stderr"
        },
        {
          "output_type": "stream",
          "text": [
            "Train Epoch: 17 [10240/49920 (21%)]\tLoss: 1.327809\n"
          ],
          "name": "stdout"
        },
        {
          "output_type": "stream",
          "text": [
            " 26%|██▌       | 51/195 [00:10<00:29,  4.89it/s]"
          ],
          "name": "stderr"
        },
        {
          "output_type": "stream",
          "text": [
            "Train Epoch: 17 [12800/49920 (26%)]\tLoss: 1.362214\n"
          ],
          "name": "stdout"
        },
        {
          "output_type": "stream",
          "text": [
            " 31%|███▏      | 61/195 [00:12<00:27,  4.90it/s]"
          ],
          "name": "stderr"
        },
        {
          "output_type": "stream",
          "text": [
            "Train Epoch: 17 [15360/49920 (31%)]\tLoss: 1.362970\n"
          ],
          "name": "stdout"
        },
        {
          "output_type": "stream",
          "text": [
            " 36%|███▋      | 71/195 [00:14<00:25,  4.88it/s]"
          ],
          "name": "stderr"
        },
        {
          "output_type": "stream",
          "text": [
            "Train Epoch: 17 [17920/49920 (36%)]\tLoss: 1.345143\n"
          ],
          "name": "stdout"
        },
        {
          "output_type": "stream",
          "text": [
            " 42%|████▏     | 81/195 [00:16<00:23,  4.88it/s]"
          ],
          "name": "stderr"
        },
        {
          "output_type": "stream",
          "text": [
            "Train Epoch: 17 [20480/49920 (41%)]\tLoss: 1.331659\n"
          ],
          "name": "stdout"
        },
        {
          "output_type": "stream",
          "text": [
            " 47%|████▋     | 91/195 [00:18<00:21,  4.93it/s]"
          ],
          "name": "stderr"
        },
        {
          "output_type": "stream",
          "text": [
            "Train Epoch: 17 [23040/49920 (46%)]\tLoss: 1.334293\n"
          ],
          "name": "stdout"
        },
        {
          "output_type": "stream",
          "text": [
            " 52%|█████▏    | 101/195 [00:20<00:19,  4.86it/s]"
          ],
          "name": "stderr"
        },
        {
          "output_type": "stream",
          "text": [
            "Train Epoch: 17 [25600/49920 (51%)]\tLoss: 1.343973\n"
          ],
          "name": "stdout"
        },
        {
          "output_type": "stream",
          "text": [
            " 57%|█████▋    | 112/195 [00:23<00:16,  4.95it/s]"
          ],
          "name": "stderr"
        },
        {
          "output_type": "stream",
          "text": [
            "Train Epoch: 17 [28160/49920 (56%)]\tLoss: 1.322314\n"
          ],
          "name": "stdout"
        },
        {
          "output_type": "stream",
          "text": [
            " 62%|██████▏   | 121/195 [00:24<00:15,  4.86it/s]"
          ],
          "name": "stderr"
        },
        {
          "output_type": "stream",
          "text": [
            "Train Epoch: 17 [30720/49920 (62%)]\tLoss: 1.350427\n"
          ],
          "name": "stdout"
        },
        {
          "output_type": "stream",
          "text": [
            " 67%|██████▋   | 131/195 [00:26<00:13,  4.84it/s]"
          ],
          "name": "stderr"
        },
        {
          "output_type": "stream",
          "text": [
            "Train Epoch: 17 [33280/49920 (67%)]\tLoss: 1.343312\n"
          ],
          "name": "stdout"
        },
        {
          "output_type": "stream",
          "text": [
            " 72%|███████▏  | 141/195 [00:28<00:10,  4.93it/s]"
          ],
          "name": "stderr"
        },
        {
          "output_type": "stream",
          "text": [
            "Train Epoch: 17 [35840/49920 (72%)]\tLoss: 1.355197\n"
          ],
          "name": "stdout"
        },
        {
          "output_type": "stream",
          "text": [
            " 77%|███████▋  | 151/195 [00:31<00:09,  4.78it/s]"
          ],
          "name": "stderr"
        },
        {
          "output_type": "stream",
          "text": [
            "Train Epoch: 17 [38400/49920 (77%)]\tLoss: 1.353244\n"
          ],
          "name": "stdout"
        },
        {
          "output_type": "stream",
          "text": [
            " 83%|████████▎ | 161/195 [00:33<00:06,  4.94it/s]"
          ],
          "name": "stderr"
        },
        {
          "output_type": "stream",
          "text": [
            "Train Epoch: 17 [40960/49920 (82%)]\tLoss: 1.342181\n"
          ],
          "name": "stdout"
        },
        {
          "output_type": "stream",
          "text": [
            " 88%|████████▊ | 171/195 [00:35<00:04,  4.88it/s]"
          ],
          "name": "stderr"
        },
        {
          "output_type": "stream",
          "text": [
            "Train Epoch: 17 [43520/49920 (87%)]\tLoss: 1.332300\n"
          ],
          "name": "stdout"
        },
        {
          "output_type": "stream",
          "text": [
            " 93%|█████████▎| 182/195 [00:37<00:02,  4.92it/s]"
          ],
          "name": "stderr"
        },
        {
          "output_type": "stream",
          "text": [
            "Train Epoch: 17 [46080/49920 (92%)]\tLoss: 1.337943\n"
          ],
          "name": "stdout"
        },
        {
          "output_type": "stream",
          "text": [
            " 98%|█████████▊| 191/195 [00:39<00:00,  4.89it/s]"
          ],
          "name": "stderr"
        },
        {
          "output_type": "stream",
          "text": [
            "Train Epoch: 17 [48640/49920 (97%)]\tLoss: 1.341965\n"
          ],
          "name": "stdout"
        },
        {
          "output_type": "stream",
          "text": [
            "100%|██████████| 195/195 [00:40<00:00,  5.47it/s]\n"
          ],
          "name": "stderr"
        },
        {
          "output_type": "stream",
          "text": [
            "Input\t great sigh and leaned against the cavern wall. \"I am weak...\" he said. \"Don't worry, sir,\" said Har\n",
            "GT\tgreat sigh and leaned against the cavern wall. \"I am weak...\" he said. \"Don't worry, sir,\" said Harr\n",
            "pred\ttooat tulhtond toartd ttainst the corerioahtl  \"I dm te ri\".  se said  \"Io 't yarry  wor   said Harr\n",
            "\n",
            "\n",
            "Input\t dragged. \"Save your energy, sir. . . . We'll soon be out of here. . . .\" \"The archway will have sea\n",
            "GT\tdragged. \"Save your energy, sir. . . . We'll soon be out of here. . . .\" \"The archway will have seal\n",
            "pred\tIoawoe  \"IIhye your saorae  aor  I . . .elll be n te ant of tir ,\"I . .  \"Iha drrhmay tetl bave teer\n",
            "\n",
            "\n",
            "Input\t... I can Apparate us both back . . . Don't worry. . . .\" \"I am not worried, Harry,\" said Dumbledore\n",
            "GT\t.. I can Apparate us both back . . . Don't worry. . . .\" \"I am not worried, Harry,\" said Dumbledore,\n",
            "pred\t   I dan'y parate ts aeth teck t . . .un't yarky  I . .  \"I dm tot tarkied  aarry,  said Humbledore \n",
            "\n",
            "\n",
            "Input\this eyes: the smell of salt, the sea breeze had gone. He and Dumbledore were shivering and dripping \n",
            "GT\tis eyes: the smell of salt, the sea breeze had gone. He and Dumbledore were shivering and dripping i\n",
            "pred\t n hyes  hhe ctall of ttm   ahe ctcroooanedoad sote  Ha wnd Humbledore ware stapering atd soanping a\n",
            "\n",
            "\n",
            "Input\tparition had thrown Dumbledore off-balance; then he saw his face, paler and damper than ever in the \n",
            "GT\tarition had thrown Dumbledore off-balance; then he saw his face, paler and damper than ever in the d\n",
            "pred\torenynnsain bheeun tumbledore af  cotlrce  the  he sai tis hace  aare  and sorp riohet tverytn the c\n",
            "\n",
            "\n"
          ],
          "name": "stdout"
        },
        {
          "output_type": "stream",
          "text": [
            "\r  0%|          | 0/195 [00:00<?, ?it/s]"
          ],
          "name": "stderr"
        },
        {
          "output_type": "stream",
          "text": [
            "\n",
            "Test set: Average loss: 1.4185, Accuracy: 725821/1254400 (58%)\n",
            "\n",
            "Saved /content/checkpoints/017.pt\n",
            "\n"
          ],
          "name": "stdout"
        },
        {
          "output_type": "stream",
          "text": [
            "  1%|          | 2/195 [00:00<00:51,  3.76it/s]"
          ],
          "name": "stderr"
        },
        {
          "output_type": "stream",
          "text": [
            "Train Epoch: 18 [0/49920 (0%)]\tLoss: 1.361296\n"
          ],
          "name": "stdout"
        },
        {
          "output_type": "stream",
          "text": [
            "  6%|▌         | 12/195 [00:02<00:37,  4.89it/s]"
          ],
          "name": "stderr"
        },
        {
          "output_type": "stream",
          "text": [
            "Train Epoch: 18 [2560/49920 (5%)]\tLoss: 1.345104\n"
          ],
          "name": "stdout"
        },
        {
          "output_type": "stream",
          "text": [
            " 11%|█         | 21/195 [00:04<00:35,  4.94it/s]"
          ],
          "name": "stderr"
        },
        {
          "output_type": "stream",
          "text": [
            "Train Epoch: 18 [5120/49920 (10%)]\tLoss: 1.324298\n"
          ],
          "name": "stdout"
        },
        {
          "output_type": "stream",
          "text": [
            " 16%|█▌        | 31/195 [00:06<00:32,  5.00it/s]"
          ],
          "name": "stderr"
        },
        {
          "output_type": "stream",
          "text": [
            "Train Epoch: 18 [7680/49920 (15%)]\tLoss: 1.341023\n"
          ],
          "name": "stdout"
        },
        {
          "output_type": "stream",
          "text": [
            " 21%|██        | 41/195 [00:08<00:30,  5.00it/s]"
          ],
          "name": "stderr"
        },
        {
          "output_type": "stream",
          "text": [
            "Train Epoch: 18 [10240/49920 (21%)]\tLoss: 1.326516\n"
          ],
          "name": "stdout"
        },
        {
          "output_type": "stream",
          "text": [
            " 26%|██▌       | 51/195 [00:10<00:29,  4.91it/s]"
          ],
          "name": "stderr"
        },
        {
          "output_type": "stream",
          "text": [
            "Train Epoch: 18 [12800/49920 (26%)]\tLoss: 1.360727\n"
          ],
          "name": "stdout"
        },
        {
          "output_type": "stream",
          "text": [
            " 32%|███▏      | 62/195 [00:12<00:27,  4.93it/s]"
          ],
          "name": "stderr"
        },
        {
          "output_type": "stream",
          "text": [
            "Train Epoch: 18 [15360/49920 (31%)]\tLoss: 1.361514\n"
          ],
          "name": "stdout"
        },
        {
          "output_type": "stream",
          "text": [
            " 36%|███▋      | 71/195 [00:14<00:25,  4.94it/s]"
          ],
          "name": "stderr"
        },
        {
          "output_type": "stream",
          "text": [
            "Train Epoch: 18 [17920/49920 (36%)]\tLoss: 1.343481\n"
          ],
          "name": "stdout"
        },
        {
          "output_type": "stream",
          "text": [
            " 42%|████▏     | 82/195 [00:16<00:22,  4.95it/s]"
          ],
          "name": "stderr"
        },
        {
          "output_type": "stream",
          "text": [
            "Train Epoch: 18 [20480/49920 (41%)]\tLoss: 1.330332\n"
          ],
          "name": "stdout"
        },
        {
          "output_type": "stream",
          "text": [
            " 47%|████▋     | 91/195 [00:18<00:21,  4.91it/s]"
          ],
          "name": "stderr"
        },
        {
          "output_type": "stream",
          "text": [
            "Train Epoch: 18 [23040/49920 (46%)]\tLoss: 1.330668\n"
          ],
          "name": "stdout"
        },
        {
          "output_type": "stream",
          "text": [
            " 52%|█████▏    | 101/195 [00:20<00:19,  4.85it/s]"
          ],
          "name": "stderr"
        },
        {
          "output_type": "stream",
          "text": [
            "Train Epoch: 18 [25600/49920 (51%)]\tLoss: 1.341990\n"
          ],
          "name": "stdout"
        },
        {
          "output_type": "stream",
          "text": [
            " 57%|█████▋    | 111/195 [00:22<00:17,  4.92it/s]"
          ],
          "name": "stderr"
        },
        {
          "output_type": "stream",
          "text": [
            "Train Epoch: 18 [28160/49920 (56%)]\tLoss: 1.315732\n"
          ],
          "name": "stdout"
        },
        {
          "output_type": "stream",
          "text": [
            " 62%|██████▏   | 121/195 [00:24<00:14,  4.98it/s]"
          ],
          "name": "stderr"
        },
        {
          "output_type": "stream",
          "text": [
            "Train Epoch: 18 [30720/49920 (62%)]\tLoss: 1.345554\n"
          ],
          "name": "stdout"
        },
        {
          "output_type": "stream",
          "text": [
            " 67%|██████▋   | 131/195 [00:26<00:12,  4.95it/s]"
          ],
          "name": "stderr"
        },
        {
          "output_type": "stream",
          "text": [
            "Train Epoch: 18 [33280/49920 (67%)]\tLoss: 1.338435\n"
          ],
          "name": "stdout"
        },
        {
          "output_type": "stream",
          "text": [
            " 72%|███████▏  | 141/195 [00:28<00:10,  4.98it/s]"
          ],
          "name": "stderr"
        },
        {
          "output_type": "stream",
          "text": [
            "Train Epoch: 18 [35840/49920 (72%)]\tLoss: 1.364755\n"
          ],
          "name": "stdout"
        },
        {
          "output_type": "stream",
          "text": [
            " 78%|███████▊  | 152/195 [00:30<00:08,  4.97it/s]"
          ],
          "name": "stderr"
        },
        {
          "output_type": "stream",
          "text": [
            "Train Epoch: 18 [38400/49920 (77%)]\tLoss: 1.353157\n"
          ],
          "name": "stdout"
        },
        {
          "output_type": "stream",
          "text": [
            " 83%|████████▎ | 161/195 [00:32<00:06,  4.96it/s]"
          ],
          "name": "stderr"
        },
        {
          "output_type": "stream",
          "text": [
            "Train Epoch: 18 [40960/49920 (82%)]\tLoss: 1.339623\n"
          ],
          "name": "stdout"
        },
        {
          "output_type": "stream",
          "text": [
            " 88%|████████▊ | 171/195 [00:34<00:04,  5.04it/s]"
          ],
          "name": "stderr"
        },
        {
          "output_type": "stream",
          "text": [
            "Train Epoch: 18 [43520/49920 (87%)]\tLoss: 1.329108\n"
          ],
          "name": "stdout"
        },
        {
          "output_type": "stream",
          "text": [
            " 93%|█████████▎| 182/195 [00:36<00:02,  4.99it/s]"
          ],
          "name": "stderr"
        },
        {
          "output_type": "stream",
          "text": [
            "Train Epoch: 18 [46080/49920 (92%)]\tLoss: 1.331069\n"
          ],
          "name": "stdout"
        },
        {
          "output_type": "stream",
          "text": [
            " 98%|█████████▊| 192/195 [00:38<00:00,  5.00it/s]"
          ],
          "name": "stderr"
        },
        {
          "output_type": "stream",
          "text": [
            "Train Epoch: 18 [48640/49920 (97%)]\tLoss: 1.337323\n"
          ],
          "name": "stdout"
        },
        {
          "output_type": "stream",
          "text": [
            "100%|██████████| 195/195 [00:39<00:00,  5.67it/s]\n"
          ],
          "name": "stderr"
        },
        {
          "output_type": "stream",
          "text": [
            "Input\t great sigh and leaned against the cavern wall. \"I am weak...\" he said. \"Don't worry, sir,\" said Har\n",
            "GT\tgreat sigh and leaned against the cavern wall. \"I am weak...\" he said. \"Don't worry, sir,\" said Harr\n",
            "pred\ttooat tulhtond toartd ttainst the corerioahsl  \"I tm to ri\".  se said  \"Io 't yarry  wor   said Harr\n",
            "\n",
            "\n",
            "Input\t dragged. \"Save your energy, sir. . . . We'll soon be out of here. . . .\" \"The archway will have sea\n",
            "GT\tdragged. \"Save your energy, sir. . . . We'll soon be out of here. . . .\" \"The archway will have seal\n",
            "pred\tIoawo   \"IIhye your syoroe  aor  I . . .elll be n ae ant of tir ,\"I . .  \"Iha drmhmay watl bave teer\n",
            "\n",
            "\n",
            "Input\t... I can Apparate us both back . . . Don't worry. . . .\" \"I am not worried, Harry,\" said Dumbledore\n",
            "GT\t.. I can Apparate us both back . . . Don't worry. . . .\" \"I am not worried, Harry,\" said Dumbledore,\n",
            "pred\t   I don'y parate as aeth oeck t . . .un't yarky  I . .  \"I dm tot tarkied  aarry,  said Humbledore.\n",
            "\n",
            "\n",
            "Input\this eyes: the smell of salt, the sea breeze had gone. He and Dumbledore were shivering and dripping \n",
            "GT\tis eyes: the smell of salt, the sea breeze had gone. He and Dumbledore were shivering and dripping i\n",
            "pred\t n hyes  hhe ctall of ttm   ahe ctctoooanedoad sote  Ha wnd Humbledore ware stamering atd soanping a\n",
            "\n",
            "\n",
            "Input\tparition had thrown Dumbledore off-balance; then he saw his face, paler and damper than ever in the \n",
            "GT\tarition had thrown Dumbledore off-balance; then he saw his face, paler and damper than ever in the d\n",
            "pred\torenycnsaid bheeun tumbledore af  cotlrce  the  he sai tis hace  aare  and sorp riohet tverytn the c\n",
            "\n",
            "\n"
          ],
          "name": "stdout"
        },
        {
          "output_type": "stream",
          "text": [
            "\r  0%|          | 0/195 [00:00<?, ?it/s]"
          ],
          "name": "stderr"
        },
        {
          "output_type": "stream",
          "text": [
            "\n",
            "Test set: Average loss: 1.4145, Accuracy: 727392/1254400 (58%)\n",
            "\n",
            "Saved /content/checkpoints/018.pt\n",
            "\n"
          ],
          "name": "stdout"
        },
        {
          "output_type": "stream",
          "text": [
            "\r  1%|          | 1/195 [00:00<01:03,  3.07it/s]"
          ],
          "name": "stderr"
        },
        {
          "output_type": "stream",
          "text": [
            "Train Epoch: 19 [0/49920 (0%)]\tLoss: 1.356571\n"
          ],
          "name": "stdout"
        },
        {
          "output_type": "stream",
          "text": [
            "  6%|▌         | 11/195 [00:02<00:38,  4.82it/s]"
          ],
          "name": "stderr"
        },
        {
          "output_type": "stream",
          "text": [
            "Train Epoch: 19 [2560/49920 (5%)]\tLoss: 1.342470\n"
          ],
          "name": "stdout"
        },
        {
          "output_type": "stream",
          "text": [
            " 11%|█         | 21/195 [00:04<00:36,  4.81it/s]"
          ],
          "name": "stderr"
        },
        {
          "output_type": "stream",
          "text": [
            "Train Epoch: 19 [5120/49920 (10%)]\tLoss: 1.319813\n"
          ],
          "name": "stdout"
        },
        {
          "output_type": "stream",
          "text": [
            " 16%|█▋        | 32/195 [00:06<00:33,  4.93it/s]"
          ],
          "name": "stderr"
        },
        {
          "output_type": "stream",
          "text": [
            "Train Epoch: 19 [7680/49920 (15%)]\tLoss: 1.340279\n"
          ],
          "name": "stdout"
        },
        {
          "output_type": "stream",
          "text": [
            " 21%|██        | 41/195 [00:08<00:32,  4.81it/s]"
          ],
          "name": "stderr"
        },
        {
          "output_type": "stream",
          "text": [
            "Train Epoch: 19 [10240/49920 (21%)]\tLoss: 1.324686\n"
          ],
          "name": "stdout"
        },
        {
          "output_type": "stream",
          "text": [
            " 27%|██▋       | 52/195 [00:10<00:29,  4.85it/s]"
          ],
          "name": "stderr"
        },
        {
          "output_type": "stream",
          "text": [
            "Train Epoch: 19 [12800/49920 (26%)]\tLoss: 1.355802\n"
          ],
          "name": "stdout"
        },
        {
          "output_type": "stream",
          "text": [
            " 32%|███▏      | 62/195 [00:12<00:27,  4.84it/s]"
          ],
          "name": "stderr"
        },
        {
          "output_type": "stream",
          "text": [
            "Train Epoch: 19 [15360/49920 (31%)]\tLoss: 1.362676\n"
          ],
          "name": "stdout"
        },
        {
          "output_type": "stream",
          "text": [
            " 36%|███▋      | 71/195 [00:14<00:25,  4.84it/s]"
          ],
          "name": "stderr"
        },
        {
          "output_type": "stream",
          "text": [
            "Train Epoch: 19 [17920/49920 (36%)]\tLoss: 1.346512\n"
          ],
          "name": "stdout"
        },
        {
          "output_type": "stream",
          "text": [
            " 42%|████▏     | 81/195 [00:16<00:23,  4.86it/s]"
          ],
          "name": "stderr"
        },
        {
          "output_type": "stream",
          "text": [
            "Train Epoch: 19 [20480/49920 (41%)]\tLoss: 1.326162\n"
          ],
          "name": "stdout"
        },
        {
          "output_type": "stream",
          "text": [
            " 47%|████▋     | 91/195 [00:18<00:21,  4.89it/s]"
          ],
          "name": "stderr"
        },
        {
          "output_type": "stream",
          "text": [
            "Train Epoch: 19 [23040/49920 (46%)]\tLoss: 1.330794\n"
          ],
          "name": "stdout"
        },
        {
          "output_type": "stream",
          "text": [
            " 52%|█████▏    | 101/195 [00:20<00:19,  4.87it/s]"
          ],
          "name": "stderr"
        },
        {
          "output_type": "stream",
          "text": [
            "Train Epoch: 19 [25600/49920 (51%)]\tLoss: 1.338065\n"
          ],
          "name": "stdout"
        },
        {
          "output_type": "stream",
          "text": [
            " 57%|█████▋    | 111/195 [00:23<00:17,  4.78it/s]"
          ],
          "name": "stderr"
        },
        {
          "output_type": "stream",
          "text": [
            "Train Epoch: 19 [28160/49920 (56%)]\tLoss: 1.312569\n"
          ],
          "name": "stdout"
        },
        {
          "output_type": "stream",
          "text": [
            " 63%|██████▎   | 122/195 [00:25<00:14,  4.92it/s]"
          ],
          "name": "stderr"
        },
        {
          "output_type": "stream",
          "text": [
            "Train Epoch: 19 [30720/49920 (62%)]\tLoss: 1.342836\n"
          ],
          "name": "stdout"
        },
        {
          "output_type": "stream",
          "text": [
            " 67%|██████▋   | 131/195 [00:27<00:13,  4.78it/s]"
          ],
          "name": "stderr"
        },
        {
          "output_type": "stream",
          "text": [
            "Train Epoch: 19 [33280/49920 (67%)]\tLoss: 1.334993\n"
          ],
          "name": "stdout"
        },
        {
          "output_type": "stream",
          "text": [
            " 72%|███████▏  | 141/195 [00:29<00:11,  4.82it/s]"
          ],
          "name": "stderr"
        },
        {
          "output_type": "stream",
          "text": [
            "Train Epoch: 19 [35840/49920 (72%)]\tLoss: 1.349276\n"
          ],
          "name": "stdout"
        },
        {
          "output_type": "stream",
          "text": [
            " 77%|███████▋  | 151/195 [00:31<00:09,  4.87it/s]"
          ],
          "name": "stderr"
        },
        {
          "output_type": "stream",
          "text": [
            "Train Epoch: 19 [38400/49920 (77%)]\tLoss: 1.353066\n"
          ],
          "name": "stdout"
        },
        {
          "output_type": "stream",
          "text": [
            " 83%|████████▎ | 161/195 [00:33<00:06,  4.96it/s]"
          ],
          "name": "stderr"
        },
        {
          "output_type": "stream",
          "text": [
            "Train Epoch: 19 [40960/49920 (82%)]\tLoss: 1.336592\n"
          ],
          "name": "stdout"
        },
        {
          "output_type": "stream",
          "text": [
            " 88%|████████▊ | 172/195 [00:35<00:04,  4.98it/s]"
          ],
          "name": "stderr"
        },
        {
          "output_type": "stream",
          "text": [
            "Train Epoch: 19 [43520/49920 (87%)]\tLoss: 1.330062\n"
          ],
          "name": "stdout"
        },
        {
          "output_type": "stream",
          "text": [
            " 93%|█████████▎| 182/195 [00:37<00:02,  4.90it/s]"
          ],
          "name": "stderr"
        },
        {
          "output_type": "stream",
          "text": [
            "Train Epoch: 19 [46080/49920 (92%)]\tLoss: 1.335926\n"
          ],
          "name": "stdout"
        },
        {
          "output_type": "stream",
          "text": [
            " 98%|█████████▊| 192/195 [00:39<00:00,  4.93it/s]"
          ],
          "name": "stderr"
        },
        {
          "output_type": "stream",
          "text": [
            "Train Epoch: 19 [48640/49920 (97%)]\tLoss: 1.337107\n"
          ],
          "name": "stdout"
        },
        {
          "output_type": "stream",
          "text": [
            "100%|██████████| 195/195 [00:40<00:00,  5.55it/s]\n"
          ],
          "name": "stderr"
        },
        {
          "output_type": "stream",
          "text": [
            "Input\t great sigh and leaned against the cavern wall. \"I am weak...\" he said. \"Don't worry, sir,\" said Har\n",
            "GT\tgreat sigh and leaned against the cavern wall. \"I am weak...\" he said. \"Don't worry, sir,\" said Harr\n",
            "pred\ttooat tulhtond teartd ttainst the corerioahsl  \"I dm te ri\".  se said  \"Io 't yarry  wor   said Harr\n",
            "\n",
            "\n",
            "Input\t dragged. \"Save your energy, sir. . . . We'll soon be out of here. . . .\" \"The archway will have sea\n",
            "GT\tdragged. \"Save your energy, sir. . . . We'll soon be out of here. . . .\" \"The archway will have seal\n",
            "pred\tIoawo   \"IIhye your saorae  aor  I . . .elll be n ae ant of tir  \"I . .  \"Iha dnrheay well bave teer\n",
            "\n",
            "\n",
            "Input\t... I can Apparate us both back . . . Don't worry. . . .\" \"I am not worried, Harry,\" said Dumbledore\n",
            "GT\t.. I can Apparate us both back . . . Don't worry. . . .\" \"I am not worried, Harry,\" said Dumbledore,\n",
            "pred\t   I dan ynparate as aeth teck t . . .un't yarky  I . .  \"I dm tot tarkied  aarry,  said Humbledore \n",
            "\n",
            "\n",
            "Input\this eyes: the smell of salt, the sea breeze had gone. He and Dumbledore were shivering and dripping \n",
            "GT\tis eyes: the smell of salt, the sea breeze had gone. He and Dumbledore were shivering and dripping i\n",
            "pred\t n hyes  hhe ctall of ttm   ahe stctooaanedoad sote  Ha wnd Humbledore sare stanering atd seanpeng h\n",
            "\n",
            "\n",
            "Input\tparition had thrown Dumbledore off-balance; then he saw his face, paler and damper than ever in the \n",
            "GT\tarition had thrown Dumbledore off-balance; then he saw his face, paler and damper than ever in the d\n",
            "pred\torenenn aid bheeun tumbledore an  cotlrce  the  he sai tis hace  aare  and serp riahet hverytn the c\n",
            "\n",
            "\n"
          ],
          "name": "stdout"
        },
        {
          "output_type": "stream",
          "text": [
            "\r  0%|          | 0/195 [00:00<?, ?it/s]"
          ],
          "name": "stderr"
        },
        {
          "output_type": "stream",
          "text": [
            "\n",
            "Test set: Average loss: 1.4133, Accuracy: 727815/1254400 (58%)\n",
            "\n",
            "Saved /content/checkpoints/019.pt\n",
            "\n"
          ],
          "name": "stdout"
        },
        {
          "output_type": "stream",
          "text": [
            "\r  1%|          | 1/195 [00:00<00:58,  3.30it/s]"
          ],
          "name": "stderr"
        },
        {
          "output_type": "stream",
          "text": [
            "Train Epoch: 20 [0/49920 (0%)]\tLoss: 1.356461\n"
          ],
          "name": "stdout"
        },
        {
          "output_type": "stream",
          "text": [
            "  6%|▌         | 12/195 [00:02<00:37,  4.90it/s]"
          ],
          "name": "stderr"
        },
        {
          "output_type": "stream",
          "text": [
            "Train Epoch: 20 [2560/49920 (5%)]\tLoss: 1.344247\n"
          ],
          "name": "stdout"
        },
        {
          "output_type": "stream",
          "text": [
            " 11%|█         | 21/195 [00:04<00:36,  4.81it/s]"
          ],
          "name": "stderr"
        },
        {
          "output_type": "stream",
          "text": [
            "Train Epoch: 20 [5120/49920 (10%)]\tLoss: 1.319486\n"
          ],
          "name": "stdout"
        },
        {
          "output_type": "stream",
          "text": [
            " 16%|█▌        | 31/195 [00:06<00:33,  4.93it/s]"
          ],
          "name": "stderr"
        },
        {
          "output_type": "stream",
          "text": [
            "Train Epoch: 20 [7680/49920 (15%)]\tLoss: 1.340213\n"
          ],
          "name": "stdout"
        },
        {
          "output_type": "stream",
          "text": [
            " 21%|██        | 41/195 [00:08<00:32,  4.78it/s]"
          ],
          "name": "stderr"
        },
        {
          "output_type": "stream",
          "text": [
            "Train Epoch: 20 [10240/49920 (21%)]\tLoss: 1.323361\n"
          ],
          "name": "stdout"
        },
        {
          "output_type": "stream",
          "text": [
            " 26%|██▌       | 51/195 [00:10<00:29,  4.92it/s]"
          ],
          "name": "stderr"
        },
        {
          "output_type": "stream",
          "text": [
            "Train Epoch: 20 [12800/49920 (26%)]\tLoss: 1.354433\n"
          ],
          "name": "stdout"
        },
        {
          "output_type": "stream",
          "text": [
            " 31%|███▏      | 61/195 [00:12<00:27,  4.95it/s]"
          ],
          "name": "stderr"
        },
        {
          "output_type": "stream",
          "text": [
            "Train Epoch: 20 [15360/49920 (31%)]\tLoss: 1.356169\n"
          ],
          "name": "stdout"
        },
        {
          "output_type": "stream",
          "text": [
            " 37%|███▋      | 72/195 [00:14<00:25,  4.89it/s]"
          ],
          "name": "stderr"
        },
        {
          "output_type": "stream",
          "text": [
            "Train Epoch: 20 [17920/49920 (36%)]\tLoss: 1.340292\n"
          ],
          "name": "stdout"
        },
        {
          "output_type": "stream",
          "text": [
            " 42%|████▏     | 82/195 [00:16<00:22,  4.96it/s]"
          ],
          "name": "stderr"
        },
        {
          "output_type": "stream",
          "text": [
            "Train Epoch: 20 [20480/49920 (41%)]\tLoss: 1.323557\n"
          ],
          "name": "stdout"
        },
        {
          "output_type": "stream",
          "text": [
            " 47%|████▋     | 91/195 [00:18<00:21,  4.75it/s]"
          ],
          "name": "stderr"
        },
        {
          "output_type": "stream",
          "text": [
            "Train Epoch: 20 [23040/49920 (46%)]\tLoss: 1.328873\n"
          ],
          "name": "stdout"
        },
        {
          "output_type": "stream",
          "text": [
            " 52%|█████▏    | 101/195 [00:20<00:19,  4.90it/s]"
          ],
          "name": "stderr"
        },
        {
          "output_type": "stream",
          "text": [
            "Train Epoch: 20 [25600/49920 (51%)]\tLoss: 1.337644\n"
          ],
          "name": "stdout"
        },
        {
          "output_type": "stream",
          "text": [
            " 57%|█████▋    | 111/195 [00:22<00:17,  4.78it/s]"
          ],
          "name": "stderr"
        },
        {
          "output_type": "stream",
          "text": [
            "Train Epoch: 20 [28160/49920 (56%)]\tLoss: 1.310568\n"
          ],
          "name": "stdout"
        },
        {
          "output_type": "stream",
          "text": [
            " 62%|██████▏   | 121/195 [00:24<00:15,  4.87it/s]"
          ],
          "name": "stderr"
        },
        {
          "output_type": "stream",
          "text": [
            "Train Epoch: 20 [30720/49920 (62%)]\tLoss: 1.341810\n"
          ],
          "name": "stdout"
        },
        {
          "output_type": "stream",
          "text": [
            " 67%|██████▋   | 131/195 [00:26<00:12,  5.02it/s]"
          ],
          "name": "stderr"
        },
        {
          "output_type": "stream",
          "text": [
            "Train Epoch: 20 [33280/49920 (67%)]\tLoss: 1.339266\n"
          ],
          "name": "stdout"
        },
        {
          "output_type": "stream",
          "text": [
            " 73%|███████▎  | 142/195 [00:29<00:10,  4.90it/s]"
          ],
          "name": "stderr"
        },
        {
          "output_type": "stream",
          "text": [
            "Train Epoch: 20 [35840/49920 (72%)]\tLoss: 1.354990\n"
          ],
          "name": "stdout"
        },
        {
          "output_type": "stream",
          "text": [
            " 78%|███████▊  | 152/195 [00:31<00:08,  4.96it/s]"
          ],
          "name": "stderr"
        },
        {
          "output_type": "stream",
          "text": [
            "Train Epoch: 20 [38400/49920 (77%)]\tLoss: 1.347249\n"
          ],
          "name": "stdout"
        },
        {
          "output_type": "stream",
          "text": [
            " 83%|████████▎ | 161/195 [00:33<00:06,  4.87it/s]"
          ],
          "name": "stderr"
        },
        {
          "output_type": "stream",
          "text": [
            "Train Epoch: 20 [40960/49920 (82%)]\tLoss: 1.337416\n"
          ],
          "name": "stdout"
        },
        {
          "output_type": "stream",
          "text": [
            " 88%|████████▊ | 171/195 [00:35<00:04,  4.89it/s]"
          ],
          "name": "stderr"
        },
        {
          "output_type": "stream",
          "text": [
            "Train Epoch: 20 [43520/49920 (87%)]\tLoss: 1.325662\n"
          ],
          "name": "stdout"
        },
        {
          "output_type": "stream",
          "text": [
            " 93%|█████████▎| 181/195 [00:37<00:02,  4.90it/s]"
          ],
          "name": "stderr"
        },
        {
          "output_type": "stream",
          "text": [
            "Train Epoch: 20 [46080/49920 (92%)]\tLoss: 1.330890\n"
          ],
          "name": "stdout"
        },
        {
          "output_type": "stream",
          "text": [
            " 98%|█████████▊| 191/195 [00:39<00:00,  4.84it/s]"
          ],
          "name": "stderr"
        },
        {
          "output_type": "stream",
          "text": [
            "Train Epoch: 20 [48640/49920 (97%)]\tLoss: 1.334098\n"
          ],
          "name": "stdout"
        },
        {
          "output_type": "stream",
          "text": [
            "100%|██████████| 195/195 [00:39<00:00,  5.55it/s]\n"
          ],
          "name": "stderr"
        },
        {
          "output_type": "stream",
          "text": [
            "Input\t great sigh and leaned against the cavern wall. \"I am weak...\" he said. \"Don't worry, sir,\" said Har\n",
            "GT\tgreat sigh and leaned against the cavern wall. \"I am weak...\" he said. \"Don't worry, sir,\" said Harr\n",
            "pred\ttooat tulhtond toartd ttainst the coreriohhsl  HI dm te ri\".  se said  \"Iu 't yarry  wor   said Harr\n",
            "\n",
            "\n",
            "Input\t dragged. \"Save your energy, sir. . . . We'll soon be out of here. . . .\" \"The archway will have sea\n",
            "GT\tdragged. \"Save your energy, sir. . . . We'll soon be out of here. . . .\" \"The archway will have seal\n",
            "pred\tIoawo   \"IIhye your saorae  aor  I . . .elll be n te ant of ter  \"I . .  \"Ihe dnmhmay watl bave teer\n",
            "\n",
            "\n",
            "Input\t... I can Apparate us both back . . . Don't worry. . . .\" \"I am not worried, Harry,\" said Dumbledore\n",
            "GT\t.. I can Apparate us both back . . . Don't worry. . . .\" \"I am not worried, Harry,\" said Dumbledore,\n",
            "pred\t   I dan'ynparate as aeth teck i . . .un't yarky  I . .  \"I dm tot tarkied  aarry,  said Humbledore \n",
            "\n",
            "\n",
            "Input\this eyes: the smell of salt, the sea breeze had gone. He and Dumbledore were shivering and dripping \n",
            "GT\tis eyes: the smell of salt, the sea breeze had gone. He and Dumbledore were shivering and dripping i\n",
            "pred\t n hyes  hhe stall of ttm   whe stctooaanedoad sote  Ha wnd Humbledore ware stanering atd soanping h\n",
            "\n",
            "\n",
            "Input\tparition had thrown Dumbledore off-balance; then he saw his face, paler and damper than ever in the \n",
            "GT\tarition had thrown Dumbledore off-balance; then he saw his face, paler and damper than ever in the d\n",
            "pred\toreninn aad bheeun tumbledore wn  cotlrce  the  he sai tis hace  aare  and serp riohet hverytn the c\n",
            "\n",
            "\n",
            "\n",
            "Test set: Average loss: 1.4123, Accuracy: 727933/1254400 (58%)\n",
            "\n",
            "Saved /content/checkpoints/020.pt\n",
            "\n",
            "Saving final model\n",
            "Saved /content/checkpoints/020.pt\n",
            "\n"
          ],
          "name": "stdout"
        },
        {
          "output_type": "display_data",
          "data": {
            "image/png": "[encoded data removed]",
            "text/plain": [
              "<Figure size 1440x720 with 1 Axes>"
            ]
          },
          "metadata": {
            "tags": []
          }
        },
        {
          "output_type": "display_data",
          "data": {
            "image/png": "[encoded data removed]",
            "text/plain": [
              "<Figure size 1440x720 with 1 Axes>"
            ]
          },
          "metadata": {
            "tags": []
          }
        },
        {
          "output_type": "display_data",
          "data": {
            "image/png": "[encoded data removed]",
            "text/plain": [
              "<Figure size 1440x720 with 1 Axes>"
            ]
          },
          "metadata": {
            "tags": []
          }
        },
        {
          "output_type": "display_data",
          "data": {
            "image/png": "[encoded data removed]",
            "text/plain": [
              "<Figure size 1440x720 with 1 Axes>"
            ]
          },
          "metadata": {
            "tags": []
          }
        },
        {
          "output_type": "display_data",
          "data": {
            "image/png": "[encoded data removed]",
            "text/plain": [
              "<Figure size 1440x720 with 1 Axes>"
            ]
          },
          "metadata": {
            "tags": []
          }
        }
      ]
    },
    {
      "cell_type": "markdown",
      "metadata": {
        "id": "r597GUTVjwZc",
        "colab_type": "text"
      },
      "source": [
        "#Part 7: Experiments"
      ]
    },
    {
      "cell_type": "code",
      "metadata": {
        "id": "zgLylYlp9kBK",
        "colab_type": "code",
        "outputId": "72e9634e-d1be-426f-f9e1-40e914b68814",
        "colab": {
          "base_uri": "https://localhost:8080/",
          "height": 159
        }
      },
      "source": [
        "def eval_final_model(model, vocab, device):\n",
        "    seed_words = 'His blue eyes were light, bright, and sparkling behind'\n",
        "    sequence_length = 200\n",
        "\n",
        "    generated_sentence = generate_language(model, device, seed_words, sequence_length, vocab, 'max')\n",
        "    print('generated with max\\t', generated_sentence)\n",
        "\n",
        "    for ii in range(3):\n",
        "        generated_sentence = generate_language(model, device, seed_words, sequence_length, vocab, 'sample')\n",
        "        print('generated with sample\\t', generated_sentence)\n",
        "\n",
        "    for ii in range(3):\n",
        "        generated_sentence = generate_language(model, device, seed_words, sequence_length, vocab, 'beam')\n",
        "        print('generated with beam\\t', generated_sentence)\n",
        "\n",
        "eval_final_model(final_model, vocab, device)"
      ],
      "execution_count": 0,
      "outputs": [
        {
          "output_type": "stream",
          "text": [
            "generated with max\t His blue eyes were light, bright, and sparkling behind the corridor and the stand and started and the stand and started and the stand and started and the stand and started and the stand and started and the stand and started and the stand and started and \n",
            "generated with sample\t His blue eyes were light, bright, and sparkling behind a for around another, sin%ing. Tunning Quffusture can't I\" \"Yearly SleckeD? you knee, and, and dadn' gobby don't be got anxkeves?\" She say know, was gold glassed around the mage bed over the late Bla\n",
            "generated with sample\t His blue eyes were light, bright, and sparkling behind its plint round away, from the enough Goody wand at to ~profele, they missed appoints. The finby our of SNED!I)EDET SYEUB?K !\"S is fortstand. The kill storuz3be or that Blaston: He saw on the feed to\n",
            "generated with sample\t His blue eyes were light, bright, and sparkling behindveshird. but know..\" Sorned, is there doing.\" \"Yes, jum murds?\" BiAng comn! Malfoy was Colfinal of Hook traying instean to fize surgent my now bar. Harry wo'll knot spitQy. Woor divent,\" said Harry du\n",
            "generated with beam\t His blue eyes were light, bright, and sparkling behind the corridor and the stand and started and the stand and was a long of the corridor and the could be an everyone was a stand and was a long of the corridor and the could be an everyone was a long of \n",
            "generated with beam\t His blue eyes were light, bright, and sparkling behind the corridor and the stand and was a stand and started and started and the could start and the stand and started and the could be an every start of the corridor and the could be an on the first of th\n",
            "generated with beam\t His blue eyes were light, bright, and sparkling behind the corridor and the could be an everyone was a stand and was a stand and the stand and started and the stand and started and the stand and started and the stand and started and the could be an every\n"
          ],
          "name": "stdout"
        }
      ]
    },
    {
      "cell_type": "markdown",
      "metadata": {
        "id": "pn0RWPBFjzkP",
        "colab_type": "text"
      },
      "source": [
        "#Part 8: Other things\n",
        "Choose **three** of the following to try. You should create new code cells below rather than modifying your earlier code:\n",
        "\n",
        "\n",
        "1. Train on a different text corpus. The corpus should be at least as large as the provided Harry Potter dataset.\n",
        "    - Options include other books, websites, tweets, wikipedia articles etc.\n",
        "    -  (Hint: this is probably the easiest one)\n",
        "1. Find a better network architecture. Some ideas:\n",
        "    - Look at the various options in https://pytorch.org/docs/stable/nn.html#torch.nn.GRU\n",
        "    - You can make the network wider or deeper.\n",
        "    - You can try to learn separate encoders and decoders.\n",
        "1. Use an LSTM instead of a GRU.\n",
        "    - https://pytorch.org/docs/stable/nn.html#torch.nn.LSTM\n",
        "    - The output of an LSTM is a hidden state **and** a cell state, so you will need to deal with a tuple instead of a single vector.\n",
        "1. Use a Transformer instead of a GRU.\n",
        "    - https://pytorch.org/docs/stable/nn.html#torch.nn.Transformer\n",
        "    - Be sure to get the masks right so you don't condition on the future characters: https://pytorch.org/docs/stable/nn.html#torch.nn.Transformer.generate_square_subsequent_mask may be of use.\n",
        "1. Train a model using student-forcing.\n",
        "    - You will have to modify the network inputs.\n",
        "    - You will need to use `torch.nn.GRUCell` and its like. https://pytorch.org/docs/stable/nn.html#grucell\n",
        "    - You cannot simply feed an empty string to start off a sequence. The sequence must be somehow conditioned on prior ground truth.\n",
        "1. Train a model on words instead of characters.\n",
        "    - You will need to redefine your input/output space vocabulary as well.\n",
        "    - You should replace any words that occur less than 5 times in the dataset with an <unknown\\> token. \n",
        "1. Write a new data loader which picks a random point in the text to start from and returns 10 consecutive sequences starting from that point onward. \n",
        "    - You should also modify the train and test functions to reset the memory when you reset the sequence.\n",
        "    - You should consider an epoch to be feeding in approximately the number of characters in the dataset.\n",
        "    - You may run into issues if your dataset size/epochs are not a multiple of your batch size.\n",
        "1. Train on sentences instead of one long sequence.\n",
        "    - You should still produce output character by character.\n",
        "    - Sentences can end with a . ! ?, but words like Mr. generally do not end a sentence.\n",
        "    - A sentence may also continue in the case of quotations. For example: ``\"Do your homework!\" said the TAs.`` is only one sentence.\n",
        "    - Your parsing does not have to be perfect, but try to incorporate as many of these rules as you can.\n",
        "    - Feel free to use existing NLP tools for finding sentence endings. One is spacy: https://spacy.io/usage/linguistic-features#section-sbd\n",
        "    - All sentences should end with an <eos\\> token. Your output sampling should now stop when it produces the <eos\\> token.\n",
        "\n"
      ]
    },
    {
      "cell_type": "markdown",
      "metadata": {
        "id": "vWMlB2U3onZ0",
        "colab_type": "text"
      },
      "source": [
        "#Part 9: Short answer questions\n",
        "Please answer these questions, and put the answers in a file called short_answer.pdf in your repository.\n",
        "\n",
        "\n",
        "1. Just like last time, provide plots for training error, test error, and test accuracy. Also provide a plot of your train and test perplexity per epoch.\n",
        "    - In class we defined perplexity as `2^(p*log_2(q))`, However the PyTorch cross entropy function uses the natural log. To compute perplexity directly from the cross entropy, you should use `e^p*ln(q)`.\n",
        "    - We encourage you to try multiple network modifications and hyperparameters, but you only need to provide plots for your best model. Please list the modifications and hyperparameters.    \n",
        "    \n",
        "2. What was your final test accuracy? What was your final test perplexity?\n",
        "3. What was your favorite sentence generated via each of the sampling methods? What was the prompt you gave to generate that sentence?\n",
        "4. Which sampling method seemed to generate the best results? Why do you think that is?\n",
        "5. For sampling and beam search, try multiple temperatures between 0 and 2. \n",
        "    - Which produces the best outputs? Best as in made the most sense, your favorite, or funniest, doesn't really matter how you decide.\n",
        "    - What does a temperature of 0 do? What does a temperature of 0<temp<1 do? What does a temperature of 1 do? What does a temperature of above 1 do? What would a negative temperature do (assuming the code allowed for negative temperature)?\n",
        "    \n",
        "Questions for each of the \"Other things\" sections. Only answer the questions corresponding to the ones you chose.\n",
        "\n",
        "1. New Corpus\n",
        "    1. What corpus did you choose? How many characters were in it?\n",
        "    2. What differences did you notice between the sentences generated with the new/vs old corpus.\n",
        "    3. Provide outputs for each sampling method on the new corpus (you can pick one temperature, but say what it was).\n",
        "\n",
        "1. New Architecture\n",
        "    1. What was your design? What did you try that didn't work well?\n",
        "    2. What was your lowest test perplexity? Provide training and testing plots.\n",
        "    3. Provide outputs for each sampling method on the new corpus (you can pick one temperature, but say what it was).\n",
        "\n",
        "1. LSTM\n",
        "    1. What new difficulties did you run into while training?\n",
        "    2. Were results better than the GRU? Provide training and testing plots.\n",
        "    3. Provide outputs for each sampling method on the new corpus (you can pick one temperature, but say what it was).\n",
        "\n",
        "1. Transformer\n",
        "    1. What new difficulties did you run into while training?\n",
        "    2. Were results better than the GRU? Provide training and testing plots.\n",
        "    3. Provide outputs for each sampling method on the new corpus (you can pick one temperature, but say what it was).\n",
        "    \n",
        "1. Student-forcing\n",
        "    1. What new difficulties did you run into while training?\n",
        "    2. Were the results better than with teacher-forcing?\n",
        "    3. Provide some outputs for each sampling method (you can pick one temperature, but say what it was).\n",
        "    \n",
        "1. Words\n",
        "    1. What new difficulties did you run into while training?\n",
        "    2. How large was your vocabulary?\n",
        "    3. Did you find that different batch size, sequence length, and feature size and other hyperparameters were needed? If so, what worked best for you?\n",
        "\n",
        "1. Random Dataloader\n",
        "    1. What new difficulties did you run into while training?\n",
        "    2. Were the results better than with the original dataloader?\n",
        "    3. Provide some outputs for each sampling method (you can pick one temperature, but say what it was). \n",
        "    \n",
        "1. Sentences\n",
        "    1. What new difficulties did you run into while training? What new difficulties did you run into while preprocessing?\n",
        "    2. Were the results better than with the original dataloader?\n",
        "    3. Provide some outputs for each sampling method (you can pick one temperature, but say what it was). \n",
        "\n",
        "\n",
        "    "
      ]
    }
  ]
}